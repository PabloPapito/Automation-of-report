{
 "cells": [
  {
   "cell_type": "code",
   "execution_count": 38,
   "id": "ae3edb49-3c64-4f2a-8a5e-4ddf48d13a69",
   "metadata": {},
   "outputs": [],
   "source": [
    "import os\n",
    "import glob\n",
    "import pandas as pd\n",
    "# import seaborn as sns\n",
    "# from matplotlib import pyplot as plt\n",
    "import plotly.express as px"
   ]
  },
  {
   "cell_type": "code",
   "execution_count": 39,
   "id": "2450d7d3-57fc-431d-aa91-8b961bea984d",
   "metadata": {},
   "outputs": [],
   "source": [
    "# INCOMING\n",
    "\n",
    "# os.mkdir(r'C:\\Users\\pawgolen\\Downloads\\top ofenders issues tracker')\n",
    "# os.chdir(r'C:\\Users\\pawgolen\\Downloads\\top ofenders issues tracker\\do_Github')\n",
    "# extension_1 = 'csv'\n",
    "# all_filenames_1 = [i for i in glob.glob('*IN.{}'.format(extension_1))]\n",
    "# one_file_1 = pd.concat([pd.read_csv(f) for f in all_filenames_1 ])\n",
    "# one_file_1.to_csv( \"IN_file.csv\", index=False, encoding='utf-8-sig')"
   ]
  },
  {
   "cell_type": "code",
   "execution_count": 40,
   "id": "e7350a63-e959-4604-84a3-5ee2b155950f",
   "metadata": {},
   "outputs": [],
   "source": [
    "# OUTGOING\n",
    "\n",
    "# # os.mkdir(r'C:\\Users\\pawgolen\\Downloads\\top ofenders issues tracker')\n",
    "# os.chdir(r'C:\\Users\\pawgolen\\Downloads\\top ofenders issues tracker\\do_GitHub')\n",
    "# extension_2 = 'csv'\n",
    "# all_filenames_2 = [i for i in glob.glob('*OUT.{}'.format(extension_2))]\n",
    "# one_file_2 = pd.concat([pd.read_csv(f) for f in all_filenames_2 ])\n",
    "# one_file_2.to_csv( \"OUT_file.csv\", index=False, encoding='utf-8-sig')"
   ]
  },
  {
   "cell_type": "code",
   "execution_count": 41,
   "id": "bf8e76fd-c02f-4f07-b632-f8c1418e779e",
   "metadata": {
    "tags": []
   },
   "outputs": [],
   "source": [
    "incoming = pd.read_csv(r'C:\\Users\\pawgolen\\Downloads\\top ofenders issues tracker\\do_GitHub\\IN_file.csv', encoding='cp1252')\n",
    "outgoing = pd.read_csv(r'C:\\Users\\pawgolen\\Downloads\\top ofenders issues tracker\\do_GitHub\\OUT_file.csv', encoding='cp1252')\n",
    "whole_scope = pd.concat([incoming, outgoing])\n",
    "warehouse = [\"SITE1\", \"SITE2\", \"SITE3\", \"SITE4\", \"SITE5\", \"SITE6\", \"SITE7\",\n",
    "             \"SITE8\", \"SITE9\", \"SITE10\", \"SITE11\", \"SITE12\", \"SITE13\", \"SITE14\",\n",
    "             \"SITE15\", \"SITE16\", \"SITE17\", \"SITE18\", \"SITE19\", \"SITE20\", \"SITE21\",\n",
    "             \"SITE22\", \"SITE23\", \"SITE24\", \"SITE25\", \"SITE26\", \"SITE27\", \"SITE28\",\n",
    "             \"SITE29\", \"SITE30\", \"SITE31\", \"SITE32\", \"SITE33\", \"SITE34\", \"SITE35\",\n",
    "             \"SITE36\", \"SITE6\"\n",
    "]\n",
    "warehouse_dict = {\n",
    "    \"SITE1\": \"DE\",\n",
    "    \"SITE2\": \"DE\",\n",
    "    \"SITE3\": \"DE\",\n",
    "    \"SITE4\": \"DE\",\n",
    "    \"SITE5\": \"PL\",\n",
    "    \"SITE6\": \"PL\",\n",
    "    \"SITE7\": \"PL\",\n",
    "    \"SITE8\": \"IT\",\n",
    "    \"SITE9\": \"IT\",\n",
    "    \"SITE10\": \"IT\",\n",
    "    \"SITE11\": \"IT\",\n",
    "    \"SITE12\": \"UK\",\n",
    "    \"SITE13\": \"UK\",\n",
    "    \"SITE14\": \"UK\",\n",
    "    \"SITE15\": \"UK\",\n",
    "    \"SITE16\": \"DE\",\n",
    "    \"SITE17\": \"PL\",\n",
    "    \"SITE18\": \"IT\",\n",
    "    \"SITE19\": \"ES\",\n",
    "    \"SITE20\": \"ES\",\n",
    "    \"SITE21\": \"FR\",\n",
    "    \"SITE22\": \"FR\",\n",
    "    \"SITE23\": \"FR\",\n",
    "    \"SITE24\": \"FR\",\n",
    "    \"SITE25\": \"FR\",\n",
    "    \"SITE26\": \"FR\",\n",
    "    \"SITE27\": \"FR\",\n",
    "    \"SITE28\": \"UK\",\n",
    "    \"SITE29\": \"DE\",\n",
    "    \"SITE30\": \"PL\",\n",
    "    \"SITE31\": \"SE\",\n",
    "    \"SITE32\": \"FR\",\n",
    "    \"SITE33\": \"UK\",\n",
    "    \"SITE34\": \"DE\",\n",
    "    \"SITE35\": \"FR\",\n",
    "    \"SITE36\": \"FR\",\n",
    "}\n",
    "\n",
    "warehouse_dict_managers = {\n",
    "    \"SITE1\": \"Beata\",\n",
    "    \"SITE2\": \"Beata\",\n",
    "    \"SITE3\": \"Beata\",\n",
    "    \"SITE4\": \"Beata\",\n",
    "    \"SITE5\": \"Beata\",\n",
    "    \"SITE6\": \"Beata\",\n",
    "    \"SITE7\": \"Beata\",\n",
    "    \"SITE8\": \"Beata\",\n",
    "    \"SITE9\": \"Beata\",\n",
    "    \"SITE10\": \"Beata\",\n",
    "    \"SITE11\": \"Beata\",\n",
    "    \"SITE12\": \"Beata\",\n",
    "    \"SITE13\": \"Beata\",\n",
    "    \"SITE14\": \"Beata\",\n",
    "    \"SITE15\": \"Beata\",\n",
    "    \"SITE16\": \"Katarzyna\",\n",
    "    \"SITE17\": \"Katarzyna\",\n",
    "    \"SITE18\": \"Katarzyna\",\n",
    "    \"SITE19\": \"Katarzyna\",\n",
    "    \"SITE20\": \"Katarzyna\",\n",
    "    \"SITE21\": \"Katarzyna\",\n",
    "    \"SITE22\": \"Katarzyna\",\n",
    "    \"SITE23\": \"Katarzyna\",\n",
    "    \"SITE24\": \"Katarzyna\",\n",
    "    \"SITE25\": \"Katarzyna\",\n",
    "    \"SITE26\": \"Katarzyna\",\n",
    "    \"SITE27\": \"Katarzyna\",\n",
    "    \"SITE28\": \"Katarzyna\",\n",
    "    \"SITE29\": \"Tomasz\",\n",
    "    \"SITE30\": \"Tomasz\",\n",
    "    \"SITE31\": \"Tomasz\",\n",
    "    \"SITE32\": \"Tomasz\",\n",
    "    \"SITE33\": \"Tomasz\",\n",
    "    \"SITE34\": \"Tomasz\",\n",
    "    \"SITE35\": \"Tomasz\",\n",
    "    \"SITE36\": \"Tomasz\",\n",
    "}\n",
    "# warehouse = ['XPLA', 'XWR1', 'XPLB', 'XPLC', 'XDR1', 'XPLD', 'XPO1', 'XPLE', 'XWR3', 'XDEH',\n",
    "#              'XFR2', 'XDEQ', 'XSC1', 'XDET', 'XDU1', 'XDEW', 'XFR3', 'XDEY', 'XFR1', 'XDEZ',\n",
    "#              'XDU2', 'XUKD', 'XBH1', 'XUKN', 'XBH2', 'XUKO', 'XBH5', 'XUKR', 'XDS1', 'XUKP',\n",
    "#              'XBH4', 'XLP1', 'XBH7', 'XITC', 'XMP2', 'XITD', 'XMP1', 'XITG', 'XLI1', 'XITI',\n",
    "#              'XLI3', 'XITK', 'XMP4', 'XSE1', 'XAR1', 'XESC', 'XRE1', 'XESA', 'XMA1', 'XESF',\n",
    "#              'XMA3', 'XESE', 'XMA2', 'XFRE', 'XOR2', 'XFRF', 'XOR3', 'XFRK', 'XOR6', 'XFRO',\n",
    "#              'XOR1', 'XFRL', 'XOS1', 'XFRZ', 'XVA1', 'XFRS', 'XCD1']\n",
    "# in or out[['ID', 'Category', 'Status', 'Warehouse', 'Update','Create']]"
   ]
  },
  {
   "cell_type": "code",
   "execution_count": 42,
   "id": "c5efc324-6c7c-41cf-9a27-5d69b27e6bcc",
   "metadata": {},
   "outputs": [],
   "source": [
    "incoming['Country'] = incoming['Warehouse'].map(warehouse_dict)\n",
    "incoming['Manager'] = incoming['Warehouse'].map(warehouse_dict_managers)\n",
    "outgoing['Country'] = outgoing['Warehouse'].map(warehouse_dict)\n",
    "outgoing['Manager'] = outgoing['Warehouse'].map(warehouse_dict_managers)\n",
    "whole_scope['Country'] = whole_scope['Warehouse'].map(warehouse_dict)\n",
    "whole_scope['Manager'] = whole_scope['Warehouse'].map(warehouse_dict_managers)"
   ]
  },
  {
   "cell_type": "code",
   "execution_count": 43,
   "id": "3326ba02-0677-40d3-b221-e95a27ebe742",
   "metadata": {},
   "outputs": [
    {
     "data": {
      "text/html": [
       "<div>\n",
       "<style scoped>\n",
       "    .dataframe tbody tr th:only-of-type {\n",
       "        vertical-align: middle;\n",
       "    }\n",
       "\n",
       "    .dataframe tbody tr th {\n",
       "        vertical-align: top;\n",
       "    }\n",
       "\n",
       "    .dataframe thead th {\n",
       "        text-align: right;\n",
       "    }\n",
       "</style>\n",
       "<table border=\"1\" class=\"dataframe\">\n",
       "  <thead>\n",
       "    <tr style=\"text-align: right;\">\n",
       "      <th></th>\n",
       "      <th>ID</th>\n",
       "      <th>Title</th>\n",
       "      <th>Category</th>\n",
       "      <th>Status</th>\n",
       "      <th>Warehouse</th>\n",
       "      <th>SLA</th>\n",
       "      <th>TT#</th>\n",
       "      <th>Update</th>\n",
       "      <th>Create</th>\n",
       "      <th>Sev</th>\n",
       "      <th>Unnamed: 10</th>\n",
       "      <th>Country</th>\n",
       "      <th>Manager</th>\n",
       "    </tr>\n",
       "  </thead>\n",
       "  <tbody>\n",
       "    <tr>\n",
       "      <th>0</th>\n",
       "      <td>1976608.0</td>\n",
       "      <td>Title_IN_452</td>\n",
       "      <td>Category_IN_34</td>\n",
       "      <td>Assigned</td>\n",
       "      <td>SITE7</td>\n",
       "      <td>24/0</td>\n",
       "      <td>8cbd1d55-2a8b-40f5-8c1c-0219c01e70ba</td>\n",
       "      <td>2022-12-01 20:00:09 +0100</td>\n",
       "      <td>2022-11-30 19:43:59 +0100</td>\n",
       "      <td>4.0</td>\n",
       "      <td>NaN</td>\n",
       "      <td>PL</td>\n",
       "      <td>Beata</td>\n",
       "    </tr>\n",
       "    <tr>\n",
       "      <th>1</th>\n",
       "      <td>1977855.0</td>\n",
       "      <td>Title_IN_201</td>\n",
       "      <td>Category_IN_114</td>\n",
       "      <td>Assigned</td>\n",
       "      <td>SITE5</td>\n",
       "      <td>0/0</td>\n",
       "      <td>578ee008-97ff-469b-acf6-16a9371236bf</td>\n",
       "      <td>2022-12-01 19:58:36 +0100</td>\n",
       "      <td>2022-12-01 19:58:36 +0100</td>\n",
       "      <td>4.0</td>\n",
       "      <td>NaN</td>\n",
       "      <td>PL</td>\n",
       "      <td>Beata</td>\n",
       "    </tr>\n",
       "    <tr>\n",
       "      <th>2</th>\n",
       "      <td>1977850.0</td>\n",
       "      <td>Title_IN_201</td>\n",
       "      <td>Category_IN_114</td>\n",
       "      <td>Assigned</td>\n",
       "      <td>SITE5</td>\n",
       "      <td>0/0</td>\n",
       "      <td>e31eb333-7d4f-47e3-8833-e15b9602248f</td>\n",
       "      <td>2022-12-01 19:48:43 +0100</td>\n",
       "      <td>2022-12-01 19:39:26 +0100</td>\n",
       "      <td>4.0</td>\n",
       "      <td>NaN</td>\n",
       "      <td>PL</td>\n",
       "      <td>Beata</td>\n",
       "    </tr>\n",
       "    <tr>\n",
       "      <th>3</th>\n",
       "      <td>1977852.0</td>\n",
       "      <td>Title_IN_311</td>\n",
       "      <td>Category_IN_166</td>\n",
       "      <td>Assigned</td>\n",
       "      <td>SITE5</td>\n",
       "      <td>0/0</td>\n",
       "      <td>7226908d-57b7-4cf2-b20b-f848177aff95</td>\n",
       "      <td>2022-12-01 19:46:59 +0100</td>\n",
       "      <td>2022-12-01 19:46:59 +0100</td>\n",
       "      <td>3.0</td>\n",
       "      <td>NaN</td>\n",
       "      <td>PL</td>\n",
       "      <td>Beata</td>\n",
       "    </tr>\n",
       "    <tr>\n",
       "      <th>4</th>\n",
       "      <td>1974478.0</td>\n",
       "      <td>Title_IN_370</td>\n",
       "      <td>Category_IN_166</td>\n",
       "      <td>Pending</td>\n",
       "      <td>SITE1</td>\n",
       "      <td>57/0</td>\n",
       "      <td>bce34e56-6a59-4a44-9011-0dc3cf90de59</td>\n",
       "      <td>2022-12-01 19:42:45 +0100</td>\n",
       "      <td>2022-11-29 10:19:39 +0100</td>\n",
       "      <td>3.0</td>\n",
       "      <td>NaN</td>\n",
       "      <td>DE</td>\n",
       "      <td>Beata</td>\n",
       "    </tr>\n",
       "    <tr>\n",
       "      <th>...</th>\n",
       "      <td>...</td>\n",
       "      <td>...</td>\n",
       "      <td>...</td>\n",
       "      <td>...</td>\n",
       "      <td>...</td>\n",
       "      <td>...</td>\n",
       "      <td>...</td>\n",
       "      <td>...</td>\n",
       "      <td>...</td>\n",
       "      <td>...</td>\n",
       "      <td>...</td>\n",
       "      <td>...</td>\n",
       "      <td>...</td>\n",
       "    </tr>\n",
       "    <tr>\n",
       "      <th>1132</th>\n",
       "      <td>1967521.0</td>\n",
       "      <td>Title_42</td>\n",
       "      <td>Category_82</td>\n",
       "      <td>Assigned</td>\n",
       "      <td>SITE13</td>\n",
       "      <td>179/24</td>\n",
       "      <td>545e04e3-95bd-4751-bc84-880e51812fcb</td>\n",
       "      <td>2022-11-24 08:17:53 +0100</td>\n",
       "      <td>2022-11-24 08:17:53 +0100</td>\n",
       "      <td>3.0</td>\n",
       "      <td>NaN</td>\n",
       "      <td>UK</td>\n",
       "      <td>Beata</td>\n",
       "    </tr>\n",
       "    <tr>\n",
       "      <th>1133</th>\n",
       "      <td>1952306.0</td>\n",
       "      <td>Title_40</td>\n",
       "      <td>Category_8</td>\n",
       "      <td>Assigned</td>\n",
       "      <td>SITE13</td>\n",
       "      <td>478/2048</td>\n",
       "      <td>b1dac401-0460-4b80-b057-7b1e42c0860b</td>\n",
       "      <td>2022-11-23 14:00:40 +0100</td>\n",
       "      <td>2022-11-11 21:11:12 +0100</td>\n",
       "      <td>5.0</td>\n",
       "      <td>NaN</td>\n",
       "      <td>UK</td>\n",
       "      <td>Beata</td>\n",
       "    </tr>\n",
       "    <tr>\n",
       "      <th>1134</th>\n",
       "      <td>1903065.0</td>\n",
       "      <td>Title_854</td>\n",
       "      <td>Category_85</td>\n",
       "      <td>Assigned</td>\n",
       "      <td>SITE14</td>\n",
       "      <td>1443/24</td>\n",
       "      <td>8fd74efa-0d42-4648-b3eb-bd1415169731</td>\n",
       "      <td>2022-11-23 11:43:37 +0100</td>\n",
       "      <td>2022-10-02 17:12:26 +0200</td>\n",
       "      <td>3.0</td>\n",
       "      <td>NaN</td>\n",
       "      <td>UK</td>\n",
       "      <td>Beata</td>\n",
       "    </tr>\n",
       "    <tr>\n",
       "      <th>1137</th>\n",
       "      <td>1964741.0</td>\n",
       "      <td>Title_128</td>\n",
       "      <td>Category_85</td>\n",
       "      <td>Assigned</td>\n",
       "      <td>SITE14</td>\n",
       "      <td>224/24</td>\n",
       "      <td>f2a37e4e-6c23-414f-93ed-a7d225dd5765</td>\n",
       "      <td>2022-11-22 11:20:45 +0100</td>\n",
       "      <td>2022-11-22 11:20:45 +0100</td>\n",
       "      <td>3.0</td>\n",
       "      <td>NaN</td>\n",
       "      <td>UK</td>\n",
       "      <td>Beata</td>\n",
       "    </tr>\n",
       "    <tr>\n",
       "      <th>1141</th>\n",
       "      <td>1935497.0</td>\n",
       "      <td>Title_518</td>\n",
       "      <td>Category_8</td>\n",
       "      <td>Assigned</td>\n",
       "      <td>SITE15</td>\n",
       "      <td>820/2048</td>\n",
       "      <td>61873155-590d-468a-88a7-7469363acea2</td>\n",
       "      <td>2022-11-20 09:16:18 +0100</td>\n",
       "      <td>2022-10-28 16:12:22 +0200</td>\n",
       "      <td>5.0</td>\n",
       "      <td>NaN</td>\n",
       "      <td>UK</td>\n",
       "      <td>Beata</td>\n",
       "    </tr>\n",
       "  </tbody>\n",
       "</table>\n",
       "<p>2162 rows × 13 columns</p>\n",
       "</div>"
      ],
      "text/plain": [
       "             ID         Title         Category    Status Warehouse       SLA  \\\n",
       "0     1976608.0  Title_IN_452   Category_IN_34  Assigned     SITE7      24/0   \n",
       "1     1977855.0  Title_IN_201  Category_IN_114  Assigned     SITE5       0/0   \n",
       "2     1977850.0  Title_IN_201  Category_IN_114  Assigned     SITE5       0/0   \n",
       "3     1977852.0  Title_IN_311  Category_IN_166  Assigned     SITE5       0/0   \n",
       "4     1974478.0  Title_IN_370  Category_IN_166   Pending     SITE1      57/0   \n",
       "...         ...           ...              ...       ...       ...       ...   \n",
       "1132  1967521.0      Title_42      Category_82  Assigned    SITE13    179/24   \n",
       "1133  1952306.0      Title_40       Category_8  Assigned    SITE13  478/2048   \n",
       "1134  1903065.0     Title_854      Category_85  Assigned    SITE14   1443/24   \n",
       "1137  1964741.0     Title_128      Category_85  Assigned    SITE14    224/24   \n",
       "1141  1935497.0     Title_518       Category_8  Assigned    SITE15  820/2048   \n",
       "\n",
       "                                       TT#                     Update  \\\n",
       "0     8cbd1d55-2a8b-40f5-8c1c-0219c01e70ba  2022-12-01 20:00:09 +0100   \n",
       "1     578ee008-97ff-469b-acf6-16a9371236bf  2022-12-01 19:58:36 +0100   \n",
       "2     e31eb333-7d4f-47e3-8833-e15b9602248f  2022-12-01 19:48:43 +0100   \n",
       "3     7226908d-57b7-4cf2-b20b-f848177aff95  2022-12-01 19:46:59 +0100   \n",
       "4     bce34e56-6a59-4a44-9011-0dc3cf90de59  2022-12-01 19:42:45 +0100   \n",
       "...                                    ...                        ...   \n",
       "1132  545e04e3-95bd-4751-bc84-880e51812fcb  2022-11-24 08:17:53 +0100   \n",
       "1133  b1dac401-0460-4b80-b057-7b1e42c0860b  2022-11-23 14:00:40 +0100   \n",
       "1134  8fd74efa-0d42-4648-b3eb-bd1415169731  2022-11-23 11:43:37 +0100   \n",
       "1137  f2a37e4e-6c23-414f-93ed-a7d225dd5765  2022-11-22 11:20:45 +0100   \n",
       "1141  61873155-590d-468a-88a7-7469363acea2  2022-11-20 09:16:18 +0100   \n",
       "\n",
       "                         Create  Sev Unnamed: 10 Country Manager  \n",
       "0     2022-11-30 19:43:59 +0100  4.0         NaN      PL   Beata  \n",
       "1     2022-12-01 19:58:36 +0100  4.0         NaN      PL   Beata  \n",
       "2     2022-12-01 19:39:26 +0100  4.0         NaN      PL   Beata  \n",
       "3     2022-12-01 19:46:59 +0100  3.0         NaN      PL   Beata  \n",
       "4     2022-11-29 10:19:39 +0100  3.0         NaN      DE   Beata  \n",
       "...                         ...  ...         ...     ...     ...  \n",
       "1132  2022-11-24 08:17:53 +0100  3.0         NaN      UK   Beata  \n",
       "1133  2022-11-11 21:11:12 +0100  5.0         NaN      UK   Beata  \n",
       "1134  2022-10-02 17:12:26 +0200  3.0         NaN      UK   Beata  \n",
       "1137  2022-11-22 11:20:45 +0100  3.0         NaN      UK   Beata  \n",
       "1141  2022-10-28 16:12:22 +0200  5.0         NaN      UK   Beata  \n",
       "\n",
       "[2162 rows x 13 columns]"
      ]
     },
     "execution_count": 43,
     "metadata": {},
     "output_type": "execute_result"
    }
   ],
   "source": [
    "whole_scope_filter = whole_scope.Warehouse.isin(warehouse)\n",
    "whole_scope[whole_scope_filter]"
   ]
  },
  {
   "cell_type": "code",
   "execution_count": 44,
   "id": "4f702867-aaf5-42be-8ba9-23fa2ebd321f",
   "metadata": {
    "tags": []
   },
   "outputs": [
    {
     "data": {
      "text/html": [
       "<div>\n",
       "<style scoped>\n",
       "    .dataframe tbody tr th:only-of-type {\n",
       "        vertical-align: middle;\n",
       "    }\n",
       "\n",
       "    .dataframe tbody tr th {\n",
       "        vertical-align: top;\n",
       "    }\n",
       "\n",
       "    .dataframe thead th {\n",
       "        text-align: right;\n",
       "    }\n",
       "</style>\n",
       "<table border=\"1\" class=\"dataframe\">\n",
       "  <thead>\n",
       "    <tr style=\"text-align: right;\">\n",
       "      <th></th>\n",
       "      <th>ID</th>\n",
       "      <th>Title</th>\n",
       "      <th>Category</th>\n",
       "      <th>Status</th>\n",
       "      <th>Warehouse</th>\n",
       "      <th>SLA</th>\n",
       "      <th>TT#</th>\n",
       "      <th>Update</th>\n",
       "      <th>Create</th>\n",
       "      <th>Sev</th>\n",
       "      <th>Country</th>\n",
       "      <th>Manager</th>\n",
       "    </tr>\n",
       "  </thead>\n",
       "  <tbody>\n",
       "    <tr>\n",
       "      <th>0</th>\n",
       "      <td>1976608.0</td>\n",
       "      <td>Title_IN_452</td>\n",
       "      <td>Category_IN_34</td>\n",
       "      <td>Assigned</td>\n",
       "      <td>SITE7</td>\n",
       "      <td>24/0</td>\n",
       "      <td>8cbd1d55-2a8b-40f5-8c1c-0219c01e70ba</td>\n",
       "      <td>2022-12-01 20:00:09 +0100</td>\n",
       "      <td>2022-11-30 19:43:59 +0100</td>\n",
       "      <td>4.0</td>\n",
       "      <td>PL</td>\n",
       "      <td>Beata</td>\n",
       "    </tr>\n",
       "    <tr>\n",
       "      <th>1</th>\n",
       "      <td>1977855.0</td>\n",
       "      <td>Title_IN_201</td>\n",
       "      <td>Category_IN_114</td>\n",
       "      <td>Assigned</td>\n",
       "      <td>SITE5</td>\n",
       "      <td>0/0</td>\n",
       "      <td>578ee008-97ff-469b-acf6-16a9371236bf</td>\n",
       "      <td>2022-12-01 19:58:36 +0100</td>\n",
       "      <td>2022-12-01 19:58:36 +0100</td>\n",
       "      <td>4.0</td>\n",
       "      <td>PL</td>\n",
       "      <td>Beata</td>\n",
       "    </tr>\n",
       "    <tr>\n",
       "      <th>2</th>\n",
       "      <td>1977850.0</td>\n",
       "      <td>Title_IN_201</td>\n",
       "      <td>Category_IN_114</td>\n",
       "      <td>Assigned</td>\n",
       "      <td>SITE5</td>\n",
       "      <td>0/0</td>\n",
       "      <td>e31eb333-7d4f-47e3-8833-e15b9602248f</td>\n",
       "      <td>2022-12-01 19:48:43 +0100</td>\n",
       "      <td>2022-12-01 19:39:26 +0100</td>\n",
       "      <td>4.0</td>\n",
       "      <td>PL</td>\n",
       "      <td>Beata</td>\n",
       "    </tr>\n",
       "    <tr>\n",
       "      <th>3</th>\n",
       "      <td>1977852.0</td>\n",
       "      <td>Title_IN_311</td>\n",
       "      <td>Category_IN_166</td>\n",
       "      <td>Assigned</td>\n",
       "      <td>SITE5</td>\n",
       "      <td>0/0</td>\n",
       "      <td>7226908d-57b7-4cf2-b20b-f848177aff95</td>\n",
       "      <td>2022-12-01 19:46:59 +0100</td>\n",
       "      <td>2022-12-01 19:46:59 +0100</td>\n",
       "      <td>3.0</td>\n",
       "      <td>PL</td>\n",
       "      <td>Beata</td>\n",
       "    </tr>\n",
       "    <tr>\n",
       "      <th>4</th>\n",
       "      <td>1974478.0</td>\n",
       "      <td>Title_IN_370</td>\n",
       "      <td>Category_IN_166</td>\n",
       "      <td>Pending</td>\n",
       "      <td>SITE1</td>\n",
       "      <td>57/0</td>\n",
       "      <td>bce34e56-6a59-4a44-9011-0dc3cf90de59</td>\n",
       "      <td>2022-12-01 19:42:45 +0100</td>\n",
       "      <td>2022-11-29 10:19:39 +0100</td>\n",
       "      <td>3.0</td>\n",
       "      <td>DE</td>\n",
       "      <td>Beata</td>\n",
       "    </tr>\n",
       "    <tr>\n",
       "      <th>...</th>\n",
       "      <td>...</td>\n",
       "      <td>...</td>\n",
       "      <td>...</td>\n",
       "      <td>...</td>\n",
       "      <td>...</td>\n",
       "      <td>...</td>\n",
       "      <td>...</td>\n",
       "      <td>...</td>\n",
       "      <td>...</td>\n",
       "      <td>...</td>\n",
       "      <td>...</td>\n",
       "      <td>...</td>\n",
       "    </tr>\n",
       "    <tr>\n",
       "      <th>1425</th>\n",
       "      <td>1892290.0</td>\n",
       "      <td>NaN</td>\n",
       "      <td>NaN</td>\n",
       "      <td>Pending</td>\n",
       "      <td>SITE12</td>\n",
       "      <td>1661/0</td>\n",
       "      <td>16027f8e-a38c-4bc5-87e8-61a7b3ab5d63</td>\n",
       "      <td>2022-10-25 16:28:14 +0200</td>\n",
       "      <td>2022-09-23 15:09:10 +0200</td>\n",
       "      <td>4.0</td>\n",
       "      <td>UK</td>\n",
       "      <td>Beata</td>\n",
       "    </tr>\n",
       "    <tr>\n",
       "      <th>1426</th>\n",
       "      <td>1830872.0</td>\n",
       "      <td>NaN</td>\n",
       "      <td>NaN</td>\n",
       "      <td>Assigned</td>\n",
       "      <td>SITE14</td>\n",
       "      <td>2938/0</td>\n",
       "      <td>e99e891d-d190-4bf2-901b-d3a468bbb94c</td>\n",
       "      <td>2022-08-28 15:45:40 +0200</td>\n",
       "      <td>2022-08-01 10:11:38 +0200</td>\n",
       "      <td>3.0</td>\n",
       "      <td>UK</td>\n",
       "      <td>Beata</td>\n",
       "    </tr>\n",
       "    <tr>\n",
       "      <th>1428</th>\n",
       "      <td>1834966.0</td>\n",
       "      <td>NaN</td>\n",
       "      <td>NaN</td>\n",
       "      <td>Assigned</td>\n",
       "      <td>SITE12</td>\n",
       "      <td>2864/0</td>\n",
       "      <td>57cad9bf-3183-4d37-be76-da11d9d74f0f</td>\n",
       "      <td>2022-08-04 12:50:10 +0200</td>\n",
       "      <td>2022-08-04 12:50:10 +0200</td>\n",
       "      <td>3.0</td>\n",
       "      <td>UK</td>\n",
       "      <td>Beata</td>\n",
       "    </tr>\n",
       "    <tr>\n",
       "      <th>1431</th>\n",
       "      <td>1726419.0</td>\n",
       "      <td>NaN</td>\n",
       "      <td>NaN</td>\n",
       "      <td>Assigned</td>\n",
       "      <td>SITE14</td>\n",
       "      <td>5038/0</td>\n",
       "      <td>719d4cd7-09d2-4405-bb62-36df944c3202</td>\n",
       "      <td>2022-06-28 11:39:46 +0200</td>\n",
       "      <td>2022-05-05 22:43:31 +0200</td>\n",
       "      <td>3.0</td>\n",
       "      <td>UK</td>\n",
       "      <td>Beata</td>\n",
       "    </tr>\n",
       "    <tr>\n",
       "      <th>1434</th>\n",
       "      <td>1726418.0</td>\n",
       "      <td>NaN</td>\n",
       "      <td>NaN</td>\n",
       "      <td>Assigned</td>\n",
       "      <td>SITE14</td>\n",
       "      <td>5038/0</td>\n",
       "      <td>129ca595-f212-4702-b1f3-7ddc6782d054</td>\n",
       "      <td>2022-05-09 14:03:19 +0200</td>\n",
       "      <td>2022-05-05 22:35:53 +0200</td>\n",
       "      <td>3.0</td>\n",
       "      <td>UK</td>\n",
       "      <td>Beata</td>\n",
       "    </tr>\n",
       "  </tbody>\n",
       "</table>\n",
       "<p>1218 rows × 12 columns</p>\n",
       "</div>"
      ],
      "text/plain": [
       "             ID         Title         Category    Status Warehouse     SLA  \\\n",
       "0     1976608.0  Title_IN_452   Category_IN_34  Assigned     SITE7    24/0   \n",
       "1     1977855.0  Title_IN_201  Category_IN_114  Assigned     SITE5     0/0   \n",
       "2     1977850.0  Title_IN_201  Category_IN_114  Assigned     SITE5     0/0   \n",
       "3     1977852.0  Title_IN_311  Category_IN_166  Assigned     SITE5     0/0   \n",
       "4     1974478.0  Title_IN_370  Category_IN_166   Pending     SITE1    57/0   \n",
       "...         ...           ...              ...       ...       ...     ...   \n",
       "1425  1892290.0           NaN              NaN   Pending    SITE12  1661/0   \n",
       "1426  1830872.0           NaN              NaN  Assigned    SITE14  2938/0   \n",
       "1428  1834966.0           NaN              NaN  Assigned    SITE12  2864/0   \n",
       "1431  1726419.0           NaN              NaN  Assigned    SITE14  5038/0   \n",
       "1434  1726418.0           NaN              NaN  Assigned    SITE14  5038/0   \n",
       "\n",
       "                                       TT#                     Update  \\\n",
       "0     8cbd1d55-2a8b-40f5-8c1c-0219c01e70ba  2022-12-01 20:00:09 +0100   \n",
       "1     578ee008-97ff-469b-acf6-16a9371236bf  2022-12-01 19:58:36 +0100   \n",
       "2     e31eb333-7d4f-47e3-8833-e15b9602248f  2022-12-01 19:48:43 +0100   \n",
       "3     7226908d-57b7-4cf2-b20b-f848177aff95  2022-12-01 19:46:59 +0100   \n",
       "4     bce34e56-6a59-4a44-9011-0dc3cf90de59  2022-12-01 19:42:45 +0100   \n",
       "...                                    ...                        ...   \n",
       "1425  16027f8e-a38c-4bc5-87e8-61a7b3ab5d63  2022-10-25 16:28:14 +0200   \n",
       "1426  e99e891d-d190-4bf2-901b-d3a468bbb94c  2022-08-28 15:45:40 +0200   \n",
       "1428  57cad9bf-3183-4d37-be76-da11d9d74f0f  2022-08-04 12:50:10 +0200   \n",
       "1431  719d4cd7-09d2-4405-bb62-36df944c3202  2022-06-28 11:39:46 +0200   \n",
       "1434  129ca595-f212-4702-b1f3-7ddc6782d054  2022-05-09 14:03:19 +0200   \n",
       "\n",
       "                         Create  Sev Country Manager  \n",
       "0     2022-11-30 19:43:59 +0100  4.0      PL   Beata  \n",
       "1     2022-12-01 19:58:36 +0100  4.0      PL   Beata  \n",
       "2     2022-12-01 19:39:26 +0100  4.0      PL   Beata  \n",
       "3     2022-12-01 19:46:59 +0100  3.0      PL   Beata  \n",
       "4     2022-11-29 10:19:39 +0100  3.0      DE   Beata  \n",
       "...                         ...  ...     ...     ...  \n",
       "1425  2022-09-23 15:09:10 +0200  4.0      UK   Beata  \n",
       "1426  2022-08-01 10:11:38 +0200  3.0      UK   Beata  \n",
       "1428  2022-08-04 12:50:10 +0200  3.0      UK   Beata  \n",
       "1431  2022-05-05 22:43:31 +0200  3.0      UK   Beata  \n",
       "1434  2022-05-05 22:35:53 +0200  3.0      UK   Beata  \n",
       "\n",
       "[1218 rows x 12 columns]"
      ]
     },
     "execution_count": 44,
     "metadata": {},
     "output_type": "execute_result"
    }
   ],
   "source": [
    "# Submitted\n",
    "\n",
    "incoming_site_filter = incoming.Warehouse.isin(warehouse)\n",
    "incoming[incoming_site_filter]"
   ]
  },
  {
   "cell_type": "code",
   "execution_count": 45,
   "id": "8329ce1f-0aff-4cf1-bcc2-54d0966e65ea",
   "metadata": {},
   "outputs": [],
   "source": [
    "# submitted TT to site "
   ]
  },
  {
   "cell_type": "code",
   "execution_count": 46,
   "id": "9ca2d02f-66fe-4dc9-a8bb-77f15f1a1cb6",
   "metadata": {
    "tags": []
   },
   "outputs": [
    {
     "data": {
      "text/plain": [
       "Warehouse\n",
       "SITE7     193\n",
       "SITE25    188\n",
       "SITE16     87\n",
       "SITE17     83\n",
       "SITE2      82\n",
       "SITE22     65\n",
       "SITE5      63\n",
       "SITE19     57\n",
       "SITE6      54\n",
       "SITE18     54\n",
       "SITE21     48\n",
       "SITE24     46\n",
       "SITE11     32\n",
       "SITE30     27\n",
       "SITE1      25\n",
       "SITE3      21\n",
       "SITE23     17\n",
       "SITE26     14\n",
       "SITE20     14\n",
       "SITE9      12\n",
       "SITE10      9\n",
       "SITE4       6\n",
       "SITE12      6\n",
       "SITE14      5\n",
       "SITE13      5\n",
       "SITE27      4\n",
       "SITE29      1\n",
       "Name: ID, dtype: int64"
      ]
     },
     "execution_count": 46,
     "metadata": {},
     "output_type": "execute_result"
    }
   ],
   "source": [
    "submitted = incoming[incoming_site_filter].groupby('Warehouse').agg('count')\n",
    "submitted_warehouse = submitted.sort_values('ID', ascending=False)\n",
    "submitted_sorted = submitted.sort_values('ID', ascending=False).reset_index()\n",
    "submitted_warehouse['ID']"
   ]
  },
  {
   "cell_type": "code",
   "execution_count": 47,
   "id": "cb3de401-3fdd-4068-a70e-c19d9c88b2a5",
   "metadata": {
    "tags": []
   },
   "outputs": [
    {
     "data": {
      "text/plain": [
       "0     193\n",
       "1     188\n",
       "2      87\n",
       "3      83\n",
       "4      82\n",
       "5      65\n",
       "6      63\n",
       "7      57\n",
       "8      54\n",
       "9      54\n",
       "10     48\n",
       "11     46\n",
       "12     32\n",
       "13     27\n",
       "14     25\n",
       "15     21\n",
       "16     17\n",
       "17     14\n",
       "18     14\n",
       "19     12\n",
       "20      9\n",
       "21      6\n",
       "22      6\n",
       "23      5\n",
       "24      5\n",
       "25      4\n",
       "26      1\n",
       "Name: ID, dtype: int64"
      ]
     },
     "execution_count": 47,
     "metadata": {},
     "output_type": "execute_result"
    }
   ],
   "source": [
    "submitted_sorted['ID']"
   ]
  },
  {
   "cell_type": "code",
   "execution_count": 48,
   "id": "614139a7-690e-4004-b4c8-951226f13ce2",
   "metadata": {},
   "outputs": [
    {
     "data": {
      "application/vnd.plotly.v1+json": {
       "config": {
        "plotlyServerURL": "https://plot.ly"
       },
       "data": [
        {
         "alignmentgroup": "True",
         "hovertemplate": "<b>%{hovertext}</b><br><br>Warehouse=%{x}<br>Count of submitted TT (Issues)=%{y}<extra></extra>",
         "hovertext": [
          "SITE7"
         ],
         "legendgroup": "SITE7",
         "marker": {
          "color": "#636efa",
          "pattern": {
           "shape": ""
          }
         },
         "name": "SITE7",
         "offsetgroup": "SITE7",
         "orientation": "v",
         "showlegend": true,
         "textposition": "auto",
         "type": "bar",
         "x": [
          "SITE7"
         ],
         "xaxis": "x",
         "y": [
          193
         ],
         "yaxis": "y"
        },
        {
         "alignmentgroup": "True",
         "hovertemplate": "<b>%{hovertext}</b><br><br>Warehouse=%{x}<br>Count of submitted TT (Issues)=%{y}<extra></extra>",
         "hovertext": [
          "SITE25"
         ],
         "legendgroup": "SITE25",
         "marker": {
          "color": "#EF553B",
          "pattern": {
           "shape": ""
          }
         },
         "name": "SITE25",
         "offsetgroup": "SITE25",
         "orientation": "v",
         "showlegend": true,
         "textposition": "auto",
         "type": "bar",
         "x": [
          "SITE25"
         ],
         "xaxis": "x",
         "y": [
          188
         ],
         "yaxis": "y"
        },
        {
         "alignmentgroup": "True",
         "hovertemplate": "<b>%{hovertext}</b><br><br>Warehouse=%{x}<br>Count of submitted TT (Issues)=%{y}<extra></extra>",
         "hovertext": [
          "SITE16"
         ],
         "legendgroup": "SITE16",
         "marker": {
          "color": "#00cc96",
          "pattern": {
           "shape": ""
          }
         },
         "name": "SITE16",
         "offsetgroup": "SITE16",
         "orientation": "v",
         "showlegend": true,
         "textposition": "auto",
         "type": "bar",
         "x": [
          "SITE16"
         ],
         "xaxis": "x",
         "y": [
          87
         ],
         "yaxis": "y"
        },
        {
         "alignmentgroup": "True",
         "hovertemplate": "<b>%{hovertext}</b><br><br>Warehouse=%{x}<br>Count of submitted TT (Issues)=%{y}<extra></extra>",
         "hovertext": [
          "SITE17"
         ],
         "legendgroup": "SITE17",
         "marker": {
          "color": "#ab63fa",
          "pattern": {
           "shape": ""
          }
         },
         "name": "SITE17",
         "offsetgroup": "SITE17",
         "orientation": "v",
         "showlegend": true,
         "textposition": "auto",
         "type": "bar",
         "x": [
          "SITE17"
         ],
         "xaxis": "x",
         "y": [
          83
         ],
         "yaxis": "y"
        },
        {
         "alignmentgroup": "True",
         "hovertemplate": "<b>%{hovertext}</b><br><br>Warehouse=%{x}<br>Count of submitted TT (Issues)=%{y}<extra></extra>",
         "hovertext": [
          "SITE2"
         ],
         "legendgroup": "SITE2",
         "marker": {
          "color": "#FFA15A",
          "pattern": {
           "shape": ""
          }
         },
         "name": "SITE2",
         "offsetgroup": "SITE2",
         "orientation": "v",
         "showlegend": true,
         "textposition": "auto",
         "type": "bar",
         "x": [
          "SITE2"
         ],
         "xaxis": "x",
         "y": [
          82
         ],
         "yaxis": "y"
        },
        {
         "alignmentgroup": "True",
         "hovertemplate": "<b>%{hovertext}</b><br><br>Warehouse=%{x}<br>Count of submitted TT (Issues)=%{y}<extra></extra>",
         "hovertext": [
          "SITE22"
         ],
         "legendgroup": "SITE22",
         "marker": {
          "color": "#19d3f3",
          "pattern": {
           "shape": ""
          }
         },
         "name": "SITE22",
         "offsetgroup": "SITE22",
         "orientation": "v",
         "showlegend": true,
         "textposition": "auto",
         "type": "bar",
         "x": [
          "SITE22"
         ],
         "xaxis": "x",
         "y": [
          65
         ],
         "yaxis": "y"
        },
        {
         "alignmentgroup": "True",
         "hovertemplate": "<b>%{hovertext}</b><br><br>Warehouse=%{x}<br>Count of submitted TT (Issues)=%{y}<extra></extra>",
         "hovertext": [
          "SITE5"
         ],
         "legendgroup": "SITE5",
         "marker": {
          "color": "#FF6692",
          "pattern": {
           "shape": ""
          }
         },
         "name": "SITE5",
         "offsetgroup": "SITE5",
         "orientation": "v",
         "showlegend": true,
         "textposition": "auto",
         "type": "bar",
         "x": [
          "SITE5"
         ],
         "xaxis": "x",
         "y": [
          63
         ],
         "yaxis": "y"
        },
        {
         "alignmentgroup": "True",
         "hovertemplate": "<b>%{hovertext}</b><br><br>Warehouse=%{x}<br>Count of submitted TT (Issues)=%{y}<extra></extra>",
         "hovertext": [
          "SITE19"
         ],
         "legendgroup": "SITE19",
         "marker": {
          "color": "#B6E880",
          "pattern": {
           "shape": ""
          }
         },
         "name": "SITE19",
         "offsetgroup": "SITE19",
         "orientation": "v",
         "showlegend": true,
         "textposition": "auto",
         "type": "bar",
         "x": [
          "SITE19"
         ],
         "xaxis": "x",
         "y": [
          57
         ],
         "yaxis": "y"
        },
        {
         "alignmentgroup": "True",
         "hovertemplate": "<b>%{hovertext}</b><br><br>Warehouse=%{x}<br>Count of submitted TT (Issues)=%{y}<extra></extra>",
         "hovertext": [
          "SITE6"
         ],
         "legendgroup": "SITE6",
         "marker": {
          "color": "#FF97FF",
          "pattern": {
           "shape": ""
          }
         },
         "name": "SITE6",
         "offsetgroup": "SITE6",
         "orientation": "v",
         "showlegend": true,
         "textposition": "auto",
         "type": "bar",
         "x": [
          "SITE6"
         ],
         "xaxis": "x",
         "y": [
          54
         ],
         "yaxis": "y"
        },
        {
         "alignmentgroup": "True",
         "hovertemplate": "<b>%{hovertext}</b><br><br>Warehouse=%{x}<br>Count of submitted TT (Issues)=%{y}<extra></extra>",
         "hovertext": [
          "SITE18"
         ],
         "legendgroup": "SITE18",
         "marker": {
          "color": "#FECB52",
          "pattern": {
           "shape": ""
          }
         },
         "name": "SITE18",
         "offsetgroup": "SITE18",
         "orientation": "v",
         "showlegend": true,
         "textposition": "auto",
         "type": "bar",
         "x": [
          "SITE18"
         ],
         "xaxis": "x",
         "y": [
          54
         ],
         "yaxis": "y"
        },
        {
         "alignmentgroup": "True",
         "hovertemplate": "<b>%{hovertext}</b><br><br>Warehouse=%{x}<br>Count of submitted TT (Issues)=%{y}<extra></extra>",
         "hovertext": [
          "SITE21"
         ],
         "legendgroup": "SITE21",
         "marker": {
          "color": "#636efa",
          "pattern": {
           "shape": ""
          }
         },
         "name": "SITE21",
         "offsetgroup": "SITE21",
         "orientation": "v",
         "showlegend": true,
         "textposition": "auto",
         "type": "bar",
         "x": [
          "SITE21"
         ],
         "xaxis": "x",
         "y": [
          48
         ],
         "yaxis": "y"
        },
        {
         "alignmentgroup": "True",
         "hovertemplate": "<b>%{hovertext}</b><br><br>Warehouse=%{x}<br>Count of submitted TT (Issues)=%{y}<extra></extra>",
         "hovertext": [
          "SITE24"
         ],
         "legendgroup": "SITE24",
         "marker": {
          "color": "#EF553B",
          "pattern": {
           "shape": ""
          }
         },
         "name": "SITE24",
         "offsetgroup": "SITE24",
         "orientation": "v",
         "showlegend": true,
         "textposition": "auto",
         "type": "bar",
         "x": [
          "SITE24"
         ],
         "xaxis": "x",
         "y": [
          46
         ],
         "yaxis": "y"
        },
        {
         "alignmentgroup": "True",
         "hovertemplate": "<b>%{hovertext}</b><br><br>Warehouse=%{x}<br>Count of submitted TT (Issues)=%{y}<extra></extra>",
         "hovertext": [
          "SITE11"
         ],
         "legendgroup": "SITE11",
         "marker": {
          "color": "#00cc96",
          "pattern": {
           "shape": ""
          }
         },
         "name": "SITE11",
         "offsetgroup": "SITE11",
         "orientation": "v",
         "showlegend": true,
         "textposition": "auto",
         "type": "bar",
         "x": [
          "SITE11"
         ],
         "xaxis": "x",
         "y": [
          32
         ],
         "yaxis": "y"
        },
        {
         "alignmentgroup": "True",
         "hovertemplate": "<b>%{hovertext}</b><br><br>Warehouse=%{x}<br>Count of submitted TT (Issues)=%{y}<extra></extra>",
         "hovertext": [
          "SITE30"
         ],
         "legendgroup": "SITE30",
         "marker": {
          "color": "#ab63fa",
          "pattern": {
           "shape": ""
          }
         },
         "name": "SITE30",
         "offsetgroup": "SITE30",
         "orientation": "v",
         "showlegend": true,
         "textposition": "auto",
         "type": "bar",
         "x": [
          "SITE30"
         ],
         "xaxis": "x",
         "y": [
          27
         ],
         "yaxis": "y"
        },
        {
         "alignmentgroup": "True",
         "hovertemplate": "<b>%{hovertext}</b><br><br>Warehouse=%{x}<br>Count of submitted TT (Issues)=%{y}<extra></extra>",
         "hovertext": [
          "SITE1"
         ],
         "legendgroup": "SITE1",
         "marker": {
          "color": "#FFA15A",
          "pattern": {
           "shape": ""
          }
         },
         "name": "SITE1",
         "offsetgroup": "SITE1",
         "orientation": "v",
         "showlegend": true,
         "textposition": "auto",
         "type": "bar",
         "x": [
          "SITE1"
         ],
         "xaxis": "x",
         "y": [
          25
         ],
         "yaxis": "y"
        },
        {
         "alignmentgroup": "True",
         "hovertemplate": "<b>%{hovertext}</b><br><br>Warehouse=%{x}<br>Count of submitted TT (Issues)=%{y}<extra></extra>",
         "hovertext": [
          "SITE3"
         ],
         "legendgroup": "SITE3",
         "marker": {
          "color": "#19d3f3",
          "pattern": {
           "shape": ""
          }
         },
         "name": "SITE3",
         "offsetgroup": "SITE3",
         "orientation": "v",
         "showlegend": true,
         "textposition": "auto",
         "type": "bar",
         "x": [
          "SITE3"
         ],
         "xaxis": "x",
         "y": [
          21
         ],
         "yaxis": "y"
        },
        {
         "alignmentgroup": "True",
         "hovertemplate": "<b>%{hovertext}</b><br><br>Warehouse=%{x}<br>Count of submitted TT (Issues)=%{y}<extra></extra>",
         "hovertext": [
          "SITE23"
         ],
         "legendgroup": "SITE23",
         "marker": {
          "color": "#FF6692",
          "pattern": {
           "shape": ""
          }
         },
         "name": "SITE23",
         "offsetgroup": "SITE23",
         "orientation": "v",
         "showlegend": true,
         "textposition": "auto",
         "type": "bar",
         "x": [
          "SITE23"
         ],
         "xaxis": "x",
         "y": [
          17
         ],
         "yaxis": "y"
        },
        {
         "alignmentgroup": "True",
         "hovertemplate": "<b>%{hovertext}</b><br><br>Warehouse=%{x}<br>Count of submitted TT (Issues)=%{y}<extra></extra>",
         "hovertext": [
          "SITE26"
         ],
         "legendgroup": "SITE26",
         "marker": {
          "color": "#B6E880",
          "pattern": {
           "shape": ""
          }
         },
         "name": "SITE26",
         "offsetgroup": "SITE26",
         "orientation": "v",
         "showlegend": true,
         "textposition": "auto",
         "type": "bar",
         "x": [
          "SITE26"
         ],
         "xaxis": "x",
         "y": [
          14
         ],
         "yaxis": "y"
        },
        {
         "alignmentgroup": "True",
         "hovertemplate": "<b>%{hovertext}</b><br><br>Warehouse=%{x}<br>Count of submitted TT (Issues)=%{y}<extra></extra>",
         "hovertext": [
          "SITE20"
         ],
         "legendgroup": "SITE20",
         "marker": {
          "color": "#FF97FF",
          "pattern": {
           "shape": ""
          }
         },
         "name": "SITE20",
         "offsetgroup": "SITE20",
         "orientation": "v",
         "showlegend": true,
         "textposition": "auto",
         "type": "bar",
         "x": [
          "SITE20"
         ],
         "xaxis": "x",
         "y": [
          14
         ],
         "yaxis": "y"
        },
        {
         "alignmentgroup": "True",
         "hovertemplate": "<b>%{hovertext}</b><br><br>Warehouse=%{x}<br>Count of submitted TT (Issues)=%{y}<extra></extra>",
         "hovertext": [
          "SITE9"
         ],
         "legendgroup": "SITE9",
         "marker": {
          "color": "#FECB52",
          "pattern": {
           "shape": ""
          }
         },
         "name": "SITE9",
         "offsetgroup": "SITE9",
         "orientation": "v",
         "showlegend": true,
         "textposition": "auto",
         "type": "bar",
         "x": [
          "SITE9"
         ],
         "xaxis": "x",
         "y": [
          12
         ],
         "yaxis": "y"
        },
        {
         "alignmentgroup": "True",
         "hovertemplate": "<b>%{hovertext}</b><br><br>Warehouse=%{x}<br>Count of submitted TT (Issues)=%{y}<extra></extra>",
         "hovertext": [
          "SITE10"
         ],
         "legendgroup": "SITE10",
         "marker": {
          "color": "#636efa",
          "pattern": {
           "shape": ""
          }
         },
         "name": "SITE10",
         "offsetgroup": "SITE10",
         "orientation": "v",
         "showlegend": true,
         "textposition": "auto",
         "type": "bar",
         "x": [
          "SITE10"
         ],
         "xaxis": "x",
         "y": [
          9
         ],
         "yaxis": "y"
        },
        {
         "alignmentgroup": "True",
         "hovertemplate": "<b>%{hovertext}</b><br><br>Warehouse=%{x}<br>Count of submitted TT (Issues)=%{y}<extra></extra>",
         "hovertext": [
          "SITE4"
         ],
         "legendgroup": "SITE4",
         "marker": {
          "color": "#EF553B",
          "pattern": {
           "shape": ""
          }
         },
         "name": "SITE4",
         "offsetgroup": "SITE4",
         "orientation": "v",
         "showlegend": true,
         "textposition": "auto",
         "type": "bar",
         "x": [
          "SITE4"
         ],
         "xaxis": "x",
         "y": [
          6
         ],
         "yaxis": "y"
        },
        {
         "alignmentgroup": "True",
         "hovertemplate": "<b>%{hovertext}</b><br><br>Warehouse=%{x}<br>Count of submitted TT (Issues)=%{y}<extra></extra>",
         "hovertext": [
          "SITE12"
         ],
         "legendgroup": "SITE12",
         "marker": {
          "color": "#00cc96",
          "pattern": {
           "shape": ""
          }
         },
         "name": "SITE12",
         "offsetgroup": "SITE12",
         "orientation": "v",
         "showlegend": true,
         "textposition": "auto",
         "type": "bar",
         "x": [
          "SITE12"
         ],
         "xaxis": "x",
         "y": [
          6
         ],
         "yaxis": "y"
        },
        {
         "alignmentgroup": "True",
         "hovertemplate": "<b>%{hovertext}</b><br><br>Warehouse=%{x}<br>Count of submitted TT (Issues)=%{y}<extra></extra>",
         "hovertext": [
          "SITE14"
         ],
         "legendgroup": "SITE14",
         "marker": {
          "color": "#ab63fa",
          "pattern": {
           "shape": ""
          }
         },
         "name": "SITE14",
         "offsetgroup": "SITE14",
         "orientation": "v",
         "showlegend": true,
         "textposition": "auto",
         "type": "bar",
         "x": [
          "SITE14"
         ],
         "xaxis": "x",
         "y": [
          5
         ],
         "yaxis": "y"
        },
        {
         "alignmentgroup": "True",
         "hovertemplate": "<b>%{hovertext}</b><br><br>Warehouse=%{x}<br>Count of submitted TT (Issues)=%{y}<extra></extra>",
         "hovertext": [
          "SITE13"
         ],
         "legendgroup": "SITE13",
         "marker": {
          "color": "#FFA15A",
          "pattern": {
           "shape": ""
          }
         },
         "name": "SITE13",
         "offsetgroup": "SITE13",
         "orientation": "v",
         "showlegend": true,
         "textposition": "auto",
         "type": "bar",
         "x": [
          "SITE13"
         ],
         "xaxis": "x",
         "y": [
          5
         ],
         "yaxis": "y"
        },
        {
         "alignmentgroup": "True",
         "hovertemplate": "<b>%{hovertext}</b><br><br>Warehouse=%{x}<br>Count of submitted TT (Issues)=%{y}<extra></extra>",
         "hovertext": [
          "SITE27"
         ],
         "legendgroup": "SITE27",
         "marker": {
          "color": "#19d3f3",
          "pattern": {
           "shape": ""
          }
         },
         "name": "SITE27",
         "offsetgroup": "SITE27",
         "orientation": "v",
         "showlegend": true,
         "textposition": "auto",
         "type": "bar",
         "x": [
          "SITE27"
         ],
         "xaxis": "x",
         "y": [
          4
         ],
         "yaxis": "y"
        },
        {
         "alignmentgroup": "True",
         "hovertemplate": "<b>%{hovertext}</b><br><br>Warehouse=%{x}<br>Count of submitted TT (Issues)=%{y}<extra></extra>",
         "hovertext": [
          "SITE29"
         ],
         "legendgroup": "SITE29",
         "marker": {
          "color": "#FF6692",
          "pattern": {
           "shape": ""
          }
         },
         "name": "SITE29",
         "offsetgroup": "SITE29",
         "orientation": "v",
         "showlegend": true,
         "textposition": "auto",
         "type": "bar",
         "x": [
          "SITE29"
         ],
         "xaxis": "x",
         "y": [
          1
         ],
         "yaxis": "y"
        }
       ],
       "layout": {
        "autosize": true,
        "barmode": "relative",
        "legend": {
         "title": {
          "text": "Warehouse"
         },
         "tracegroupgap": 0
        },
        "template": {
         "data": {
          "bar": [
           {
            "error_x": {
             "color": "#2a3f5f"
            },
            "error_y": {
             "color": "#2a3f5f"
            },
            "marker": {
             "line": {
              "color": "#E5ECF6",
              "width": 0.5
             },
             "pattern": {
              "fillmode": "overlay",
              "size": 10,
              "solidity": 0.2
             }
            },
            "type": "bar"
           }
          ],
          "barpolar": [
           {
            "marker": {
             "line": {
              "color": "#E5ECF6",
              "width": 0.5
             },
             "pattern": {
              "fillmode": "overlay",
              "size": 10,
              "solidity": 0.2
             }
            },
            "type": "barpolar"
           }
          ],
          "carpet": [
           {
            "aaxis": {
             "endlinecolor": "#2a3f5f",
             "gridcolor": "white",
             "linecolor": "white",
             "minorgridcolor": "white",
             "startlinecolor": "#2a3f5f"
            },
            "baxis": {
             "endlinecolor": "#2a3f5f",
             "gridcolor": "white",
             "linecolor": "white",
             "minorgridcolor": "white",
             "startlinecolor": "#2a3f5f"
            },
            "type": "carpet"
           }
          ],
          "choropleth": [
           {
            "colorbar": {
             "outlinewidth": 0,
             "ticks": ""
            },
            "type": "choropleth"
           }
          ],
          "contour": [
           {
            "colorbar": {
             "outlinewidth": 0,
             "ticks": ""
            },
            "colorscale": [
             [
              0,
              "#0d0887"
             ],
             [
              0.1111111111111111,
              "#46039f"
             ],
             [
              0.2222222222222222,
              "#7201a8"
             ],
             [
              0.3333333333333333,
              "#9c179e"
             ],
             [
              0.4444444444444444,
              "#bd3786"
             ],
             [
              0.5555555555555556,
              "#d8576b"
             ],
             [
              0.6666666666666666,
              "#ed7953"
             ],
             [
              0.7777777777777778,
              "#fb9f3a"
             ],
             [
              0.8888888888888888,
              "#fdca26"
             ],
             [
              1,
              "#f0f921"
             ]
            ],
            "type": "contour"
           }
          ],
          "contourcarpet": [
           {
            "colorbar": {
             "outlinewidth": 0,
             "ticks": ""
            },
            "type": "contourcarpet"
           }
          ],
          "heatmap": [
           {
            "colorbar": {
             "outlinewidth": 0,
             "ticks": ""
            },
            "colorscale": [
             [
              0,
              "#0d0887"
             ],
             [
              0.1111111111111111,
              "#46039f"
             ],
             [
              0.2222222222222222,
              "#7201a8"
             ],
             [
              0.3333333333333333,
              "#9c179e"
             ],
             [
              0.4444444444444444,
              "#bd3786"
             ],
             [
              0.5555555555555556,
              "#d8576b"
             ],
             [
              0.6666666666666666,
              "#ed7953"
             ],
             [
              0.7777777777777778,
              "#fb9f3a"
             ],
             [
              0.8888888888888888,
              "#fdca26"
             ],
             [
              1,
              "#f0f921"
             ]
            ],
            "type": "heatmap"
           }
          ],
          "heatmapgl": [
           {
            "colorbar": {
             "outlinewidth": 0,
             "ticks": ""
            },
            "colorscale": [
             [
              0,
              "#0d0887"
             ],
             [
              0.1111111111111111,
              "#46039f"
             ],
             [
              0.2222222222222222,
              "#7201a8"
             ],
             [
              0.3333333333333333,
              "#9c179e"
             ],
             [
              0.4444444444444444,
              "#bd3786"
             ],
             [
              0.5555555555555556,
              "#d8576b"
             ],
             [
              0.6666666666666666,
              "#ed7953"
             ],
             [
              0.7777777777777778,
              "#fb9f3a"
             ],
             [
              0.8888888888888888,
              "#fdca26"
             ],
             [
              1,
              "#f0f921"
             ]
            ],
            "type": "heatmapgl"
           }
          ],
          "histogram": [
           {
            "marker": {
             "pattern": {
              "fillmode": "overlay",
              "size": 10,
              "solidity": 0.2
             }
            },
            "type": "histogram"
           }
          ],
          "histogram2d": [
           {
            "colorbar": {
             "outlinewidth": 0,
             "ticks": ""
            },
            "colorscale": [
             [
              0,
              "#0d0887"
             ],
             [
              0.1111111111111111,
              "#46039f"
             ],
             [
              0.2222222222222222,
              "#7201a8"
             ],
             [
              0.3333333333333333,
              "#9c179e"
             ],
             [
              0.4444444444444444,
              "#bd3786"
             ],
             [
              0.5555555555555556,
              "#d8576b"
             ],
             [
              0.6666666666666666,
              "#ed7953"
             ],
             [
              0.7777777777777778,
              "#fb9f3a"
             ],
             [
              0.8888888888888888,
              "#fdca26"
             ],
             [
              1,
              "#f0f921"
             ]
            ],
            "type": "histogram2d"
           }
          ],
          "histogram2dcontour": [
           {
            "colorbar": {
             "outlinewidth": 0,
             "ticks": ""
            },
            "colorscale": [
             [
              0,
              "#0d0887"
             ],
             [
              0.1111111111111111,
              "#46039f"
             ],
             [
              0.2222222222222222,
              "#7201a8"
             ],
             [
              0.3333333333333333,
              "#9c179e"
             ],
             [
              0.4444444444444444,
              "#bd3786"
             ],
             [
              0.5555555555555556,
              "#d8576b"
             ],
             [
              0.6666666666666666,
              "#ed7953"
             ],
             [
              0.7777777777777778,
              "#fb9f3a"
             ],
             [
              0.8888888888888888,
              "#fdca26"
             ],
             [
              1,
              "#f0f921"
             ]
            ],
            "type": "histogram2dcontour"
           }
          ],
          "mesh3d": [
           {
            "colorbar": {
             "outlinewidth": 0,
             "ticks": ""
            },
            "type": "mesh3d"
           }
          ],
          "parcoords": [
           {
            "line": {
             "colorbar": {
              "outlinewidth": 0,
              "ticks": ""
             }
            },
            "type": "parcoords"
           }
          ],
          "pie": [
           {
            "automargin": true,
            "type": "pie"
           }
          ],
          "scatter": [
           {
            "marker": {
             "colorbar": {
              "outlinewidth": 0,
              "ticks": ""
             }
            },
            "type": "scatter"
           }
          ],
          "scatter3d": [
           {
            "line": {
             "colorbar": {
              "outlinewidth": 0,
              "ticks": ""
             }
            },
            "marker": {
             "colorbar": {
              "outlinewidth": 0,
              "ticks": ""
             }
            },
            "type": "scatter3d"
           }
          ],
          "scattercarpet": [
           {
            "marker": {
             "colorbar": {
              "outlinewidth": 0,
              "ticks": ""
             }
            },
            "type": "scattercarpet"
           }
          ],
          "scattergeo": [
           {
            "marker": {
             "colorbar": {
              "outlinewidth": 0,
              "ticks": ""
             }
            },
            "type": "scattergeo"
           }
          ],
          "scattergl": [
           {
            "marker": {
             "colorbar": {
              "outlinewidth": 0,
              "ticks": ""
             }
            },
            "type": "scattergl"
           }
          ],
          "scattermapbox": [
           {
            "marker": {
             "colorbar": {
              "outlinewidth": 0,
              "ticks": ""
             }
            },
            "type": "scattermapbox"
           }
          ],
          "scatterpolar": [
           {
            "marker": {
             "colorbar": {
              "outlinewidth": 0,
              "ticks": ""
             }
            },
            "type": "scatterpolar"
           }
          ],
          "scatterpolargl": [
           {
            "marker": {
             "colorbar": {
              "outlinewidth": 0,
              "ticks": ""
             }
            },
            "type": "scatterpolargl"
           }
          ],
          "scatterternary": [
           {
            "marker": {
             "colorbar": {
              "outlinewidth": 0,
              "ticks": ""
             }
            },
            "type": "scatterternary"
           }
          ],
          "surface": [
           {
            "colorbar": {
             "outlinewidth": 0,
             "ticks": ""
            },
            "colorscale": [
             [
              0,
              "#0d0887"
             ],
             [
              0.1111111111111111,
              "#46039f"
             ],
             [
              0.2222222222222222,
              "#7201a8"
             ],
             [
              0.3333333333333333,
              "#9c179e"
             ],
             [
              0.4444444444444444,
              "#bd3786"
             ],
             [
              0.5555555555555556,
              "#d8576b"
             ],
             [
              0.6666666666666666,
              "#ed7953"
             ],
             [
              0.7777777777777778,
              "#fb9f3a"
             ],
             [
              0.8888888888888888,
              "#fdca26"
             ],
             [
              1,
              "#f0f921"
             ]
            ],
            "type": "surface"
           }
          ],
          "table": [
           {
            "cells": {
             "fill": {
              "color": "#EBF0F8"
             },
             "line": {
              "color": "white"
             }
            },
            "header": {
             "fill": {
              "color": "#C8D4E3"
             },
             "line": {
              "color": "white"
             }
            },
            "type": "table"
           }
          ]
         },
         "layout": {
          "annotationdefaults": {
           "arrowcolor": "#2a3f5f",
           "arrowhead": 0,
           "arrowwidth": 1
          },
          "autotypenumbers": "strict",
          "coloraxis": {
           "colorbar": {
            "outlinewidth": 0,
            "ticks": ""
           }
          },
          "colorscale": {
           "diverging": [
            [
             0,
             "#8e0152"
            ],
            [
             0.1,
             "#c51b7d"
            ],
            [
             0.2,
             "#de77ae"
            ],
            [
             0.3,
             "#f1b6da"
            ],
            [
             0.4,
             "#fde0ef"
            ],
            [
             0.5,
             "#f7f7f7"
            ],
            [
             0.6,
             "#e6f5d0"
            ],
            [
             0.7,
             "#b8e186"
            ],
            [
             0.8,
             "#7fbc41"
            ],
            [
             0.9,
             "#4d9221"
            ],
            [
             1,
             "#276419"
            ]
           ],
           "sequential": [
            [
             0,
             "#0d0887"
            ],
            [
             0.1111111111111111,
             "#46039f"
            ],
            [
             0.2222222222222222,
             "#7201a8"
            ],
            [
             0.3333333333333333,
             "#9c179e"
            ],
            [
             0.4444444444444444,
             "#bd3786"
            ],
            [
             0.5555555555555556,
             "#d8576b"
            ],
            [
             0.6666666666666666,
             "#ed7953"
            ],
            [
             0.7777777777777778,
             "#fb9f3a"
            ],
            [
             0.8888888888888888,
             "#fdca26"
            ],
            [
             1,
             "#f0f921"
            ]
           ],
           "sequentialminus": [
            [
             0,
             "#0d0887"
            ],
            [
             0.1111111111111111,
             "#46039f"
            ],
            [
             0.2222222222222222,
             "#7201a8"
            ],
            [
             0.3333333333333333,
             "#9c179e"
            ],
            [
             0.4444444444444444,
             "#bd3786"
            ],
            [
             0.5555555555555556,
             "#d8576b"
            ],
            [
             0.6666666666666666,
             "#ed7953"
            ],
            [
             0.7777777777777778,
             "#fb9f3a"
            ],
            [
             0.8888888888888888,
             "#fdca26"
            ],
            [
             1,
             "#f0f921"
            ]
           ]
          },
          "colorway": [
           "#636efa",
           "#EF553B",
           "#00cc96",
           "#ab63fa",
           "#FFA15A",
           "#19d3f3",
           "#FF6692",
           "#B6E880",
           "#FF97FF",
           "#FECB52"
          ],
          "font": {
           "color": "#2a3f5f"
          },
          "geo": {
           "bgcolor": "white",
           "lakecolor": "white",
           "landcolor": "#E5ECF6",
           "showlakes": true,
           "showland": true,
           "subunitcolor": "white"
          },
          "hoverlabel": {
           "align": "left"
          },
          "hovermode": "closest",
          "mapbox": {
           "style": "light"
          },
          "paper_bgcolor": "white",
          "plot_bgcolor": "#E5ECF6",
          "polar": {
           "angularaxis": {
            "gridcolor": "white",
            "linecolor": "white",
            "ticks": ""
           },
           "bgcolor": "#E5ECF6",
           "radialaxis": {
            "gridcolor": "white",
            "linecolor": "white",
            "ticks": ""
           }
          },
          "scene": {
           "xaxis": {
            "backgroundcolor": "#E5ECF6",
            "gridcolor": "white",
            "gridwidth": 2,
            "linecolor": "white",
            "showbackground": true,
            "ticks": "",
            "zerolinecolor": "white"
           },
           "yaxis": {
            "backgroundcolor": "#E5ECF6",
            "gridcolor": "white",
            "gridwidth": 2,
            "linecolor": "white",
            "showbackground": true,
            "ticks": "",
            "zerolinecolor": "white"
           },
           "zaxis": {
            "backgroundcolor": "#E5ECF6",
            "gridcolor": "white",
            "gridwidth": 2,
            "linecolor": "white",
            "showbackground": true,
            "ticks": "",
            "zerolinecolor": "white"
           }
          },
          "shapedefaults": {
           "line": {
            "color": "#2a3f5f"
           }
          },
          "ternary": {
           "aaxis": {
            "gridcolor": "white",
            "linecolor": "white",
            "ticks": ""
           },
           "baxis": {
            "gridcolor": "white",
            "linecolor": "white",
            "ticks": ""
           },
           "bgcolor": "#E5ECF6",
           "caxis": {
            "gridcolor": "white",
            "linecolor": "white",
            "ticks": ""
           }
          },
          "title": {
           "x": 0.05
          },
          "xaxis": {
           "automargin": true,
           "gridcolor": "white",
           "linecolor": "white",
           "ticks": "",
           "title": {
            "standoff": 15
           },
           "zerolinecolor": "white",
           "zerolinewidth": 2
          },
          "yaxis": {
           "automargin": true,
           "gridcolor": "white",
           "linecolor": "white",
           "ticks": "",
           "title": {
            "standoff": 15
           },
           "zerolinecolor": "white",
           "zerolinewidth": 2
          }
         }
        },
        "title": {
         "text": "Summary of current submitted trouble tickets (issues) at whole scope",
         "x": 0.5
        },
        "xaxis": {
         "anchor": "y",
         "autorange": true,
         "categoryarray": [
          "SITE7",
          "SITE25",
          "SITE16",
          "SITE17",
          "SITE2",
          "SITE22",
          "SITE5",
          "SITE19",
          "SITE6",
          "SITE18",
          "SITE21",
          "SITE24",
          "SITE11",
          "SITE30",
          "SITE1",
          "SITE3",
          "SITE23",
          "SITE26",
          "SITE20",
          "SITE9",
          "SITE10",
          "SITE4",
          "SITE12",
          "SITE14",
          "SITE13",
          "SITE27",
          "SITE29"
         ],
         "categoryorder": "array",
         "domain": [
          0,
          1
         ],
         "range": [
          -0.5,
          26.5
         ],
         "title": {
          "text": "Warehouse"
         },
         "type": "category"
        },
        "yaxis": {
         "anchor": "x",
         "autorange": true,
         "domain": [
          0,
          1
         ],
         "range": [
          0,
          203.1578947368421
         ],
         "title": {
          "text": "Count of submitted TT (Issues)"
         },
         "type": "linear"
        }
       }
      },
      "image/png": "[encoded data removed]",
      "text/html": [
       "<div>                            <div id=\"1449971b-b490-4fb6-ba8b-8ac754393b8f\" class=\"plotly-graph-div\" style=\"height:525px; width:100%;\"></div>            <script type=\"text/javascript\">                require([\"plotly\"], function(Plotly) {                    window.PLOTLYENV=window.PLOTLYENV || {};                                    if (document.getElementById(\"1449971b-b490-4fb6-ba8b-8ac754393b8f\")) {                    Plotly.newPlot(                        \"1449971b-b490-4fb6-ba8b-8ac754393b8f\",                        [{\"alignmentgroup\":\"True\",\"hovertemplate\":\"<b>%{hovertext}</b><br><br>Warehouse=%{x}<br>Count of submitted TT (Issues)=%{y}<extra></extra>\",\"hovertext\":[\"SITE7\"],\"legendgroup\":\"SITE7\",\"marker\":{\"color\":\"#636efa\",\"pattern\":{\"shape\":\"\"}},\"name\":\"SITE7\",\"offsetgroup\":\"SITE7\",\"orientation\":\"v\",\"showlegend\":true,\"textposition\":\"auto\",\"x\":[\"SITE7\"],\"xaxis\":\"x\",\"y\":[193],\"yaxis\":\"y\",\"type\":\"bar\"},{\"alignmentgroup\":\"True\",\"hovertemplate\":\"<b>%{hovertext}</b><br><br>Warehouse=%{x}<br>Count of submitted TT (Issues)=%{y}<extra></extra>\",\"hovertext\":[\"SITE25\"],\"legendgroup\":\"SITE25\",\"marker\":{\"color\":\"#EF553B\",\"pattern\":{\"shape\":\"\"}},\"name\":\"SITE25\",\"offsetgroup\":\"SITE25\",\"orientation\":\"v\",\"showlegend\":true,\"textposition\":\"auto\",\"x\":[\"SITE25\"],\"xaxis\":\"x\",\"y\":[188],\"yaxis\":\"y\",\"type\":\"bar\"},{\"alignmentgroup\":\"True\",\"hovertemplate\":\"<b>%{hovertext}</b><br><br>Warehouse=%{x}<br>Count of submitted TT (Issues)=%{y}<extra></extra>\",\"hovertext\":[\"SITE16\"],\"legendgroup\":\"SITE16\",\"marker\":{\"color\":\"#00cc96\",\"pattern\":{\"shape\":\"\"}},\"name\":\"SITE16\",\"offsetgroup\":\"SITE16\",\"orientation\":\"v\",\"showlegend\":true,\"textposition\":\"auto\",\"x\":[\"SITE16\"],\"xaxis\":\"x\",\"y\":[87],\"yaxis\":\"y\",\"type\":\"bar\"},{\"alignmentgroup\":\"True\",\"hovertemplate\":\"<b>%{hovertext}</b><br><br>Warehouse=%{x}<br>Count of submitted TT (Issues)=%{y}<extra></extra>\",\"hovertext\":[\"SITE17\"],\"legendgroup\":\"SITE17\",\"marker\":{\"color\":\"#ab63fa\",\"pattern\":{\"shape\":\"\"}},\"name\":\"SITE17\",\"offsetgroup\":\"SITE17\",\"orientation\":\"v\",\"showlegend\":true,\"textposition\":\"auto\",\"x\":[\"SITE17\"],\"xaxis\":\"x\",\"y\":[83],\"yaxis\":\"y\",\"type\":\"bar\"},{\"alignmentgroup\":\"True\",\"hovertemplate\":\"<b>%{hovertext}</b><br><br>Warehouse=%{x}<br>Count of submitted TT (Issues)=%{y}<extra></extra>\",\"hovertext\":[\"SITE2\"],\"legendgroup\":\"SITE2\",\"marker\":{\"color\":\"#FFA15A\",\"pattern\":{\"shape\":\"\"}},\"name\":\"SITE2\",\"offsetgroup\":\"SITE2\",\"orientation\":\"v\",\"showlegend\":true,\"textposition\":\"auto\",\"x\":[\"SITE2\"],\"xaxis\":\"x\",\"y\":[82],\"yaxis\":\"y\",\"type\":\"bar\"},{\"alignmentgroup\":\"True\",\"hovertemplate\":\"<b>%{hovertext}</b><br><br>Warehouse=%{x}<br>Count of submitted TT (Issues)=%{y}<extra></extra>\",\"hovertext\":[\"SITE22\"],\"legendgroup\":\"SITE22\",\"marker\":{\"color\":\"#19d3f3\",\"pattern\":{\"shape\":\"\"}},\"name\":\"SITE22\",\"offsetgroup\":\"SITE22\",\"orientation\":\"v\",\"showlegend\":true,\"textposition\":\"auto\",\"x\":[\"SITE22\"],\"xaxis\":\"x\",\"y\":[65],\"yaxis\":\"y\",\"type\":\"bar\"},{\"alignmentgroup\":\"True\",\"hovertemplate\":\"<b>%{hovertext}</b><br><br>Warehouse=%{x}<br>Count of submitted TT (Issues)=%{y}<extra></extra>\",\"hovertext\":[\"SITE5\"],\"legendgroup\":\"SITE5\",\"marker\":{\"color\":\"#FF6692\",\"pattern\":{\"shape\":\"\"}},\"name\":\"SITE5\",\"offsetgroup\":\"SITE5\",\"orientation\":\"v\",\"showlegend\":true,\"textposition\":\"auto\",\"x\":[\"SITE5\"],\"xaxis\":\"x\",\"y\":[63],\"yaxis\":\"y\",\"type\":\"bar\"},{\"alignmentgroup\":\"True\",\"hovertemplate\":\"<b>%{hovertext}</b><br><br>Warehouse=%{x}<br>Count of submitted TT (Issues)=%{y}<extra></extra>\",\"hovertext\":[\"SITE19\"],\"legendgroup\":\"SITE19\",\"marker\":{\"color\":\"#B6E880\",\"pattern\":{\"shape\":\"\"}},\"name\":\"SITE19\",\"offsetgroup\":\"SITE19\",\"orientation\":\"v\",\"showlegend\":true,\"textposition\":\"auto\",\"x\":[\"SITE19\"],\"xaxis\":\"x\",\"y\":[57],\"yaxis\":\"y\",\"type\":\"bar\"},{\"alignmentgroup\":\"True\",\"hovertemplate\":\"<b>%{hovertext}</b><br><br>Warehouse=%{x}<br>Count of submitted TT (Issues)=%{y}<extra></extra>\",\"hovertext\":[\"SITE6\"],\"legendgroup\":\"SITE6\",\"marker\":{\"color\":\"#FF97FF\",\"pattern\":{\"shape\":\"\"}},\"name\":\"SITE6\",\"offsetgroup\":\"SITE6\",\"orientation\":\"v\",\"showlegend\":true,\"textposition\":\"auto\",\"x\":[\"SITE6\"],\"xaxis\":\"x\",\"y\":[54],\"yaxis\":\"y\",\"type\":\"bar\"},{\"alignmentgroup\":\"True\",\"hovertemplate\":\"<b>%{hovertext}</b><br><br>Warehouse=%{x}<br>Count of submitted TT (Issues)=%{y}<extra></extra>\",\"hovertext\":[\"SITE18\"],\"legendgroup\":\"SITE18\",\"marker\":{\"color\":\"#FECB52\",\"pattern\":{\"shape\":\"\"}},\"name\":\"SITE18\",\"offsetgroup\":\"SITE18\",\"orientation\":\"v\",\"showlegend\":true,\"textposition\":\"auto\",\"x\":[\"SITE18\"],\"xaxis\":\"x\",\"y\":[54],\"yaxis\":\"y\",\"type\":\"bar\"},{\"alignmentgroup\":\"True\",\"hovertemplate\":\"<b>%{hovertext}</b><br><br>Warehouse=%{x}<br>Count of submitted TT (Issues)=%{y}<extra></extra>\",\"hovertext\":[\"SITE21\"],\"legendgroup\":\"SITE21\",\"marker\":{\"color\":\"#636efa\",\"pattern\":{\"shape\":\"\"}},\"name\":\"SITE21\",\"offsetgroup\":\"SITE21\",\"orientation\":\"v\",\"showlegend\":true,\"textposition\":\"auto\",\"x\":[\"SITE21\"],\"xaxis\":\"x\",\"y\":[48],\"yaxis\":\"y\",\"type\":\"bar\"},{\"alignmentgroup\":\"True\",\"hovertemplate\":\"<b>%{hovertext}</b><br><br>Warehouse=%{x}<br>Count of submitted TT (Issues)=%{y}<extra></extra>\",\"hovertext\":[\"SITE24\"],\"legendgroup\":\"SITE24\",\"marker\":{\"color\":\"#EF553B\",\"pattern\":{\"shape\":\"\"}},\"name\":\"SITE24\",\"offsetgroup\":\"SITE24\",\"orientation\":\"v\",\"showlegend\":true,\"textposition\":\"auto\",\"x\":[\"SITE24\"],\"xaxis\":\"x\",\"y\":[46],\"yaxis\":\"y\",\"type\":\"bar\"},{\"alignmentgroup\":\"True\",\"hovertemplate\":\"<b>%{hovertext}</b><br><br>Warehouse=%{x}<br>Count of submitted TT (Issues)=%{y}<extra></extra>\",\"hovertext\":[\"SITE11\"],\"legendgroup\":\"SITE11\",\"marker\":{\"color\":\"#00cc96\",\"pattern\":{\"shape\":\"\"}},\"name\":\"SITE11\",\"offsetgroup\":\"SITE11\",\"orientation\":\"v\",\"showlegend\":true,\"textposition\":\"auto\",\"x\":[\"SITE11\"],\"xaxis\":\"x\",\"y\":[32],\"yaxis\":\"y\",\"type\":\"bar\"},{\"alignmentgroup\":\"True\",\"hovertemplate\":\"<b>%{hovertext}</b><br><br>Warehouse=%{x}<br>Count of submitted TT (Issues)=%{y}<extra></extra>\",\"hovertext\":[\"SITE30\"],\"legendgroup\":\"SITE30\",\"marker\":{\"color\":\"#ab63fa\",\"pattern\":{\"shape\":\"\"}},\"name\":\"SITE30\",\"offsetgroup\":\"SITE30\",\"orientation\":\"v\",\"showlegend\":true,\"textposition\":\"auto\",\"x\":[\"SITE30\"],\"xaxis\":\"x\",\"y\":[27],\"yaxis\":\"y\",\"type\":\"bar\"},{\"alignmentgroup\":\"True\",\"hovertemplate\":\"<b>%{hovertext}</b><br><br>Warehouse=%{x}<br>Count of submitted TT (Issues)=%{y}<extra></extra>\",\"hovertext\":[\"SITE1\"],\"legendgroup\":\"SITE1\",\"marker\":{\"color\":\"#FFA15A\",\"pattern\":{\"shape\":\"\"}},\"name\":\"SITE1\",\"offsetgroup\":\"SITE1\",\"orientation\":\"v\",\"showlegend\":true,\"textposition\":\"auto\",\"x\":[\"SITE1\"],\"xaxis\":\"x\",\"y\":[25],\"yaxis\":\"y\",\"type\":\"bar\"},{\"alignmentgroup\":\"True\",\"hovertemplate\":\"<b>%{hovertext}</b><br><br>Warehouse=%{x}<br>Count of submitted TT (Issues)=%{y}<extra></extra>\",\"hovertext\":[\"SITE3\"],\"legendgroup\":\"SITE3\",\"marker\":{\"color\":\"#19d3f3\",\"pattern\":{\"shape\":\"\"}},\"name\":\"SITE3\",\"offsetgroup\":\"SITE3\",\"orientation\":\"v\",\"showlegend\":true,\"textposition\":\"auto\",\"x\":[\"SITE3\"],\"xaxis\":\"x\",\"y\":[21],\"yaxis\":\"y\",\"type\":\"bar\"},{\"alignmentgroup\":\"True\",\"hovertemplate\":\"<b>%{hovertext}</b><br><br>Warehouse=%{x}<br>Count of submitted TT (Issues)=%{y}<extra></extra>\",\"hovertext\":[\"SITE23\"],\"legendgroup\":\"SITE23\",\"marker\":{\"color\":\"#FF6692\",\"pattern\":{\"shape\":\"\"}},\"name\":\"SITE23\",\"offsetgroup\":\"SITE23\",\"orientation\":\"v\",\"showlegend\":true,\"textposition\":\"auto\",\"x\":[\"SITE23\"],\"xaxis\":\"x\",\"y\":[17],\"yaxis\":\"y\",\"type\":\"bar\"},{\"alignmentgroup\":\"True\",\"hovertemplate\":\"<b>%{hovertext}</b><br><br>Warehouse=%{x}<br>Count of submitted TT (Issues)=%{y}<extra></extra>\",\"hovertext\":[\"SITE26\"],\"legendgroup\":\"SITE26\",\"marker\":{\"color\":\"#B6E880\",\"pattern\":{\"shape\":\"\"}},\"name\":\"SITE26\",\"offsetgroup\":\"SITE26\",\"orientation\":\"v\",\"showlegend\":true,\"textposition\":\"auto\",\"x\":[\"SITE26\"],\"xaxis\":\"x\",\"y\":[14],\"yaxis\":\"y\",\"type\":\"bar\"},{\"alignmentgroup\":\"True\",\"hovertemplate\":\"<b>%{hovertext}</b><br><br>Warehouse=%{x}<br>Count of submitted TT (Issues)=%{y}<extra></extra>\",\"hovertext\":[\"SITE20\"],\"legendgroup\":\"SITE20\",\"marker\":{\"color\":\"#FF97FF\",\"pattern\":{\"shape\":\"\"}},\"name\":\"SITE20\",\"offsetgroup\":\"SITE20\",\"orientation\":\"v\",\"showlegend\":true,\"textposition\":\"auto\",\"x\":[\"SITE20\"],\"xaxis\":\"x\",\"y\":[14],\"yaxis\":\"y\",\"type\":\"bar\"},{\"alignmentgroup\":\"True\",\"hovertemplate\":\"<b>%{hovertext}</b><br><br>Warehouse=%{x}<br>Count of submitted TT (Issues)=%{y}<extra></extra>\",\"hovertext\":[\"SITE9\"],\"legendgroup\":\"SITE9\",\"marker\":{\"color\":\"#FECB52\",\"pattern\":{\"shape\":\"\"}},\"name\":\"SITE9\",\"offsetgroup\":\"SITE9\",\"orientation\":\"v\",\"showlegend\":true,\"textposition\":\"auto\",\"x\":[\"SITE9\"],\"xaxis\":\"x\",\"y\":[12],\"yaxis\":\"y\",\"type\":\"bar\"},{\"alignmentgroup\":\"True\",\"hovertemplate\":\"<b>%{hovertext}</b><br><br>Warehouse=%{x}<br>Count of submitted TT (Issues)=%{y}<extra></extra>\",\"hovertext\":[\"SITE10\"],\"legendgroup\":\"SITE10\",\"marker\":{\"color\":\"#636efa\",\"pattern\":{\"shape\":\"\"}},\"name\":\"SITE10\",\"offsetgroup\":\"SITE10\",\"orientation\":\"v\",\"showlegend\":true,\"textposition\":\"auto\",\"x\":[\"SITE10\"],\"xaxis\":\"x\",\"y\":[9],\"yaxis\":\"y\",\"type\":\"bar\"},{\"alignmentgroup\":\"True\",\"hovertemplate\":\"<b>%{hovertext}</b><br><br>Warehouse=%{x}<br>Count of submitted TT (Issues)=%{y}<extra></extra>\",\"hovertext\":[\"SITE4\"],\"legendgroup\":\"SITE4\",\"marker\":{\"color\":\"#EF553B\",\"pattern\":{\"shape\":\"\"}},\"name\":\"SITE4\",\"offsetgroup\":\"SITE4\",\"orientation\":\"v\",\"showlegend\":true,\"textposition\":\"auto\",\"x\":[\"SITE4\"],\"xaxis\":\"x\",\"y\":[6],\"yaxis\":\"y\",\"type\":\"bar\"},{\"alignmentgroup\":\"True\",\"hovertemplate\":\"<b>%{hovertext}</b><br><br>Warehouse=%{x}<br>Count of submitted TT (Issues)=%{y}<extra></extra>\",\"hovertext\":[\"SITE12\"],\"legendgroup\":\"SITE12\",\"marker\":{\"color\":\"#00cc96\",\"pattern\":{\"shape\":\"\"}},\"name\":\"SITE12\",\"offsetgroup\":\"SITE12\",\"orientation\":\"v\",\"showlegend\":true,\"textposition\":\"auto\",\"x\":[\"SITE12\"],\"xaxis\":\"x\",\"y\":[6],\"yaxis\":\"y\",\"type\":\"bar\"},{\"alignmentgroup\":\"True\",\"hovertemplate\":\"<b>%{hovertext}</b><br><br>Warehouse=%{x}<br>Count of submitted TT (Issues)=%{y}<extra></extra>\",\"hovertext\":[\"SITE14\"],\"legendgroup\":\"SITE14\",\"marker\":{\"color\":\"#ab63fa\",\"pattern\":{\"shape\":\"\"}},\"name\":\"SITE14\",\"offsetgroup\":\"SITE14\",\"orientation\":\"v\",\"showlegend\":true,\"textposition\":\"auto\",\"x\":[\"SITE14\"],\"xaxis\":\"x\",\"y\":[5],\"yaxis\":\"y\",\"type\":\"bar\"},{\"alignmentgroup\":\"True\",\"hovertemplate\":\"<b>%{hovertext}</b><br><br>Warehouse=%{x}<br>Count of submitted TT (Issues)=%{y}<extra></extra>\",\"hovertext\":[\"SITE13\"],\"legendgroup\":\"SITE13\",\"marker\":{\"color\":\"#FFA15A\",\"pattern\":{\"shape\":\"\"}},\"name\":\"SITE13\",\"offsetgroup\":\"SITE13\",\"orientation\":\"v\",\"showlegend\":true,\"textposition\":\"auto\",\"x\":[\"SITE13\"],\"xaxis\":\"x\",\"y\":[5],\"yaxis\":\"y\",\"type\":\"bar\"},{\"alignmentgroup\":\"True\",\"hovertemplate\":\"<b>%{hovertext}</b><br><br>Warehouse=%{x}<br>Count of submitted TT (Issues)=%{y}<extra></extra>\",\"hovertext\":[\"SITE27\"],\"legendgroup\":\"SITE27\",\"marker\":{\"color\":\"#19d3f3\",\"pattern\":{\"shape\":\"\"}},\"name\":\"SITE27\",\"offsetgroup\":\"SITE27\",\"orientation\":\"v\",\"showlegend\":true,\"textposition\":\"auto\",\"x\":[\"SITE27\"],\"xaxis\":\"x\",\"y\":[4],\"yaxis\":\"y\",\"type\":\"bar\"},{\"alignmentgroup\":\"True\",\"hovertemplate\":\"<b>%{hovertext}</b><br><br>Warehouse=%{x}<br>Count of submitted TT (Issues)=%{y}<extra></extra>\",\"hovertext\":[\"SITE29\"],\"legendgroup\":\"SITE29\",\"marker\":{\"color\":\"#FF6692\",\"pattern\":{\"shape\":\"\"}},\"name\":\"SITE29\",\"offsetgroup\":\"SITE29\",\"orientation\":\"v\",\"showlegend\":true,\"textposition\":\"auto\",\"x\":[\"SITE29\"],\"xaxis\":\"x\",\"y\":[1],\"yaxis\":\"y\",\"type\":\"bar\"}],                        {\"template\":{\"data\":{\"bar\":[{\"error_x\":{\"color\":\"#2a3f5f\"},\"error_y\":{\"color\":\"#2a3f5f\"},\"marker\":{\"line\":{\"color\":\"#E5ECF6\",\"width\":0.5},\"pattern\":{\"fillmode\":\"overlay\",\"size\":10,\"solidity\":0.2}},\"type\":\"bar\"}],\"barpolar\":[{\"marker\":{\"line\":{\"color\":\"#E5ECF6\",\"width\":0.5},\"pattern\":{\"fillmode\":\"overlay\",\"size\":10,\"solidity\":0.2}},\"type\":\"barpolar\"}],\"carpet\":[{\"aaxis\":{\"endlinecolor\":\"#2a3f5f\",\"gridcolor\":\"white\",\"linecolor\":\"white\",\"minorgridcolor\":\"white\",\"startlinecolor\":\"#2a3f5f\"},\"baxis\":{\"endlinecolor\":\"#2a3f5f\",\"gridcolor\":\"white\",\"linecolor\":\"white\",\"minorgridcolor\":\"white\",\"startlinecolor\":\"#2a3f5f\"},\"type\":\"carpet\"}],\"choropleth\":[{\"colorbar\":{\"outlinewidth\":0,\"ticks\":\"\"},\"type\":\"choropleth\"}],\"contour\":[{\"colorbar\":{\"outlinewidth\":0,\"ticks\":\"\"},\"colorscale\":[[0.0,\"#0d0887\"],[0.1111111111111111,\"#46039f\"],[0.2222222222222222,\"#7201a8\"],[0.3333333333333333,\"#9c179e\"],[0.4444444444444444,\"#bd3786\"],[0.5555555555555556,\"#d8576b\"],[0.6666666666666666,\"#ed7953\"],[0.7777777777777778,\"#fb9f3a\"],[0.8888888888888888,\"#fdca26\"],[1.0,\"#f0f921\"]],\"type\":\"contour\"}],\"contourcarpet\":[{\"colorbar\":{\"outlinewidth\":0,\"ticks\":\"\"},\"type\":\"contourcarpet\"}],\"heatmap\":[{\"colorbar\":{\"outlinewidth\":0,\"ticks\":\"\"},\"colorscale\":[[0.0,\"#0d0887\"],[0.1111111111111111,\"#46039f\"],[0.2222222222222222,\"#7201a8\"],[0.3333333333333333,\"#9c179e\"],[0.4444444444444444,\"#bd3786\"],[0.5555555555555556,\"#d8576b\"],[0.6666666666666666,\"#ed7953\"],[0.7777777777777778,\"#fb9f3a\"],[0.8888888888888888,\"#fdca26\"],[1.0,\"#f0f921\"]],\"type\":\"heatmap\"}],\"heatmapgl\":[{\"colorbar\":{\"outlinewidth\":0,\"ticks\":\"\"},\"colorscale\":[[0.0,\"#0d0887\"],[0.1111111111111111,\"#46039f\"],[0.2222222222222222,\"#7201a8\"],[0.3333333333333333,\"#9c179e\"],[0.4444444444444444,\"#bd3786\"],[0.5555555555555556,\"#d8576b\"],[0.6666666666666666,\"#ed7953\"],[0.7777777777777778,\"#fb9f3a\"],[0.8888888888888888,\"#fdca26\"],[1.0,\"#f0f921\"]],\"type\":\"heatmapgl\"}],\"histogram\":[{\"marker\":{\"pattern\":{\"fillmode\":\"overlay\",\"size\":10,\"solidity\":0.2}},\"type\":\"histogram\"}],\"histogram2d\":[{\"colorbar\":{\"outlinewidth\":0,\"ticks\":\"\"},\"colorscale\":[[0.0,\"#0d0887\"],[0.1111111111111111,\"#46039f\"],[0.2222222222222222,\"#7201a8\"],[0.3333333333333333,\"#9c179e\"],[0.4444444444444444,\"#bd3786\"],[0.5555555555555556,\"#d8576b\"],[0.6666666666666666,\"#ed7953\"],[0.7777777777777778,\"#fb9f3a\"],[0.8888888888888888,\"#fdca26\"],[1.0,\"#f0f921\"]],\"type\":\"histogram2d\"}],\"histogram2dcontour\":[{\"colorbar\":{\"outlinewidth\":0,\"ticks\":\"\"},\"colorscale\":[[0.0,\"#0d0887\"],[0.1111111111111111,\"#46039f\"],[0.2222222222222222,\"#7201a8\"],[0.3333333333333333,\"#9c179e\"],[0.4444444444444444,\"#bd3786\"],[0.5555555555555556,\"#d8576b\"],[0.6666666666666666,\"#ed7953\"],[0.7777777777777778,\"#fb9f3a\"],[0.8888888888888888,\"#fdca26\"],[1.0,\"#f0f921\"]],\"type\":\"histogram2dcontour\"}],\"mesh3d\":[{\"colorbar\":{\"outlinewidth\":0,\"ticks\":\"\"},\"type\":\"mesh3d\"}],\"parcoords\":[{\"line\":{\"colorbar\":{\"outlinewidth\":0,\"ticks\":\"\"}},\"type\":\"parcoords\"}],\"pie\":[{\"automargin\":true,\"type\":\"pie\"}],\"scatter\":[{\"marker\":{\"colorbar\":{\"outlinewidth\":0,\"ticks\":\"\"}},\"type\":\"scatter\"}],\"scatter3d\":[{\"line\":{\"colorbar\":{\"outlinewidth\":0,\"ticks\":\"\"}},\"marker\":{\"colorbar\":{\"outlinewidth\":0,\"ticks\":\"\"}},\"type\":\"scatter3d\"}],\"scattercarpet\":[{\"marker\":{\"colorbar\":{\"outlinewidth\":0,\"ticks\":\"\"}},\"type\":\"scattercarpet\"}],\"scattergeo\":[{\"marker\":{\"colorbar\":{\"outlinewidth\":0,\"ticks\":\"\"}},\"type\":\"scattergeo\"}],\"scattergl\":[{\"marker\":{\"colorbar\":{\"outlinewidth\":0,\"ticks\":\"\"}},\"type\":\"scattergl\"}],\"scattermapbox\":[{\"marker\":{\"colorbar\":{\"outlinewidth\":0,\"ticks\":\"\"}},\"type\":\"scattermapbox\"}],\"scatterpolar\":[{\"marker\":{\"colorbar\":{\"outlinewidth\":0,\"ticks\":\"\"}},\"type\":\"scatterpolar\"}],\"scatterpolargl\":[{\"marker\":{\"colorbar\":{\"outlinewidth\":0,\"ticks\":\"\"}},\"type\":\"scatterpolargl\"}],\"scatterternary\":[{\"marker\":{\"colorbar\":{\"outlinewidth\":0,\"ticks\":\"\"}},\"type\":\"scatterternary\"}],\"surface\":[{\"colorbar\":{\"outlinewidth\":0,\"ticks\":\"\"},\"colorscale\":[[0.0,\"#0d0887\"],[0.1111111111111111,\"#46039f\"],[0.2222222222222222,\"#7201a8\"],[0.3333333333333333,\"#9c179e\"],[0.4444444444444444,\"#bd3786\"],[0.5555555555555556,\"#d8576b\"],[0.6666666666666666,\"#ed7953\"],[0.7777777777777778,\"#fb9f3a\"],[0.8888888888888888,\"#fdca26\"],[1.0,\"#f0f921\"]],\"type\":\"surface\"}],\"table\":[{\"cells\":{\"fill\":{\"color\":\"#EBF0F8\"},\"line\":{\"color\":\"white\"}},\"header\":{\"fill\":{\"color\":\"#C8D4E3\"},\"line\":{\"color\":\"white\"}},\"type\":\"table\"}]},\"layout\":{\"annotationdefaults\":{\"arrowcolor\":\"#2a3f5f\",\"arrowhead\":0,\"arrowwidth\":1},\"autotypenumbers\":\"strict\",\"coloraxis\":{\"colorbar\":{\"outlinewidth\":0,\"ticks\":\"\"}},\"colorscale\":{\"diverging\":[[0,\"#8e0152\"],[0.1,\"#c51b7d\"],[0.2,\"#de77ae\"],[0.3,\"#f1b6da\"],[0.4,\"#fde0ef\"],[0.5,\"#f7f7f7\"],[0.6,\"#e6f5d0\"],[0.7,\"#b8e186\"],[0.8,\"#7fbc41\"],[0.9,\"#4d9221\"],[1,\"#276419\"]],\"sequential\":[[0.0,\"#0d0887\"],[0.1111111111111111,\"#46039f\"],[0.2222222222222222,\"#7201a8\"],[0.3333333333333333,\"#9c179e\"],[0.4444444444444444,\"#bd3786\"],[0.5555555555555556,\"#d8576b\"],[0.6666666666666666,\"#ed7953\"],[0.7777777777777778,\"#fb9f3a\"],[0.8888888888888888,\"#fdca26\"],[1.0,\"#f0f921\"]],\"sequentialminus\":[[0.0,\"#0d0887\"],[0.1111111111111111,\"#46039f\"],[0.2222222222222222,\"#7201a8\"],[0.3333333333333333,\"#9c179e\"],[0.4444444444444444,\"#bd3786\"],[0.5555555555555556,\"#d8576b\"],[0.6666666666666666,\"#ed7953\"],[0.7777777777777778,\"#fb9f3a\"],[0.8888888888888888,\"#fdca26\"],[1.0,\"#f0f921\"]]},\"colorway\":[\"#636efa\",\"#EF553B\",\"#00cc96\",\"#ab63fa\",\"#FFA15A\",\"#19d3f3\",\"#FF6692\",\"#B6E880\",\"#FF97FF\",\"#FECB52\"],\"font\":{\"color\":\"#2a3f5f\"},\"geo\":{\"bgcolor\":\"white\",\"lakecolor\":\"white\",\"landcolor\":\"#E5ECF6\",\"showlakes\":true,\"showland\":true,\"subunitcolor\":\"white\"},\"hoverlabel\":{\"align\":\"left\"},\"hovermode\":\"closest\",\"mapbox\":{\"style\":\"light\"},\"paper_bgcolor\":\"white\",\"plot_bgcolor\":\"#E5ECF6\",\"polar\":{\"angularaxis\":{\"gridcolor\":\"white\",\"linecolor\":\"white\",\"ticks\":\"\"},\"bgcolor\":\"#E5ECF6\",\"radialaxis\":{\"gridcolor\":\"white\",\"linecolor\":\"white\",\"ticks\":\"\"}},\"scene\":{\"xaxis\":{\"backgroundcolor\":\"#E5ECF6\",\"gridcolor\":\"white\",\"gridwidth\":2,\"linecolor\":\"white\",\"showbackground\":true,\"ticks\":\"\",\"zerolinecolor\":\"white\"},\"yaxis\":{\"backgroundcolor\":\"#E5ECF6\",\"gridcolor\":\"white\",\"gridwidth\":2,\"linecolor\":\"white\",\"showbackground\":true,\"ticks\":\"\",\"zerolinecolor\":\"white\"},\"zaxis\":{\"backgroundcolor\":\"#E5ECF6\",\"gridcolor\":\"white\",\"gridwidth\":2,\"linecolor\":\"white\",\"showbackground\":true,\"ticks\":\"\",\"zerolinecolor\":\"white\"}},\"shapedefaults\":{\"line\":{\"color\":\"#2a3f5f\"}},\"ternary\":{\"aaxis\":{\"gridcolor\":\"white\",\"linecolor\":\"white\",\"ticks\":\"\"},\"baxis\":{\"gridcolor\":\"white\",\"linecolor\":\"white\",\"ticks\":\"\"},\"bgcolor\":\"#E5ECF6\",\"caxis\":{\"gridcolor\":\"white\",\"linecolor\":\"white\",\"ticks\":\"\"}},\"title\":{\"x\":0.05},\"xaxis\":{\"automargin\":true,\"gridcolor\":\"white\",\"linecolor\":\"white\",\"ticks\":\"\",\"title\":{\"standoff\":15},\"zerolinecolor\":\"white\",\"zerolinewidth\":2},\"yaxis\":{\"automargin\":true,\"gridcolor\":\"white\",\"linecolor\":\"white\",\"ticks\":\"\",\"title\":{\"standoff\":15},\"zerolinecolor\":\"white\",\"zerolinewidth\":2}}},\"xaxis\":{\"anchor\":\"y\",\"domain\":[0.0,1.0],\"title\":{\"text\":\"Warehouse\"},\"categoryorder\":\"array\",\"categoryarray\":[\"SITE7\",\"SITE25\",\"SITE16\",\"SITE17\",\"SITE2\",\"SITE22\",\"SITE5\",\"SITE19\",\"SITE6\",\"SITE18\",\"SITE21\",\"SITE24\",\"SITE11\",\"SITE30\",\"SITE1\",\"SITE3\",\"SITE23\",\"SITE26\",\"SITE20\",\"SITE9\",\"SITE10\",\"SITE4\",\"SITE12\",\"SITE14\",\"SITE13\",\"SITE27\",\"SITE29\"]},\"yaxis\":{\"anchor\":\"x\",\"domain\":[0.0,1.0],\"title\":{\"text\":\"Count of submitted TT (Issues)\"}},\"legend\":{\"title\":{\"text\":\"Warehouse\"},\"tracegroupgap\":0},\"title\":{\"text\":\"Summary of current submitted trouble tickets (issues) at whole scope\",\"x\":0.5},\"barmode\":\"relative\"},                        {\"responsive\": true}                    ).then(function(){\n",
       "                            \n",
       "var gd = document.getElementById('1449971b-b490-4fb6-ba8b-8ac754393b8f');\n",
       "var x = new MutationObserver(function (mutations, observer) {{\n",
       "        var display = window.getComputedStyle(gd).display;\n",
       "        if (!display || display === 'none') {{\n",
       "            console.log([gd, 'removed!']);\n",
       "            Plotly.purge(gd);\n",
       "            observer.disconnect();\n",
       "        }}\n",
       "}});\n",
       "\n",
       "// Listen for the removal of the full notebook cells\n",
       "var notebookContainer = gd.closest('#notebook-container');\n",
       "if (notebookContainer) {{\n",
       "    x.observe(notebookContainer, {childList: true});\n",
       "}}\n",
       "\n",
       "// Listen for the clearing of the current output cell\n",
       "var outputEl = gd.closest('.output');\n",
       "if (outputEl) {{\n",
       "    x.observe(outputEl, {childList: true});\n",
       "}}\n",
       "\n",
       "                        })                };                });            </script>        </div>"
      ]
     },
     "metadata": {},
     "output_type": "display_data"
    }
   ],
   "source": [
    "fig = px.bar(data_frame=submitted_sorted,\n",
    "             x='Warehouse',\n",
    "             y='ID',\n",
    "             labels={\n",
    "                 'ID': 'Count of submitted TT (Issues)'                 \n",
    "             },\n",
    "             color='Warehouse',\n",
    "             hover_name='Warehouse',             \n",
    "             title='Summary of current submitted trouble tickets (issues) at whole scope',\n",
    "             )\n",
    "fig.update_layout(title_x=0.5)\n",
    "fig.show()"
   ]
  },
  {
   "cell_type": "code",
   "execution_count": 49,
   "id": "f03bb296-a0a9-49d6-affa-0d57f2f8b2aa",
   "metadata": {
    "tags": []
   },
   "outputs": [
    {
     "data": {
      "text/html": [
       "<div>\n",
       "<style scoped>\n",
       "    .dataframe tbody tr th:only-of-type {\n",
       "        vertical-align: middle;\n",
       "    }\n",
       "\n",
       "    .dataframe tbody tr th {\n",
       "        vertical-align: top;\n",
       "    }\n",
       "\n",
       "    .dataframe thead th {\n",
       "        text-align: right;\n",
       "    }\n",
       "</style>\n",
       "<table border=\"1\" class=\"dataframe\">\n",
       "  <thead>\n",
       "    <tr style=\"text-align: right;\">\n",
       "      <th></th>\n",
       "      <th>ID</th>\n",
       "      <th>Title</th>\n",
       "      <th>Category</th>\n",
       "      <th>Status</th>\n",
       "      <th>Warehouse</th>\n",
       "      <th>SLA</th>\n",
       "      <th>TT#</th>\n",
       "      <th>Update</th>\n",
       "      <th>Create</th>\n",
       "      <th>Sev</th>\n",
       "      <th>Unnamed: 10</th>\n",
       "      <th>Country</th>\n",
       "      <th>Manager</th>\n",
       "    </tr>\n",
       "  </thead>\n",
       "  <tbody>\n",
       "    <tr>\n",
       "      <th>0</th>\n",
       "      <td>1977829</td>\n",
       "      <td>Title_62</td>\n",
       "      <td>Category_28</td>\n",
       "      <td>Assigned</td>\n",
       "      <td>SITE16</td>\n",
       "      <td>Jan-48</td>\n",
       "      <td>0afc93d5-6b37-4f37-a16e-05606f01e620</td>\n",
       "      <td>2022-12-01 18:42:21 +0100</td>\n",
       "      <td>2022-12-01 18:42:21 +0100</td>\n",
       "      <td>5.0</td>\n",
       "      <td>NaN</td>\n",
       "      <td>DE</td>\n",
       "      <td>Katarzyna</td>\n",
       "    </tr>\n",
       "    <tr>\n",
       "      <th>1</th>\n",
       "      <td>1977830</td>\n",
       "      <td>Title_1100</td>\n",
       "      <td>Category_14</td>\n",
       "      <td>Assigned</td>\n",
       "      <td>SITE1</td>\n",
       "      <td>Jan-48</td>\n",
       "      <td>ca9e8b9b-5452-4ab0-bef6-a8a15abb14fb</td>\n",
       "      <td>2022-12-01 18:42:21 +0100</td>\n",
       "      <td>2022-12-01 18:42:21 +0100</td>\n",
       "      <td>4.0</td>\n",
       "      <td>NaN</td>\n",
       "      <td>DE</td>\n",
       "      <td>Beata</td>\n",
       "    </tr>\n",
       "    <tr>\n",
       "      <th>2</th>\n",
       "      <td>1970047</td>\n",
       "      <td>Title_410</td>\n",
       "      <td>Category_36</td>\n",
       "      <td>Assigned</td>\n",
       "      <td>SITE4</td>\n",
       "      <td>141/24</td>\n",
       "      <td>c775ea43-add7-4c90-8207-c19520cc625f</td>\n",
       "      <td>2022-12-01 18:16:34 +0100</td>\n",
       "      <td>2022-11-25 22:05:04 +0100</td>\n",
       "      <td>3.0</td>\n",
       "      <td>NaN</td>\n",
       "      <td>DE</td>\n",
       "      <td>Beata</td>\n",
       "    </tr>\n",
       "    <tr>\n",
       "      <th>3</th>\n",
       "      <td>1977790</td>\n",
       "      <td>Title_295</td>\n",
       "      <td>Category_60</td>\n",
       "      <td>Assigned</td>\n",
       "      <td>SITE5</td>\n",
       "      <td>24-Feb</td>\n",
       "      <td>de5b7a52-d543-420d-9d44-18309959ed94</td>\n",
       "      <td>2022-12-01 17:23:16 +0100</td>\n",
       "      <td>2022-12-01 17:23:16 +0100</td>\n",
       "      <td>3.0</td>\n",
       "      <td>NaN</td>\n",
       "      <td>PL</td>\n",
       "      <td>Beata</td>\n",
       "    </tr>\n",
       "    <tr>\n",
       "      <th>4</th>\n",
       "      <td>1977759</td>\n",
       "      <td>Title_386</td>\n",
       "      <td>Category_2</td>\n",
       "      <td>Assigned</td>\n",
       "      <td>SITE1</td>\n",
       "      <td>24-Mar</td>\n",
       "      <td>e3747f75-c4bb-4807-9497-3aa01905a429</td>\n",
       "      <td>2022-12-01 16:41:07 +0100</td>\n",
       "      <td>2022-12-01 16:41:07 +0100</td>\n",
       "      <td>3.0</td>\n",
       "      <td>NaN</td>\n",
       "      <td>DE</td>\n",
       "      <td>Beata</td>\n",
       "    </tr>\n",
       "    <tr>\n",
       "      <th>...</th>\n",
       "      <td>...</td>\n",
       "      <td>...</td>\n",
       "      <td>...</td>\n",
       "      <td>...</td>\n",
       "      <td>...</td>\n",
       "      <td>...</td>\n",
       "      <td>...</td>\n",
       "      <td>...</td>\n",
       "      <td>...</td>\n",
       "      <td>...</td>\n",
       "      <td>...</td>\n",
       "      <td>...</td>\n",
       "      <td>...</td>\n",
       "    </tr>\n",
       "    <tr>\n",
       "      <th>1132</th>\n",
       "      <td>1967521</td>\n",
       "      <td>Title_42</td>\n",
       "      <td>Category_82</td>\n",
       "      <td>Assigned</td>\n",
       "      <td>SITE13</td>\n",
       "      <td>179/24</td>\n",
       "      <td>545e04e3-95bd-4751-bc84-880e51812fcb</td>\n",
       "      <td>2022-11-24 08:17:53 +0100</td>\n",
       "      <td>2022-11-24 08:17:53 +0100</td>\n",
       "      <td>3.0</td>\n",
       "      <td>NaN</td>\n",
       "      <td>UK</td>\n",
       "      <td>Beata</td>\n",
       "    </tr>\n",
       "    <tr>\n",
       "      <th>1133</th>\n",
       "      <td>1952306</td>\n",
       "      <td>Title_40</td>\n",
       "      <td>Category_8</td>\n",
       "      <td>Assigned</td>\n",
       "      <td>SITE13</td>\n",
       "      <td>478/2048</td>\n",
       "      <td>b1dac401-0460-4b80-b057-7b1e42c0860b</td>\n",
       "      <td>2022-11-23 14:00:40 +0100</td>\n",
       "      <td>2022-11-11 21:11:12 +0100</td>\n",
       "      <td>5.0</td>\n",
       "      <td>NaN</td>\n",
       "      <td>UK</td>\n",
       "      <td>Beata</td>\n",
       "    </tr>\n",
       "    <tr>\n",
       "      <th>1134</th>\n",
       "      <td>1903065</td>\n",
       "      <td>Title_854</td>\n",
       "      <td>Category_85</td>\n",
       "      <td>Assigned</td>\n",
       "      <td>SITE14</td>\n",
       "      <td>1443/24</td>\n",
       "      <td>8fd74efa-0d42-4648-b3eb-bd1415169731</td>\n",
       "      <td>2022-11-23 11:43:37 +0100</td>\n",
       "      <td>2022-10-02 17:12:26 +0200</td>\n",
       "      <td>3.0</td>\n",
       "      <td>NaN</td>\n",
       "      <td>UK</td>\n",
       "      <td>Beata</td>\n",
       "    </tr>\n",
       "    <tr>\n",
       "      <th>1137</th>\n",
       "      <td>1964741</td>\n",
       "      <td>Title_128</td>\n",
       "      <td>Category_85</td>\n",
       "      <td>Assigned</td>\n",
       "      <td>SITE14</td>\n",
       "      <td>224/24</td>\n",
       "      <td>f2a37e4e-6c23-414f-93ed-a7d225dd5765</td>\n",
       "      <td>2022-11-22 11:20:45 +0100</td>\n",
       "      <td>2022-11-22 11:20:45 +0100</td>\n",
       "      <td>3.0</td>\n",
       "      <td>NaN</td>\n",
       "      <td>UK</td>\n",
       "      <td>Beata</td>\n",
       "    </tr>\n",
       "    <tr>\n",
       "      <th>1141</th>\n",
       "      <td>1935497</td>\n",
       "      <td>Title_518</td>\n",
       "      <td>Category_8</td>\n",
       "      <td>Assigned</td>\n",
       "      <td>SITE15</td>\n",
       "      <td>820/2048</td>\n",
       "      <td>61873155-590d-468a-88a7-7469363acea2</td>\n",
       "      <td>2022-11-20 09:16:18 +0100</td>\n",
       "      <td>2022-10-28 16:12:22 +0200</td>\n",
       "      <td>5.0</td>\n",
       "      <td>NaN</td>\n",
       "      <td>UK</td>\n",
       "      <td>Beata</td>\n",
       "    </tr>\n",
       "  </tbody>\n",
       "</table>\n",
       "<p>944 rows × 13 columns</p>\n",
       "</div>"
      ],
      "text/plain": [
       "           ID       Title     Category    Status Warehouse       SLA  \\\n",
       "0     1977829    Title_62  Category_28  Assigned    SITE16    Jan-48   \n",
       "1     1977830  Title_1100  Category_14  Assigned     SITE1    Jan-48   \n",
       "2     1970047   Title_410  Category_36  Assigned     SITE4    141/24   \n",
       "3     1977790   Title_295  Category_60  Assigned     SITE5    24-Feb   \n",
       "4     1977759   Title_386   Category_2  Assigned     SITE1    24-Mar   \n",
       "...       ...         ...          ...       ...       ...       ...   \n",
       "1132  1967521    Title_42  Category_82  Assigned    SITE13    179/24   \n",
       "1133  1952306    Title_40   Category_8  Assigned    SITE13  478/2048   \n",
       "1134  1903065   Title_854  Category_85  Assigned    SITE14   1443/24   \n",
       "1137  1964741   Title_128  Category_85  Assigned    SITE14    224/24   \n",
       "1141  1935497   Title_518   Category_8  Assigned    SITE15  820/2048   \n",
       "\n",
       "                                       TT#                     Update  \\\n",
       "0     0afc93d5-6b37-4f37-a16e-05606f01e620  2022-12-01 18:42:21 +0100   \n",
       "1     ca9e8b9b-5452-4ab0-bef6-a8a15abb14fb  2022-12-01 18:42:21 +0100   \n",
       "2     c775ea43-add7-4c90-8207-c19520cc625f  2022-12-01 18:16:34 +0100   \n",
       "3     de5b7a52-d543-420d-9d44-18309959ed94  2022-12-01 17:23:16 +0100   \n",
       "4     e3747f75-c4bb-4807-9497-3aa01905a429  2022-12-01 16:41:07 +0100   \n",
       "...                                    ...                        ...   \n",
       "1132  545e04e3-95bd-4751-bc84-880e51812fcb  2022-11-24 08:17:53 +0100   \n",
       "1133  b1dac401-0460-4b80-b057-7b1e42c0860b  2022-11-23 14:00:40 +0100   \n",
       "1134  8fd74efa-0d42-4648-b3eb-bd1415169731  2022-11-23 11:43:37 +0100   \n",
       "1137  f2a37e4e-6c23-414f-93ed-a7d225dd5765  2022-11-22 11:20:45 +0100   \n",
       "1141  61873155-590d-468a-88a7-7469363acea2  2022-11-20 09:16:18 +0100   \n",
       "\n",
       "                         Create  Sev Unnamed: 10 Country    Manager  \n",
       "0     2022-12-01 18:42:21 +0100  5.0         NaN      DE  Katarzyna  \n",
       "1     2022-12-01 18:42:21 +0100  4.0         NaN      DE      Beata  \n",
       "2     2022-11-25 22:05:04 +0100  3.0         NaN      DE      Beata  \n",
       "3     2022-12-01 17:23:16 +0100  3.0         NaN      PL      Beata  \n",
       "4     2022-12-01 16:41:07 +0100  3.0         NaN      DE      Beata  \n",
       "...                         ...  ...         ...     ...        ...  \n",
       "1132  2022-11-24 08:17:53 +0100  3.0         NaN      UK      Beata  \n",
       "1133  2022-11-11 21:11:12 +0100  5.0         NaN      UK      Beata  \n",
       "1134  2022-10-02 17:12:26 +0200  3.0         NaN      UK      Beata  \n",
       "1137  2022-11-22 11:20:45 +0100  3.0         NaN      UK      Beata  \n",
       "1141  2022-10-28 16:12:22 +0200  5.0         NaN      UK      Beata  \n",
       "\n",
       "[944 rows x 13 columns]"
      ]
     },
     "execution_count": 49,
     "metadata": {},
     "output_type": "execute_result"
    }
   ],
   "source": [
    "# Assigned\n",
    "\n",
    "outgoing_site_filter = outgoing.Warehouse.isin(warehouse)\n",
    "outgoing[outgoing_site_filter]"
   ]
  },
  {
   "cell_type": "code",
   "execution_count": 50,
   "id": "7a425d73-152c-4d25-a5cf-521d9a2486d8",
   "metadata": {
    "tags": []
   },
   "outputs": [
    {
     "data": {
      "text/plain": [
       "Warehouse\n",
       "SITE7     184\n",
       "SITE3     145\n",
       "SITE30    123\n",
       "SITE5     113\n",
       "SITE24     87\n",
       "SITE21     65\n",
       "SITE26     37\n",
       "SITE4      36\n",
       "SITE2      27\n",
       "SITE6      26\n",
       "SITE13     20\n",
       "SITE14     16\n",
       "SITE15     12\n",
       "SITE17     11\n",
       "SITE22      8\n",
       "SITE19      7\n",
       "SITE27      4\n",
       "SITE1       4\n",
       "SITE18      4\n",
       "SITE20      3\n",
       "SITE16      3\n",
       "SITE11      3\n",
       "SITE9       2\n",
       "SITE25      1\n",
       "SITE10      1\n",
       "SITE12      1\n",
       "SITE8       1\n",
       "Name: ID, dtype: int64"
      ]
     },
     "execution_count": 50,
     "metadata": {},
     "output_type": "execute_result"
    }
   ],
   "source": [
    "# assigned TT to site \n",
    "\n",
    "assigned = outgoing[outgoing_site_filter].groupby('Warehouse').agg('count')\n",
    "assigned_warehouse = assigned.sort_values('ID', ascending=False)\n",
    "assigned_sorted = assigned.sort_values('ID', ascending=False).reset_index()\n",
    "assigned_warehouse['ID']"
   ]
  },
  {
   "cell_type": "code",
   "execution_count": 51,
   "id": "3359ac02-f529-458e-bc49-b0b3ba312796",
   "metadata": {
    "tags": []
   },
   "outputs": [
    {
     "data": {
      "text/plain": [
       "0     184\n",
       "1     145\n",
       "2     123\n",
       "3     113\n",
       "4      87\n",
       "5      65\n",
       "6      37\n",
       "7      36\n",
       "8      27\n",
       "9      26\n",
       "10     20\n",
       "11     16\n",
       "12     12\n",
       "13     11\n",
       "14      8\n",
       "15      7\n",
       "16      4\n",
       "17      4\n",
       "18      4\n",
       "19      3\n",
       "20      3\n",
       "21      3\n",
       "22      2\n",
       "23      1\n",
       "24      1\n",
       "25      1\n",
       "26      1\n",
       "Name: ID, dtype: int64"
      ]
     },
     "execution_count": 51,
     "metadata": {},
     "output_type": "execute_result"
    }
   ],
   "source": [
    "assigned_sorted['ID']"
   ]
  },
  {
   "cell_type": "code",
   "execution_count": 52,
   "id": "86b04770-705e-4211-ae3d-891485179520",
   "metadata": {},
   "outputs": [
    {
     "data": {
      "application/vnd.plotly.v1+json": {
       "config": {
        "plotlyServerURL": "https://plot.ly"
       },
       "data": [
        {
         "alignmentgroup": "True",
         "hovertemplate": "<b>%{hovertext}</b><br><br>Warehouse=%{x}<br>Count of assigned TT (Issues)=%{y}<extra></extra>",
         "hovertext": [
          "SITE7"
         ],
         "legendgroup": "SITE7",
         "marker": {
          "color": "#636efa",
          "pattern": {
           "shape": ""
          }
         },
         "name": "SITE7",
         "offsetgroup": "SITE7",
         "orientation": "v",
         "showlegend": true,
         "textposition": "auto",
         "type": "bar",
         "x": [
          "SITE7"
         ],
         "xaxis": "x",
         "y": [
          184
         ],
         "yaxis": "y"
        },
        {
         "alignmentgroup": "True",
         "hovertemplate": "<b>%{hovertext}</b><br><br>Warehouse=%{x}<br>Count of assigned TT (Issues)=%{y}<extra></extra>",
         "hovertext": [
          "SITE3"
         ],
         "legendgroup": "SITE3",
         "marker": {
          "color": "#EF553B",
          "pattern": {
           "shape": ""
          }
         },
         "name": "SITE3",
         "offsetgroup": "SITE3",
         "orientation": "v",
         "showlegend": true,
         "textposition": "auto",
         "type": "bar",
         "x": [
          "SITE3"
         ],
         "xaxis": "x",
         "y": [
          145
         ],
         "yaxis": "y"
        },
        {
         "alignmentgroup": "True",
         "hovertemplate": "<b>%{hovertext}</b><br><br>Warehouse=%{x}<br>Count of assigned TT (Issues)=%{y}<extra></extra>",
         "hovertext": [
          "SITE30"
         ],
         "legendgroup": "SITE30",
         "marker": {
          "color": "#00cc96",
          "pattern": {
           "shape": ""
          }
         },
         "name": "SITE30",
         "offsetgroup": "SITE30",
         "orientation": "v",
         "showlegend": true,
         "textposition": "auto",
         "type": "bar",
         "x": [
          "SITE30"
         ],
         "xaxis": "x",
         "y": [
          123
         ],
         "yaxis": "y"
        },
        {
         "alignmentgroup": "True",
         "hovertemplate": "<b>%{hovertext}</b><br><br>Warehouse=%{x}<br>Count of assigned TT (Issues)=%{y}<extra></extra>",
         "hovertext": [
          "SITE5"
         ],
         "legendgroup": "SITE5",
         "marker": {
          "color": "#ab63fa",
          "pattern": {
           "shape": ""
          }
         },
         "name": "SITE5",
         "offsetgroup": "SITE5",
         "orientation": "v",
         "showlegend": true,
         "textposition": "auto",
         "type": "bar",
         "x": [
          "SITE5"
         ],
         "xaxis": "x",
         "y": [
          113
         ],
         "yaxis": "y"
        },
        {
         "alignmentgroup": "True",
         "hovertemplate": "<b>%{hovertext}</b><br><br>Warehouse=%{x}<br>Count of assigned TT (Issues)=%{y}<extra></extra>",
         "hovertext": [
          "SITE24"
         ],
         "legendgroup": "SITE24",
         "marker": {
          "color": "#FFA15A",
          "pattern": {
           "shape": ""
          }
         },
         "name": "SITE24",
         "offsetgroup": "SITE24",
         "orientation": "v",
         "showlegend": true,
         "textposition": "auto",
         "type": "bar",
         "x": [
          "SITE24"
         ],
         "xaxis": "x",
         "y": [
          87
         ],
         "yaxis": "y"
        },
        {
         "alignmentgroup": "True",
         "hovertemplate": "<b>%{hovertext}</b><br><br>Warehouse=%{x}<br>Count of assigned TT (Issues)=%{y}<extra></extra>",
         "hovertext": [
          "SITE21"
         ],
         "legendgroup": "SITE21",
         "marker": {
          "color": "#19d3f3",
          "pattern": {
           "shape": ""
          }
         },
         "name": "SITE21",
         "offsetgroup": "SITE21",
         "orientation": "v",
         "showlegend": true,
         "textposition": "auto",
         "type": "bar",
         "x": [
          "SITE21"
         ],
         "xaxis": "x",
         "y": [
          65
         ],
         "yaxis": "y"
        },
        {
         "alignmentgroup": "True",
         "hovertemplate": "<b>%{hovertext}</b><br><br>Warehouse=%{x}<br>Count of assigned TT (Issues)=%{y}<extra></extra>",
         "hovertext": [
          "SITE26"
         ],
         "legendgroup": "SITE26",
         "marker": {
          "color": "#FF6692",
          "pattern": {
           "shape": ""
          }
         },
         "name": "SITE26",
         "offsetgroup": "SITE26",
         "orientation": "v",
         "showlegend": true,
         "textposition": "auto",
         "type": "bar",
         "x": [
          "SITE26"
         ],
         "xaxis": "x",
         "y": [
          37
         ],
         "yaxis": "y"
        },
        {
         "alignmentgroup": "True",
         "hovertemplate": "<b>%{hovertext}</b><br><br>Warehouse=%{x}<br>Count of assigned TT (Issues)=%{y}<extra></extra>",
         "hovertext": [
          "SITE4"
         ],
         "legendgroup": "SITE4",
         "marker": {
          "color": "#B6E880",
          "pattern": {
           "shape": ""
          }
         },
         "name": "SITE4",
         "offsetgroup": "SITE4",
         "orientation": "v",
         "showlegend": true,
         "textposition": "auto",
         "type": "bar",
         "x": [
          "SITE4"
         ],
         "xaxis": "x",
         "y": [
          36
         ],
         "yaxis": "y"
        },
        {
         "alignmentgroup": "True",
         "hovertemplate": "<b>%{hovertext}</b><br><br>Warehouse=%{x}<br>Count of assigned TT (Issues)=%{y}<extra></extra>",
         "hovertext": [
          "SITE2"
         ],
         "legendgroup": "SITE2",
         "marker": {
          "color": "#FF97FF",
          "pattern": {
           "shape": ""
          }
         },
         "name": "SITE2",
         "offsetgroup": "SITE2",
         "orientation": "v",
         "showlegend": true,
         "textposition": "auto",
         "type": "bar",
         "x": [
          "SITE2"
         ],
         "xaxis": "x",
         "y": [
          27
         ],
         "yaxis": "y"
        },
        {
         "alignmentgroup": "True",
         "hovertemplate": "<b>%{hovertext}</b><br><br>Warehouse=%{x}<br>Count of assigned TT (Issues)=%{y}<extra></extra>",
         "hovertext": [
          "SITE6"
         ],
         "legendgroup": "SITE6",
         "marker": {
          "color": "#FECB52",
          "pattern": {
           "shape": ""
          }
         },
         "name": "SITE6",
         "offsetgroup": "SITE6",
         "orientation": "v",
         "showlegend": true,
         "textposition": "auto",
         "type": "bar",
         "x": [
          "SITE6"
         ],
         "xaxis": "x",
         "y": [
          26
         ],
         "yaxis": "y"
        },
        {
         "alignmentgroup": "True",
         "hovertemplate": "<b>%{hovertext}</b><br><br>Warehouse=%{x}<br>Count of assigned TT (Issues)=%{y}<extra></extra>",
         "hovertext": [
          "SITE13"
         ],
         "legendgroup": "SITE13",
         "marker": {
          "color": "#636efa",
          "pattern": {
           "shape": ""
          }
         },
         "name": "SITE13",
         "offsetgroup": "SITE13",
         "orientation": "v",
         "showlegend": true,
         "textposition": "auto",
         "type": "bar",
         "x": [
          "SITE13"
         ],
         "xaxis": "x",
         "y": [
          20
         ],
         "yaxis": "y"
        },
        {
         "alignmentgroup": "True",
         "hovertemplate": "<b>%{hovertext}</b><br><br>Warehouse=%{x}<br>Count of assigned TT (Issues)=%{y}<extra></extra>",
         "hovertext": [
          "SITE14"
         ],
         "legendgroup": "SITE14",
         "marker": {
          "color": "#EF553B",
          "pattern": {
           "shape": ""
          }
         },
         "name": "SITE14",
         "offsetgroup": "SITE14",
         "orientation": "v",
         "showlegend": true,
         "textposition": "auto",
         "type": "bar",
         "x": [
          "SITE14"
         ],
         "xaxis": "x",
         "y": [
          16
         ],
         "yaxis": "y"
        },
        {
         "alignmentgroup": "True",
         "hovertemplate": "<b>%{hovertext}</b><br><br>Warehouse=%{x}<br>Count of assigned TT (Issues)=%{y}<extra></extra>",
         "hovertext": [
          "SITE15"
         ],
         "legendgroup": "SITE15",
         "marker": {
          "color": "#00cc96",
          "pattern": {
           "shape": ""
          }
         },
         "name": "SITE15",
         "offsetgroup": "SITE15",
         "orientation": "v",
         "showlegend": true,
         "textposition": "auto",
         "type": "bar",
         "x": [
          "SITE15"
         ],
         "xaxis": "x",
         "y": [
          12
         ],
         "yaxis": "y"
        },
        {
         "alignmentgroup": "True",
         "hovertemplate": "<b>%{hovertext}</b><br><br>Warehouse=%{x}<br>Count of assigned TT (Issues)=%{y}<extra></extra>",
         "hovertext": [
          "SITE17"
         ],
         "legendgroup": "SITE17",
         "marker": {
          "color": "#ab63fa",
          "pattern": {
           "shape": ""
          }
         },
         "name": "SITE17",
         "offsetgroup": "SITE17",
         "orientation": "v",
         "showlegend": true,
         "textposition": "auto",
         "type": "bar",
         "x": [
          "SITE17"
         ],
         "xaxis": "x",
         "y": [
          11
         ],
         "yaxis": "y"
        },
        {
         "alignmentgroup": "True",
         "hovertemplate": "<b>%{hovertext}</b><br><br>Warehouse=%{x}<br>Count of assigned TT (Issues)=%{y}<extra></extra>",
         "hovertext": [
          "SITE22"
         ],
         "legendgroup": "SITE22",
         "marker": {
          "color": "#FFA15A",
          "pattern": {
           "shape": ""
          }
         },
         "name": "SITE22",
         "offsetgroup": "SITE22",
         "orientation": "v",
         "showlegend": true,
         "textposition": "auto",
         "type": "bar",
         "x": [
          "SITE22"
         ],
         "xaxis": "x",
         "y": [
          8
         ],
         "yaxis": "y"
        },
        {
         "alignmentgroup": "True",
         "hovertemplate": "<b>%{hovertext}</b><br><br>Warehouse=%{x}<br>Count of assigned TT (Issues)=%{y}<extra></extra>",
         "hovertext": [
          "SITE19"
         ],
         "legendgroup": "SITE19",
         "marker": {
          "color": "#19d3f3",
          "pattern": {
           "shape": ""
          }
         },
         "name": "SITE19",
         "offsetgroup": "SITE19",
         "orientation": "v",
         "showlegend": true,
         "textposition": "auto",
         "type": "bar",
         "x": [
          "SITE19"
         ],
         "xaxis": "x",
         "y": [
          7
         ],
         "yaxis": "y"
        },
        {
         "alignmentgroup": "True",
         "hovertemplate": "<b>%{hovertext}</b><br><br>Warehouse=%{x}<br>Count of assigned TT (Issues)=%{y}<extra></extra>",
         "hovertext": [
          "SITE27"
         ],
         "legendgroup": "SITE27",
         "marker": {
          "color": "#FF6692",
          "pattern": {
           "shape": ""
          }
         },
         "name": "SITE27",
         "offsetgroup": "SITE27",
         "orientation": "v",
         "showlegend": true,
         "textposition": "auto",
         "type": "bar",
         "x": [
          "SITE27"
         ],
         "xaxis": "x",
         "y": [
          4
         ],
         "yaxis": "y"
        },
        {
         "alignmentgroup": "True",
         "hovertemplate": "<b>%{hovertext}</b><br><br>Warehouse=%{x}<br>Count of assigned TT (Issues)=%{y}<extra></extra>",
         "hovertext": [
          "SITE1"
         ],
         "legendgroup": "SITE1",
         "marker": {
          "color": "#B6E880",
          "pattern": {
           "shape": ""
          }
         },
         "name": "SITE1",
         "offsetgroup": "SITE1",
         "orientation": "v",
         "showlegend": true,
         "textposition": "auto",
         "type": "bar",
         "x": [
          "SITE1"
         ],
         "xaxis": "x",
         "y": [
          4
         ],
         "yaxis": "y"
        },
        {
         "alignmentgroup": "True",
         "hovertemplate": "<b>%{hovertext}</b><br><br>Warehouse=%{x}<br>Count of assigned TT (Issues)=%{y}<extra></extra>",
         "hovertext": [
          "SITE18"
         ],
         "legendgroup": "SITE18",
         "marker": {
          "color": "#FF97FF",
          "pattern": {
           "shape": ""
          }
         },
         "name": "SITE18",
         "offsetgroup": "SITE18",
         "orientation": "v",
         "showlegend": true,
         "textposition": "auto",
         "type": "bar",
         "x": [
          "SITE18"
         ],
         "xaxis": "x",
         "y": [
          4
         ],
         "yaxis": "y"
        },
        {
         "alignmentgroup": "True",
         "hovertemplate": "<b>%{hovertext}</b><br><br>Warehouse=%{x}<br>Count of assigned TT (Issues)=%{y}<extra></extra>",
         "hovertext": [
          "SITE20"
         ],
         "legendgroup": "SITE20",
         "marker": {
          "color": "#FECB52",
          "pattern": {
           "shape": ""
          }
         },
         "name": "SITE20",
         "offsetgroup": "SITE20",
         "orientation": "v",
         "showlegend": true,
         "textposition": "auto",
         "type": "bar",
         "x": [
          "SITE20"
         ],
         "xaxis": "x",
         "y": [
          3
         ],
         "yaxis": "y"
        },
        {
         "alignmentgroup": "True",
         "hovertemplate": "<b>%{hovertext}</b><br><br>Warehouse=%{x}<br>Count of assigned TT (Issues)=%{y}<extra></extra>",
         "hovertext": [
          "SITE16"
         ],
         "legendgroup": "SITE16",
         "marker": {
          "color": "#636efa",
          "pattern": {
           "shape": ""
          }
         },
         "name": "SITE16",
         "offsetgroup": "SITE16",
         "orientation": "v",
         "showlegend": true,
         "textposition": "auto",
         "type": "bar",
         "x": [
          "SITE16"
         ],
         "xaxis": "x",
         "y": [
          3
         ],
         "yaxis": "y"
        },
        {
         "alignmentgroup": "True",
         "hovertemplate": "<b>%{hovertext}</b><br><br>Warehouse=%{x}<br>Count of assigned TT (Issues)=%{y}<extra></extra>",
         "hovertext": [
          "SITE11"
         ],
         "legendgroup": "SITE11",
         "marker": {
          "color": "#EF553B",
          "pattern": {
           "shape": ""
          }
         },
         "name": "SITE11",
         "offsetgroup": "SITE11",
         "orientation": "v",
         "showlegend": true,
         "textposition": "auto",
         "type": "bar",
         "x": [
          "SITE11"
         ],
         "xaxis": "x",
         "y": [
          3
         ],
         "yaxis": "y"
        },
        {
         "alignmentgroup": "True",
         "hovertemplate": "<b>%{hovertext}</b><br><br>Warehouse=%{x}<br>Count of assigned TT (Issues)=%{y}<extra></extra>",
         "hovertext": [
          "SITE9"
         ],
         "legendgroup": "SITE9",
         "marker": {
          "color": "#00cc96",
          "pattern": {
           "shape": ""
          }
         },
         "name": "SITE9",
         "offsetgroup": "SITE9",
         "orientation": "v",
         "showlegend": true,
         "textposition": "auto",
         "type": "bar",
         "x": [
          "SITE9"
         ],
         "xaxis": "x",
         "y": [
          2
         ],
         "yaxis": "y"
        },
        {
         "alignmentgroup": "True",
         "hovertemplate": "<b>%{hovertext}</b><br><br>Warehouse=%{x}<br>Count of assigned TT (Issues)=%{y}<extra></extra>",
         "hovertext": [
          "SITE25"
         ],
         "legendgroup": "SITE25",
         "marker": {
          "color": "#ab63fa",
          "pattern": {
           "shape": ""
          }
         },
         "name": "SITE25",
         "offsetgroup": "SITE25",
         "orientation": "v",
         "showlegend": true,
         "textposition": "auto",
         "type": "bar",
         "x": [
          "SITE25"
         ],
         "xaxis": "x",
         "y": [
          1
         ],
         "yaxis": "y"
        },
        {
         "alignmentgroup": "True",
         "hovertemplate": "<b>%{hovertext}</b><br><br>Warehouse=%{x}<br>Count of assigned TT (Issues)=%{y}<extra></extra>",
         "hovertext": [
          "SITE10"
         ],
         "legendgroup": "SITE10",
         "marker": {
          "color": "#FFA15A",
          "pattern": {
           "shape": ""
          }
         },
         "name": "SITE10",
         "offsetgroup": "SITE10",
         "orientation": "v",
         "showlegend": true,
         "textposition": "auto",
         "type": "bar",
         "x": [
          "SITE10"
         ],
         "xaxis": "x",
         "y": [
          1
         ],
         "yaxis": "y"
        },
        {
         "alignmentgroup": "True",
         "hovertemplate": "<b>%{hovertext}</b><br><br>Warehouse=%{x}<br>Count of assigned TT (Issues)=%{y}<extra></extra>",
         "hovertext": [
          "SITE12"
         ],
         "legendgroup": "SITE12",
         "marker": {
          "color": "#19d3f3",
          "pattern": {
           "shape": ""
          }
         },
         "name": "SITE12",
         "offsetgroup": "SITE12",
         "orientation": "v",
         "showlegend": true,
         "textposition": "auto",
         "type": "bar",
         "x": [
          "SITE12"
         ],
         "xaxis": "x",
         "y": [
          1
         ],
         "yaxis": "y"
        },
        {
         "alignmentgroup": "True",
         "hovertemplate": "<b>%{hovertext}</b><br><br>Warehouse=%{x}<br>Count of assigned TT (Issues)=%{y}<extra></extra>",
         "hovertext": [
          "SITE8"
         ],
         "legendgroup": "SITE8",
         "marker": {
          "color": "#FF6692",
          "pattern": {
           "shape": ""
          }
         },
         "name": "SITE8",
         "offsetgroup": "SITE8",
         "orientation": "v",
         "showlegend": true,
         "textposition": "auto",
         "type": "bar",
         "x": [
          "SITE8"
         ],
         "xaxis": "x",
         "y": [
          1
         ],
         "yaxis": "y"
        }
       ],
       "layout": {
        "autosize": true,
        "barmode": "relative",
        "legend": {
         "title": {
          "text": "Warehouse"
         },
         "tracegroupgap": 0
        },
        "template": {
         "data": {
          "bar": [
           {
            "error_x": {
             "color": "#2a3f5f"
            },
            "error_y": {
             "color": "#2a3f5f"
            },
            "marker": {
             "line": {
              "color": "#E5ECF6",
              "width": 0.5
             },
             "pattern": {
              "fillmode": "overlay",
              "size": 10,
              "solidity": 0.2
             }
            },
            "type": "bar"
           }
          ],
          "barpolar": [
           {
            "marker": {
             "line": {
              "color": "#E5ECF6",
              "width": 0.5
             },
             "pattern": {
              "fillmode": "overlay",
              "size": 10,
              "solidity": 0.2
             }
            },
            "type": "barpolar"
           }
          ],
          "carpet": [
           {
            "aaxis": {
             "endlinecolor": "#2a3f5f",
             "gridcolor": "white",
             "linecolor": "white",
             "minorgridcolor": "white",
             "startlinecolor": "#2a3f5f"
            },
            "baxis": {
             "endlinecolor": "#2a3f5f",
             "gridcolor": "white",
             "linecolor": "white",
             "minorgridcolor": "white",
             "startlinecolor": "#2a3f5f"
            },
            "type": "carpet"
           }
          ],
          "choropleth": [
           {
            "colorbar": {
             "outlinewidth": 0,
             "ticks": ""
            },
            "type": "choropleth"
           }
          ],
          "contour": [
           {
            "colorbar": {
             "outlinewidth": 0,
             "ticks": ""
            },
            "colorscale": [
             [
              0,
              "#0d0887"
             ],
             [
              0.1111111111111111,
              "#46039f"
             ],
             [
              0.2222222222222222,
              "#7201a8"
             ],
             [
              0.3333333333333333,
              "#9c179e"
             ],
             [
              0.4444444444444444,
              "#bd3786"
             ],
             [
              0.5555555555555556,
              "#d8576b"
             ],
             [
              0.6666666666666666,
              "#ed7953"
             ],
             [
              0.7777777777777778,
              "#fb9f3a"
             ],
             [
              0.8888888888888888,
              "#fdca26"
             ],
             [
              1,
              "#f0f921"
             ]
            ],
            "type": "contour"
           }
          ],
          "contourcarpet": [
           {
            "colorbar": {
             "outlinewidth": 0,
             "ticks": ""
            },
            "type": "contourcarpet"
           }
          ],
          "heatmap": [
           {
            "colorbar": {
             "outlinewidth": 0,
             "ticks": ""
            },
            "colorscale": [
             [
              0,
              "#0d0887"
             ],
             [
              0.1111111111111111,
              "#46039f"
             ],
             [
              0.2222222222222222,
              "#7201a8"
             ],
             [
              0.3333333333333333,
              "#9c179e"
             ],
             [
              0.4444444444444444,
              "#bd3786"
             ],
             [
              0.5555555555555556,
              "#d8576b"
             ],
             [
              0.6666666666666666,
              "#ed7953"
             ],
             [
              0.7777777777777778,
              "#fb9f3a"
             ],
             [
              0.8888888888888888,
              "#fdca26"
             ],
             [
              1,
              "#f0f921"
             ]
            ],
            "type": "heatmap"
           }
          ],
          "heatmapgl": [
           {
            "colorbar": {
             "outlinewidth": 0,
             "ticks": ""
            },
            "colorscale": [
             [
              0,
              "#0d0887"
             ],
             [
              0.1111111111111111,
              "#46039f"
             ],
             [
              0.2222222222222222,
              "#7201a8"
             ],
             [
              0.3333333333333333,
              "#9c179e"
             ],
             [
              0.4444444444444444,
              "#bd3786"
             ],
             [
              0.5555555555555556,
              "#d8576b"
             ],
             [
              0.6666666666666666,
              "#ed7953"
             ],
             [
              0.7777777777777778,
              "#fb9f3a"
             ],
             [
              0.8888888888888888,
              "#fdca26"
             ],
             [
              1,
              "#f0f921"
             ]
            ],
            "type": "heatmapgl"
           }
          ],
          "histogram": [
           {
            "marker": {
             "pattern": {
              "fillmode": "overlay",
              "size": 10,
              "solidity": 0.2
             }
            },
            "type": "histogram"
           }
          ],
          "histogram2d": [
           {
            "colorbar": {
             "outlinewidth": 0,
             "ticks": ""
            },
            "colorscale": [
             [
              0,
              "#0d0887"
             ],
             [
              0.1111111111111111,
              "#46039f"
             ],
             [
              0.2222222222222222,
              "#7201a8"
             ],
             [
              0.3333333333333333,
              "#9c179e"
             ],
             [
              0.4444444444444444,
              "#bd3786"
             ],
             [
              0.5555555555555556,
              "#d8576b"
             ],
             [
              0.6666666666666666,
              "#ed7953"
             ],
             [
              0.7777777777777778,
              "#fb9f3a"
             ],
             [
              0.8888888888888888,
              "#fdca26"
             ],
             [
              1,
              "#f0f921"
             ]
            ],
            "type": "histogram2d"
           }
          ],
          "histogram2dcontour": [
           {
            "colorbar": {
             "outlinewidth": 0,
             "ticks": ""
            },
            "colorscale": [
             [
              0,
              "#0d0887"
             ],
             [
              0.1111111111111111,
              "#46039f"
             ],
             [
              0.2222222222222222,
              "#7201a8"
             ],
             [
              0.3333333333333333,
              "#9c179e"
             ],
             [
              0.4444444444444444,
              "#bd3786"
             ],
             [
              0.5555555555555556,
              "#d8576b"
             ],
             [
              0.6666666666666666,
              "#ed7953"
             ],
             [
              0.7777777777777778,
              "#fb9f3a"
             ],
             [
              0.8888888888888888,
              "#fdca26"
             ],
             [
              1,
              "#f0f921"
             ]
            ],
            "type": "histogram2dcontour"
           }
          ],
          "mesh3d": [
           {
            "colorbar": {
             "outlinewidth": 0,
             "ticks": ""
            },
            "type": "mesh3d"
           }
          ],
          "parcoords": [
           {
            "line": {
             "colorbar": {
              "outlinewidth": 0,
              "ticks": ""
             }
            },
            "type": "parcoords"
           }
          ],
          "pie": [
           {
            "automargin": true,
            "type": "pie"
           }
          ],
          "scatter": [
           {
            "marker": {
             "colorbar": {
              "outlinewidth": 0,
              "ticks": ""
             }
            },
            "type": "scatter"
           }
          ],
          "scatter3d": [
           {
            "line": {
             "colorbar": {
              "outlinewidth": 0,
              "ticks": ""
             }
            },
            "marker": {
             "colorbar": {
              "outlinewidth": 0,
              "ticks": ""
             }
            },
            "type": "scatter3d"
           }
          ],
          "scattercarpet": [
           {
            "marker": {
             "colorbar": {
              "outlinewidth": 0,
              "ticks": ""
             }
            },
            "type": "scattercarpet"
           }
          ],
          "scattergeo": [
           {
            "marker": {
             "colorbar": {
              "outlinewidth": 0,
              "ticks": ""
             }
            },
            "type": "scattergeo"
           }
          ],
          "scattergl": [
           {
            "marker": {
             "colorbar": {
              "outlinewidth": 0,
              "ticks": ""
             }
            },
            "type": "scattergl"
           }
          ],
          "scattermapbox": [
           {
            "marker": {
             "colorbar": {
              "outlinewidth": 0,
              "ticks": ""
             }
            },
            "type": "scattermapbox"
           }
          ],
          "scatterpolar": [
           {
            "marker": {
             "colorbar": {
              "outlinewidth": 0,
              "ticks": ""
             }
            },
            "type": "scatterpolar"
           }
          ],
          "scatterpolargl": [
           {
            "marker": {
             "colorbar": {
              "outlinewidth": 0,
              "ticks": ""
             }
            },
            "type": "scatterpolargl"
           }
          ],
          "scatterternary": [
           {
            "marker": {
             "colorbar": {
              "outlinewidth": 0,
              "ticks": ""
             }
            },
            "type": "scatterternary"
           }
          ],
          "surface": [
           {
            "colorbar": {
             "outlinewidth": 0,
             "ticks": ""
            },
            "colorscale": [
             [
              0,
              "#0d0887"
             ],
             [
              0.1111111111111111,
              "#46039f"
             ],
             [
              0.2222222222222222,
              "#7201a8"
             ],
             [
              0.3333333333333333,
              "#9c179e"
             ],
             [
              0.4444444444444444,
              "#bd3786"
             ],
             [
              0.5555555555555556,
              "#d8576b"
             ],
             [
              0.6666666666666666,
              "#ed7953"
             ],
             [
              0.7777777777777778,
              "#fb9f3a"
             ],
             [
              0.8888888888888888,
              "#fdca26"
             ],
             [
              1,
              "#f0f921"
             ]
            ],
            "type": "surface"
           }
          ],
          "table": [
           {
            "cells": {
             "fill": {
              "color": "#EBF0F8"
             },
             "line": {
              "color": "white"
             }
            },
            "header": {
             "fill": {
              "color": "#C8D4E3"
             },
             "line": {
              "color": "white"
             }
            },
            "type": "table"
           }
          ]
         },
         "layout": {
          "annotationdefaults": {
           "arrowcolor": "#2a3f5f",
           "arrowhead": 0,
           "arrowwidth": 1
          },
          "autotypenumbers": "strict",
          "coloraxis": {
           "colorbar": {
            "outlinewidth": 0,
            "ticks": ""
           }
          },
          "colorscale": {
           "diverging": [
            [
             0,
             "#8e0152"
            ],
            [
             0.1,
             "#c51b7d"
            ],
            [
             0.2,
             "#de77ae"
            ],
            [
             0.3,
             "#f1b6da"
            ],
            [
             0.4,
             "#fde0ef"
            ],
            [
             0.5,
             "#f7f7f7"
            ],
            [
             0.6,
             "#e6f5d0"
            ],
            [
             0.7,
             "#b8e186"
            ],
            [
             0.8,
             "#7fbc41"
            ],
            [
             0.9,
             "#4d9221"
            ],
            [
             1,
             "#276419"
            ]
           ],
           "sequential": [
            [
             0,
             "#0d0887"
            ],
            [
             0.1111111111111111,
             "#46039f"
            ],
            [
             0.2222222222222222,
             "#7201a8"
            ],
            [
             0.3333333333333333,
             "#9c179e"
            ],
            [
             0.4444444444444444,
             "#bd3786"
            ],
            [
             0.5555555555555556,
             "#d8576b"
            ],
            [
             0.6666666666666666,
             "#ed7953"
            ],
            [
             0.7777777777777778,
             "#fb9f3a"
            ],
            [
             0.8888888888888888,
             "#fdca26"
            ],
            [
             1,
             "#f0f921"
            ]
           ],
           "sequentialminus": [
            [
             0,
             "#0d0887"
            ],
            [
             0.1111111111111111,
             "#46039f"
            ],
            [
             0.2222222222222222,
             "#7201a8"
            ],
            [
             0.3333333333333333,
             "#9c179e"
            ],
            [
             0.4444444444444444,
             "#bd3786"
            ],
            [
             0.5555555555555556,
             "#d8576b"
            ],
            [
             0.6666666666666666,
             "#ed7953"
            ],
            [
             0.7777777777777778,
             "#fb9f3a"
            ],
            [
             0.8888888888888888,
             "#fdca26"
            ],
            [
             1,
             "#f0f921"
            ]
           ]
          },
          "colorway": [
           "#636efa",
           "#EF553B",
           "#00cc96",
           "#ab63fa",
           "#FFA15A",
           "#19d3f3",
           "#FF6692",
           "#B6E880",
           "#FF97FF",
           "#FECB52"
          ],
          "font": {
           "color": "#2a3f5f"
          },
          "geo": {
           "bgcolor": "white",
           "lakecolor": "white",
           "landcolor": "#E5ECF6",
           "showlakes": true,
           "showland": true,
           "subunitcolor": "white"
          },
          "hoverlabel": {
           "align": "left"
          },
          "hovermode": "closest",
          "mapbox": {
           "style": "light"
          },
          "paper_bgcolor": "white",
          "plot_bgcolor": "#E5ECF6",
          "polar": {
           "angularaxis": {
            "gridcolor": "white",
            "linecolor": "white",
            "ticks": ""
           },
           "bgcolor": "#E5ECF6",
           "radialaxis": {
            "gridcolor": "white",
            "linecolor": "white",
            "ticks": ""
           }
          },
          "scene": {
           "xaxis": {
            "backgroundcolor": "#E5ECF6",
            "gridcolor": "white",
            "gridwidth": 2,
            "linecolor": "white",
            "showbackground": true,
            "ticks": "",
            "zerolinecolor": "white"
           },
           "yaxis": {
            "backgroundcolor": "#E5ECF6",
            "gridcolor": "white",
            "gridwidth": 2,
            "linecolor": "white",
            "showbackground": true,
            "ticks": "",
            "zerolinecolor": "white"
           },
           "zaxis": {
            "backgroundcolor": "#E5ECF6",
            "gridcolor": "white",
            "gridwidth": 2,
            "linecolor": "white",
            "showbackground": true,
            "ticks": "",
            "zerolinecolor": "white"
           }
          },
          "shapedefaults": {
           "line": {
            "color": "#2a3f5f"
           }
          },
          "ternary": {
           "aaxis": {
            "gridcolor": "white",
            "linecolor": "white",
            "ticks": ""
           },
           "baxis": {
            "gridcolor": "white",
            "linecolor": "white",
            "ticks": ""
           },
           "bgcolor": "#E5ECF6",
           "caxis": {
            "gridcolor": "white",
            "linecolor": "white",
            "ticks": ""
           }
          },
          "title": {
           "x": 0.05
          },
          "xaxis": {
           "automargin": true,
           "gridcolor": "white",
           "linecolor": "white",
           "ticks": "",
           "title": {
            "standoff": 15
           },
           "zerolinecolor": "white",
           "zerolinewidth": 2
          },
          "yaxis": {
           "automargin": true,
           "gridcolor": "white",
           "linecolor": "white",
           "ticks": "",
           "title": {
            "standoff": 15
           },
           "zerolinecolor": "white",
           "zerolinewidth": 2
          }
         }
        },
        "title": {
         "text": "Summary of current assigned trouble tickets (issues) at whole scope",
         "x": 0.5
        },
        "xaxis": {
         "anchor": "y",
         "autorange": true,
         "categoryarray": [
          "SITE7",
          "SITE3",
          "SITE30",
          "SITE5",
          "SITE24",
          "SITE21",
          "SITE26",
          "SITE4",
          "SITE2",
          "SITE6",
          "SITE13",
          "SITE14",
          "SITE15",
          "SITE17",
          "SITE22",
          "SITE19",
          "SITE27",
          "SITE1",
          "SITE18",
          "SITE20",
          "SITE16",
          "SITE11",
          "SITE9",
          "SITE25",
          "SITE10",
          "SITE12",
          "SITE8"
         ],
         "categoryorder": "array",
         "domain": [
          0,
          1
         ],
         "range": [
          -0.5,
          26.5
         ],
         "title": {
          "text": "Warehouse"
         },
         "type": "category"
        },
        "yaxis": {
         "anchor": "x",
         "autorange": true,
         "domain": [
          0,
          1
         ],
         "range": [
          0,
          193.68421052631578
         ],
         "title": {
          "text": "Count of assigned TT (Issues)"
         },
         "type": "linear"
        }
       }
      },
      "image/png": "[encoded data removed]",
      "text/html": [
       "<div>                            <div id=\"e5c97b72-c8fa-41b9-924b-b7270350080b\" class=\"plotly-graph-div\" style=\"height:525px; width:100%;\"></div>            <script type=\"text/javascript\">                require([\"plotly\"], function(Plotly) {                    window.PLOTLYENV=window.PLOTLYENV || {};                                    if (document.getElementById(\"e5c97b72-c8fa-41b9-924b-b7270350080b\")) {                    Plotly.newPlot(                        \"e5c97b72-c8fa-41b9-924b-b7270350080b\",                        [{\"alignmentgroup\":\"True\",\"hovertemplate\":\"<b>%{hovertext}</b><br><br>Warehouse=%{x}<br>Count of assigned TT (Issues)=%{y}<extra></extra>\",\"hovertext\":[\"SITE7\"],\"legendgroup\":\"SITE7\",\"marker\":{\"color\":\"#636efa\",\"pattern\":{\"shape\":\"\"}},\"name\":\"SITE7\",\"offsetgroup\":\"SITE7\",\"orientation\":\"v\",\"showlegend\":true,\"textposition\":\"auto\",\"x\":[\"SITE7\"],\"xaxis\":\"x\",\"y\":[184],\"yaxis\":\"y\",\"type\":\"bar\"},{\"alignmentgroup\":\"True\",\"hovertemplate\":\"<b>%{hovertext}</b><br><br>Warehouse=%{x}<br>Count of assigned TT (Issues)=%{y}<extra></extra>\",\"hovertext\":[\"SITE3\"],\"legendgroup\":\"SITE3\",\"marker\":{\"color\":\"#EF553B\",\"pattern\":{\"shape\":\"\"}},\"name\":\"SITE3\",\"offsetgroup\":\"SITE3\",\"orientation\":\"v\",\"showlegend\":true,\"textposition\":\"auto\",\"x\":[\"SITE3\"],\"xaxis\":\"x\",\"y\":[145],\"yaxis\":\"y\",\"type\":\"bar\"},{\"alignmentgroup\":\"True\",\"hovertemplate\":\"<b>%{hovertext}</b><br><br>Warehouse=%{x}<br>Count of assigned TT (Issues)=%{y}<extra></extra>\",\"hovertext\":[\"SITE30\"],\"legendgroup\":\"SITE30\",\"marker\":{\"color\":\"#00cc96\",\"pattern\":{\"shape\":\"\"}},\"name\":\"SITE30\",\"offsetgroup\":\"SITE30\",\"orientation\":\"v\",\"showlegend\":true,\"textposition\":\"auto\",\"x\":[\"SITE30\"],\"xaxis\":\"x\",\"y\":[123],\"yaxis\":\"y\",\"type\":\"bar\"},{\"alignmentgroup\":\"True\",\"hovertemplate\":\"<b>%{hovertext}</b><br><br>Warehouse=%{x}<br>Count of assigned TT (Issues)=%{y}<extra></extra>\",\"hovertext\":[\"SITE5\"],\"legendgroup\":\"SITE5\",\"marker\":{\"color\":\"#ab63fa\",\"pattern\":{\"shape\":\"\"}},\"name\":\"SITE5\",\"offsetgroup\":\"SITE5\",\"orientation\":\"v\",\"showlegend\":true,\"textposition\":\"auto\",\"x\":[\"SITE5\"],\"xaxis\":\"x\",\"y\":[113],\"yaxis\":\"y\",\"type\":\"bar\"},{\"alignmentgroup\":\"True\",\"hovertemplate\":\"<b>%{hovertext}</b><br><br>Warehouse=%{x}<br>Count of assigned TT (Issues)=%{y}<extra></extra>\",\"hovertext\":[\"SITE24\"],\"legendgroup\":\"SITE24\",\"marker\":{\"color\":\"#FFA15A\",\"pattern\":{\"shape\":\"\"}},\"name\":\"SITE24\",\"offsetgroup\":\"SITE24\",\"orientation\":\"v\",\"showlegend\":true,\"textposition\":\"auto\",\"x\":[\"SITE24\"],\"xaxis\":\"x\",\"y\":[87],\"yaxis\":\"y\",\"type\":\"bar\"},{\"alignmentgroup\":\"True\",\"hovertemplate\":\"<b>%{hovertext}</b><br><br>Warehouse=%{x}<br>Count of assigned TT (Issues)=%{y}<extra></extra>\",\"hovertext\":[\"SITE21\"],\"legendgroup\":\"SITE21\",\"marker\":{\"color\":\"#19d3f3\",\"pattern\":{\"shape\":\"\"}},\"name\":\"SITE21\",\"offsetgroup\":\"SITE21\",\"orientation\":\"v\",\"showlegend\":true,\"textposition\":\"auto\",\"x\":[\"SITE21\"],\"xaxis\":\"x\",\"y\":[65],\"yaxis\":\"y\",\"type\":\"bar\"},{\"alignmentgroup\":\"True\",\"hovertemplate\":\"<b>%{hovertext}</b><br><br>Warehouse=%{x}<br>Count of assigned TT (Issues)=%{y}<extra></extra>\",\"hovertext\":[\"SITE26\"],\"legendgroup\":\"SITE26\",\"marker\":{\"color\":\"#FF6692\",\"pattern\":{\"shape\":\"\"}},\"name\":\"SITE26\",\"offsetgroup\":\"SITE26\",\"orientation\":\"v\",\"showlegend\":true,\"textposition\":\"auto\",\"x\":[\"SITE26\"],\"xaxis\":\"x\",\"y\":[37],\"yaxis\":\"y\",\"type\":\"bar\"},{\"alignmentgroup\":\"True\",\"hovertemplate\":\"<b>%{hovertext}</b><br><br>Warehouse=%{x}<br>Count of assigned TT (Issues)=%{y}<extra></extra>\",\"hovertext\":[\"SITE4\"],\"legendgroup\":\"SITE4\",\"marker\":{\"color\":\"#B6E880\",\"pattern\":{\"shape\":\"\"}},\"name\":\"SITE4\",\"offsetgroup\":\"SITE4\",\"orientation\":\"v\",\"showlegend\":true,\"textposition\":\"auto\",\"x\":[\"SITE4\"],\"xaxis\":\"x\",\"y\":[36],\"yaxis\":\"y\",\"type\":\"bar\"},{\"alignmentgroup\":\"True\",\"hovertemplate\":\"<b>%{hovertext}</b><br><br>Warehouse=%{x}<br>Count of assigned TT (Issues)=%{y}<extra></extra>\",\"hovertext\":[\"SITE2\"],\"legendgroup\":\"SITE2\",\"marker\":{\"color\":\"#FF97FF\",\"pattern\":{\"shape\":\"\"}},\"name\":\"SITE2\",\"offsetgroup\":\"SITE2\",\"orientation\":\"v\",\"showlegend\":true,\"textposition\":\"auto\",\"x\":[\"SITE2\"],\"xaxis\":\"x\",\"y\":[27],\"yaxis\":\"y\",\"type\":\"bar\"},{\"alignmentgroup\":\"True\",\"hovertemplate\":\"<b>%{hovertext}</b><br><br>Warehouse=%{x}<br>Count of assigned TT (Issues)=%{y}<extra></extra>\",\"hovertext\":[\"SITE6\"],\"legendgroup\":\"SITE6\",\"marker\":{\"color\":\"#FECB52\",\"pattern\":{\"shape\":\"\"}},\"name\":\"SITE6\",\"offsetgroup\":\"SITE6\",\"orientation\":\"v\",\"showlegend\":true,\"textposition\":\"auto\",\"x\":[\"SITE6\"],\"xaxis\":\"x\",\"y\":[26],\"yaxis\":\"y\",\"type\":\"bar\"},{\"alignmentgroup\":\"True\",\"hovertemplate\":\"<b>%{hovertext}</b><br><br>Warehouse=%{x}<br>Count of assigned TT (Issues)=%{y}<extra></extra>\",\"hovertext\":[\"SITE13\"],\"legendgroup\":\"SITE13\",\"marker\":{\"color\":\"#636efa\",\"pattern\":{\"shape\":\"\"}},\"name\":\"SITE13\",\"offsetgroup\":\"SITE13\",\"orientation\":\"v\",\"showlegend\":true,\"textposition\":\"auto\",\"x\":[\"SITE13\"],\"xaxis\":\"x\",\"y\":[20],\"yaxis\":\"y\",\"type\":\"bar\"},{\"alignmentgroup\":\"True\",\"hovertemplate\":\"<b>%{hovertext}</b><br><br>Warehouse=%{x}<br>Count of assigned TT (Issues)=%{y}<extra></extra>\",\"hovertext\":[\"SITE14\"],\"legendgroup\":\"SITE14\",\"marker\":{\"color\":\"#EF553B\",\"pattern\":{\"shape\":\"\"}},\"name\":\"SITE14\",\"offsetgroup\":\"SITE14\",\"orientation\":\"v\",\"showlegend\":true,\"textposition\":\"auto\",\"x\":[\"SITE14\"],\"xaxis\":\"x\",\"y\":[16],\"yaxis\":\"y\",\"type\":\"bar\"},{\"alignmentgroup\":\"True\",\"hovertemplate\":\"<b>%{hovertext}</b><br><br>Warehouse=%{x}<br>Count of assigned TT (Issues)=%{y}<extra></extra>\",\"hovertext\":[\"SITE15\"],\"legendgroup\":\"SITE15\",\"marker\":{\"color\":\"#00cc96\",\"pattern\":{\"shape\":\"\"}},\"name\":\"SITE15\",\"offsetgroup\":\"SITE15\",\"orientation\":\"v\",\"showlegend\":true,\"textposition\":\"auto\",\"x\":[\"SITE15\"],\"xaxis\":\"x\",\"y\":[12],\"yaxis\":\"y\",\"type\":\"bar\"},{\"alignmentgroup\":\"True\",\"hovertemplate\":\"<b>%{hovertext}</b><br><br>Warehouse=%{x}<br>Count of assigned TT (Issues)=%{y}<extra></extra>\",\"hovertext\":[\"SITE17\"],\"legendgroup\":\"SITE17\",\"marker\":{\"color\":\"#ab63fa\",\"pattern\":{\"shape\":\"\"}},\"name\":\"SITE17\",\"offsetgroup\":\"SITE17\",\"orientation\":\"v\",\"showlegend\":true,\"textposition\":\"auto\",\"x\":[\"SITE17\"],\"xaxis\":\"x\",\"y\":[11],\"yaxis\":\"y\",\"type\":\"bar\"},{\"alignmentgroup\":\"True\",\"hovertemplate\":\"<b>%{hovertext}</b><br><br>Warehouse=%{x}<br>Count of assigned TT (Issues)=%{y}<extra></extra>\",\"hovertext\":[\"SITE22\"],\"legendgroup\":\"SITE22\",\"marker\":{\"color\":\"#FFA15A\",\"pattern\":{\"shape\":\"\"}},\"name\":\"SITE22\",\"offsetgroup\":\"SITE22\",\"orientation\":\"v\",\"showlegend\":true,\"textposition\":\"auto\",\"x\":[\"SITE22\"],\"xaxis\":\"x\",\"y\":[8],\"yaxis\":\"y\",\"type\":\"bar\"},{\"alignmentgroup\":\"True\",\"hovertemplate\":\"<b>%{hovertext}</b><br><br>Warehouse=%{x}<br>Count of assigned TT (Issues)=%{y}<extra></extra>\",\"hovertext\":[\"SITE19\"],\"legendgroup\":\"SITE19\",\"marker\":{\"color\":\"#19d3f3\",\"pattern\":{\"shape\":\"\"}},\"name\":\"SITE19\",\"offsetgroup\":\"SITE19\",\"orientation\":\"v\",\"showlegend\":true,\"textposition\":\"auto\",\"x\":[\"SITE19\"],\"xaxis\":\"x\",\"y\":[7],\"yaxis\":\"y\",\"type\":\"bar\"},{\"alignmentgroup\":\"True\",\"hovertemplate\":\"<b>%{hovertext}</b><br><br>Warehouse=%{x}<br>Count of assigned TT (Issues)=%{y}<extra></extra>\",\"hovertext\":[\"SITE27\"],\"legendgroup\":\"SITE27\",\"marker\":{\"color\":\"#FF6692\",\"pattern\":{\"shape\":\"\"}},\"name\":\"SITE27\",\"offsetgroup\":\"SITE27\",\"orientation\":\"v\",\"showlegend\":true,\"textposition\":\"auto\",\"x\":[\"SITE27\"],\"xaxis\":\"x\",\"y\":[4],\"yaxis\":\"y\",\"type\":\"bar\"},{\"alignmentgroup\":\"True\",\"hovertemplate\":\"<b>%{hovertext}</b><br><br>Warehouse=%{x}<br>Count of assigned TT (Issues)=%{y}<extra></extra>\",\"hovertext\":[\"SITE1\"],\"legendgroup\":\"SITE1\",\"marker\":{\"color\":\"#B6E880\",\"pattern\":{\"shape\":\"\"}},\"name\":\"SITE1\",\"offsetgroup\":\"SITE1\",\"orientation\":\"v\",\"showlegend\":true,\"textposition\":\"auto\",\"x\":[\"SITE1\"],\"xaxis\":\"x\",\"y\":[4],\"yaxis\":\"y\",\"type\":\"bar\"},{\"alignmentgroup\":\"True\",\"hovertemplate\":\"<b>%{hovertext}</b><br><br>Warehouse=%{x}<br>Count of assigned TT (Issues)=%{y}<extra></extra>\",\"hovertext\":[\"SITE18\"],\"legendgroup\":\"SITE18\",\"marker\":{\"color\":\"#FF97FF\",\"pattern\":{\"shape\":\"\"}},\"name\":\"SITE18\",\"offsetgroup\":\"SITE18\",\"orientation\":\"v\",\"showlegend\":true,\"textposition\":\"auto\",\"x\":[\"SITE18\"],\"xaxis\":\"x\",\"y\":[4],\"yaxis\":\"y\",\"type\":\"bar\"},{\"alignmentgroup\":\"True\",\"hovertemplate\":\"<b>%{hovertext}</b><br><br>Warehouse=%{x}<br>Count of assigned TT (Issues)=%{y}<extra></extra>\",\"hovertext\":[\"SITE20\"],\"legendgroup\":\"SITE20\",\"marker\":{\"color\":\"#FECB52\",\"pattern\":{\"shape\":\"\"}},\"name\":\"SITE20\",\"offsetgroup\":\"SITE20\",\"orientation\":\"v\",\"showlegend\":true,\"textposition\":\"auto\",\"x\":[\"SITE20\"],\"xaxis\":\"x\",\"y\":[3],\"yaxis\":\"y\",\"type\":\"bar\"},{\"alignmentgroup\":\"True\",\"hovertemplate\":\"<b>%{hovertext}</b><br><br>Warehouse=%{x}<br>Count of assigned TT (Issues)=%{y}<extra></extra>\",\"hovertext\":[\"SITE16\"],\"legendgroup\":\"SITE16\",\"marker\":{\"color\":\"#636efa\",\"pattern\":{\"shape\":\"\"}},\"name\":\"SITE16\",\"offsetgroup\":\"SITE16\",\"orientation\":\"v\",\"showlegend\":true,\"textposition\":\"auto\",\"x\":[\"SITE16\"],\"xaxis\":\"x\",\"y\":[3],\"yaxis\":\"y\",\"type\":\"bar\"},{\"alignmentgroup\":\"True\",\"hovertemplate\":\"<b>%{hovertext}</b><br><br>Warehouse=%{x}<br>Count of assigned TT (Issues)=%{y}<extra></extra>\",\"hovertext\":[\"SITE11\"],\"legendgroup\":\"SITE11\",\"marker\":{\"color\":\"#EF553B\",\"pattern\":{\"shape\":\"\"}},\"name\":\"SITE11\",\"offsetgroup\":\"SITE11\",\"orientation\":\"v\",\"showlegend\":true,\"textposition\":\"auto\",\"x\":[\"SITE11\"],\"xaxis\":\"x\",\"y\":[3],\"yaxis\":\"y\",\"type\":\"bar\"},{\"alignmentgroup\":\"True\",\"hovertemplate\":\"<b>%{hovertext}</b><br><br>Warehouse=%{x}<br>Count of assigned TT (Issues)=%{y}<extra></extra>\",\"hovertext\":[\"SITE9\"],\"legendgroup\":\"SITE9\",\"marker\":{\"color\":\"#00cc96\",\"pattern\":{\"shape\":\"\"}},\"name\":\"SITE9\",\"offsetgroup\":\"SITE9\",\"orientation\":\"v\",\"showlegend\":true,\"textposition\":\"auto\",\"x\":[\"SITE9\"],\"xaxis\":\"x\",\"y\":[2],\"yaxis\":\"y\",\"type\":\"bar\"},{\"alignmentgroup\":\"True\",\"hovertemplate\":\"<b>%{hovertext}</b><br><br>Warehouse=%{x}<br>Count of assigned TT (Issues)=%{y}<extra></extra>\",\"hovertext\":[\"SITE25\"],\"legendgroup\":\"SITE25\",\"marker\":{\"color\":\"#ab63fa\",\"pattern\":{\"shape\":\"\"}},\"name\":\"SITE25\",\"offsetgroup\":\"SITE25\",\"orientation\":\"v\",\"showlegend\":true,\"textposition\":\"auto\",\"x\":[\"SITE25\"],\"xaxis\":\"x\",\"y\":[1],\"yaxis\":\"y\",\"type\":\"bar\"},{\"alignmentgroup\":\"True\",\"hovertemplate\":\"<b>%{hovertext}</b><br><br>Warehouse=%{x}<br>Count of assigned TT (Issues)=%{y}<extra></extra>\",\"hovertext\":[\"SITE10\"],\"legendgroup\":\"SITE10\",\"marker\":{\"color\":\"#FFA15A\",\"pattern\":{\"shape\":\"\"}},\"name\":\"SITE10\",\"offsetgroup\":\"SITE10\",\"orientation\":\"v\",\"showlegend\":true,\"textposition\":\"auto\",\"x\":[\"SITE10\"],\"xaxis\":\"x\",\"y\":[1],\"yaxis\":\"y\",\"type\":\"bar\"},{\"alignmentgroup\":\"True\",\"hovertemplate\":\"<b>%{hovertext}</b><br><br>Warehouse=%{x}<br>Count of assigned TT (Issues)=%{y}<extra></extra>\",\"hovertext\":[\"SITE12\"],\"legendgroup\":\"SITE12\",\"marker\":{\"color\":\"#19d3f3\",\"pattern\":{\"shape\":\"\"}},\"name\":\"SITE12\",\"offsetgroup\":\"SITE12\",\"orientation\":\"v\",\"showlegend\":true,\"textposition\":\"auto\",\"x\":[\"SITE12\"],\"xaxis\":\"x\",\"y\":[1],\"yaxis\":\"y\",\"type\":\"bar\"},{\"alignmentgroup\":\"True\",\"hovertemplate\":\"<b>%{hovertext}</b><br><br>Warehouse=%{x}<br>Count of assigned TT (Issues)=%{y}<extra></extra>\",\"hovertext\":[\"SITE8\"],\"legendgroup\":\"SITE8\",\"marker\":{\"color\":\"#FF6692\",\"pattern\":{\"shape\":\"\"}},\"name\":\"SITE8\",\"offsetgroup\":\"SITE8\",\"orientation\":\"v\",\"showlegend\":true,\"textposition\":\"auto\",\"x\":[\"SITE8\"],\"xaxis\":\"x\",\"y\":[1],\"yaxis\":\"y\",\"type\":\"bar\"}],                        {\"template\":{\"data\":{\"bar\":[{\"error_x\":{\"color\":\"#2a3f5f\"},\"error_y\":{\"color\":\"#2a3f5f\"},\"marker\":{\"line\":{\"color\":\"#E5ECF6\",\"width\":0.5},\"pattern\":{\"fillmode\":\"overlay\",\"size\":10,\"solidity\":0.2}},\"type\":\"bar\"}],\"barpolar\":[{\"marker\":{\"line\":{\"color\":\"#E5ECF6\",\"width\":0.5},\"pattern\":{\"fillmode\":\"overlay\",\"size\":10,\"solidity\":0.2}},\"type\":\"barpolar\"}],\"carpet\":[{\"aaxis\":{\"endlinecolor\":\"#2a3f5f\",\"gridcolor\":\"white\",\"linecolor\":\"white\",\"minorgridcolor\":\"white\",\"startlinecolor\":\"#2a3f5f\"},\"baxis\":{\"endlinecolor\":\"#2a3f5f\",\"gridcolor\":\"white\",\"linecolor\":\"white\",\"minorgridcolor\":\"white\",\"startlinecolor\":\"#2a3f5f\"},\"type\":\"carpet\"}],\"choropleth\":[{\"colorbar\":{\"outlinewidth\":0,\"ticks\":\"\"},\"type\":\"choropleth\"}],\"contour\":[{\"colorbar\":{\"outlinewidth\":0,\"ticks\":\"\"},\"colorscale\":[[0.0,\"#0d0887\"],[0.1111111111111111,\"#46039f\"],[0.2222222222222222,\"#7201a8\"],[0.3333333333333333,\"#9c179e\"],[0.4444444444444444,\"#bd3786\"],[0.5555555555555556,\"#d8576b\"],[0.6666666666666666,\"#ed7953\"],[0.7777777777777778,\"#fb9f3a\"],[0.8888888888888888,\"#fdca26\"],[1.0,\"#f0f921\"]],\"type\":\"contour\"}],\"contourcarpet\":[{\"colorbar\":{\"outlinewidth\":0,\"ticks\":\"\"},\"type\":\"contourcarpet\"}],\"heatmap\":[{\"colorbar\":{\"outlinewidth\":0,\"ticks\":\"\"},\"colorscale\":[[0.0,\"#0d0887\"],[0.1111111111111111,\"#46039f\"],[0.2222222222222222,\"#7201a8\"],[0.3333333333333333,\"#9c179e\"],[0.4444444444444444,\"#bd3786\"],[0.5555555555555556,\"#d8576b\"],[0.6666666666666666,\"#ed7953\"],[0.7777777777777778,\"#fb9f3a\"],[0.8888888888888888,\"#fdca26\"],[1.0,\"#f0f921\"]],\"type\":\"heatmap\"}],\"heatmapgl\":[{\"colorbar\":{\"outlinewidth\":0,\"ticks\":\"\"},\"colorscale\":[[0.0,\"#0d0887\"],[0.1111111111111111,\"#46039f\"],[0.2222222222222222,\"#7201a8\"],[0.3333333333333333,\"#9c179e\"],[0.4444444444444444,\"#bd3786\"],[0.5555555555555556,\"#d8576b\"],[0.6666666666666666,\"#ed7953\"],[0.7777777777777778,\"#fb9f3a\"],[0.8888888888888888,\"#fdca26\"],[1.0,\"#f0f921\"]],\"type\":\"heatmapgl\"}],\"histogram\":[{\"marker\":{\"pattern\":{\"fillmode\":\"overlay\",\"size\":10,\"solidity\":0.2}},\"type\":\"histogram\"}],\"histogram2d\":[{\"colorbar\":{\"outlinewidth\":0,\"ticks\":\"\"},\"colorscale\":[[0.0,\"#0d0887\"],[0.1111111111111111,\"#46039f\"],[0.2222222222222222,\"#7201a8\"],[0.3333333333333333,\"#9c179e\"],[0.4444444444444444,\"#bd3786\"],[0.5555555555555556,\"#d8576b\"],[0.6666666666666666,\"#ed7953\"],[0.7777777777777778,\"#fb9f3a\"],[0.8888888888888888,\"#fdca26\"],[1.0,\"#f0f921\"]],\"type\":\"histogram2d\"}],\"histogram2dcontour\":[{\"colorbar\":{\"outlinewidth\":0,\"ticks\":\"\"},\"colorscale\":[[0.0,\"#0d0887\"],[0.1111111111111111,\"#46039f\"],[0.2222222222222222,\"#7201a8\"],[0.3333333333333333,\"#9c179e\"],[0.4444444444444444,\"#bd3786\"],[0.5555555555555556,\"#d8576b\"],[0.6666666666666666,\"#ed7953\"],[0.7777777777777778,\"#fb9f3a\"],[0.8888888888888888,\"#fdca26\"],[1.0,\"#f0f921\"]],\"type\":\"histogram2dcontour\"}],\"mesh3d\":[{\"colorbar\":{\"outlinewidth\":0,\"ticks\":\"\"},\"type\":\"mesh3d\"}],\"parcoords\":[{\"line\":{\"colorbar\":{\"outlinewidth\":0,\"ticks\":\"\"}},\"type\":\"parcoords\"}],\"pie\":[{\"automargin\":true,\"type\":\"pie\"}],\"scatter\":[{\"marker\":{\"colorbar\":{\"outlinewidth\":0,\"ticks\":\"\"}},\"type\":\"scatter\"}],\"scatter3d\":[{\"line\":{\"colorbar\":{\"outlinewidth\":0,\"ticks\":\"\"}},\"marker\":{\"colorbar\":{\"outlinewidth\":0,\"ticks\":\"\"}},\"type\":\"scatter3d\"}],\"scattercarpet\":[{\"marker\":{\"colorbar\":{\"outlinewidth\":0,\"ticks\":\"\"}},\"type\":\"scattercarpet\"}],\"scattergeo\":[{\"marker\":{\"colorbar\":{\"outlinewidth\":0,\"ticks\":\"\"}},\"type\":\"scattergeo\"}],\"scattergl\":[{\"marker\":{\"colorbar\":{\"outlinewidth\":0,\"ticks\":\"\"}},\"type\":\"scattergl\"}],\"scattermapbox\":[{\"marker\":{\"colorbar\":{\"outlinewidth\":0,\"ticks\":\"\"}},\"type\":\"scattermapbox\"}],\"scatterpolar\":[{\"marker\":{\"colorbar\":{\"outlinewidth\":0,\"ticks\":\"\"}},\"type\":\"scatterpolar\"}],\"scatterpolargl\":[{\"marker\":{\"colorbar\":{\"outlinewidth\":0,\"ticks\":\"\"}},\"type\":\"scatterpolargl\"}],\"scatterternary\":[{\"marker\":{\"colorbar\":{\"outlinewidth\":0,\"ticks\":\"\"}},\"type\":\"scatterternary\"}],\"surface\":[{\"colorbar\":{\"outlinewidth\":0,\"ticks\":\"\"},\"colorscale\":[[0.0,\"#0d0887\"],[0.1111111111111111,\"#46039f\"],[0.2222222222222222,\"#7201a8\"],[0.3333333333333333,\"#9c179e\"],[0.4444444444444444,\"#bd3786\"],[0.5555555555555556,\"#d8576b\"],[0.6666666666666666,\"#ed7953\"],[0.7777777777777778,\"#fb9f3a\"],[0.8888888888888888,\"#fdca26\"],[1.0,\"#f0f921\"]],\"type\":\"surface\"}],\"table\":[{\"cells\":{\"fill\":{\"color\":\"#EBF0F8\"},\"line\":{\"color\":\"white\"}},\"header\":{\"fill\":{\"color\":\"#C8D4E3\"},\"line\":{\"color\":\"white\"}},\"type\":\"table\"}]},\"layout\":{\"annotationdefaults\":{\"arrowcolor\":\"#2a3f5f\",\"arrowhead\":0,\"arrowwidth\":1},\"autotypenumbers\":\"strict\",\"coloraxis\":{\"colorbar\":{\"outlinewidth\":0,\"ticks\":\"\"}},\"colorscale\":{\"diverging\":[[0,\"#8e0152\"],[0.1,\"#c51b7d\"],[0.2,\"#de77ae\"],[0.3,\"#f1b6da\"],[0.4,\"#fde0ef\"],[0.5,\"#f7f7f7\"],[0.6,\"#e6f5d0\"],[0.7,\"#b8e186\"],[0.8,\"#7fbc41\"],[0.9,\"#4d9221\"],[1,\"#276419\"]],\"sequential\":[[0.0,\"#0d0887\"],[0.1111111111111111,\"#46039f\"],[0.2222222222222222,\"#7201a8\"],[0.3333333333333333,\"#9c179e\"],[0.4444444444444444,\"#bd3786\"],[0.5555555555555556,\"#d8576b\"],[0.6666666666666666,\"#ed7953\"],[0.7777777777777778,\"#fb9f3a\"],[0.8888888888888888,\"#fdca26\"],[1.0,\"#f0f921\"]],\"sequentialminus\":[[0.0,\"#0d0887\"],[0.1111111111111111,\"#46039f\"],[0.2222222222222222,\"#7201a8\"],[0.3333333333333333,\"#9c179e\"],[0.4444444444444444,\"#bd3786\"],[0.5555555555555556,\"#d8576b\"],[0.6666666666666666,\"#ed7953\"],[0.7777777777777778,\"#fb9f3a\"],[0.8888888888888888,\"#fdca26\"],[1.0,\"#f0f921\"]]},\"colorway\":[\"#636efa\",\"#EF553B\",\"#00cc96\",\"#ab63fa\",\"#FFA15A\",\"#19d3f3\",\"#FF6692\",\"#B6E880\",\"#FF97FF\",\"#FECB52\"],\"font\":{\"color\":\"#2a3f5f\"},\"geo\":{\"bgcolor\":\"white\",\"lakecolor\":\"white\",\"landcolor\":\"#E5ECF6\",\"showlakes\":true,\"showland\":true,\"subunitcolor\":\"white\"},\"hoverlabel\":{\"align\":\"left\"},\"hovermode\":\"closest\",\"mapbox\":{\"style\":\"light\"},\"paper_bgcolor\":\"white\",\"plot_bgcolor\":\"#E5ECF6\",\"polar\":{\"angularaxis\":{\"gridcolor\":\"white\",\"linecolor\":\"white\",\"ticks\":\"\"},\"bgcolor\":\"#E5ECF6\",\"radialaxis\":{\"gridcolor\":\"white\",\"linecolor\":\"white\",\"ticks\":\"\"}},\"scene\":{\"xaxis\":{\"backgroundcolor\":\"#E5ECF6\",\"gridcolor\":\"white\",\"gridwidth\":2,\"linecolor\":\"white\",\"showbackground\":true,\"ticks\":\"\",\"zerolinecolor\":\"white\"},\"yaxis\":{\"backgroundcolor\":\"#E5ECF6\",\"gridcolor\":\"white\",\"gridwidth\":2,\"linecolor\":\"white\",\"showbackground\":true,\"ticks\":\"\",\"zerolinecolor\":\"white\"},\"zaxis\":{\"backgroundcolor\":\"#E5ECF6\",\"gridcolor\":\"white\",\"gridwidth\":2,\"linecolor\":\"white\",\"showbackground\":true,\"ticks\":\"\",\"zerolinecolor\":\"white\"}},\"shapedefaults\":{\"line\":{\"color\":\"#2a3f5f\"}},\"ternary\":{\"aaxis\":{\"gridcolor\":\"white\",\"linecolor\":\"white\",\"ticks\":\"\"},\"baxis\":{\"gridcolor\":\"white\",\"linecolor\":\"white\",\"ticks\":\"\"},\"bgcolor\":\"#E5ECF6\",\"caxis\":{\"gridcolor\":\"white\",\"linecolor\":\"white\",\"ticks\":\"\"}},\"title\":{\"x\":0.05},\"xaxis\":{\"automargin\":true,\"gridcolor\":\"white\",\"linecolor\":\"white\",\"ticks\":\"\",\"title\":{\"standoff\":15},\"zerolinecolor\":\"white\",\"zerolinewidth\":2},\"yaxis\":{\"automargin\":true,\"gridcolor\":\"white\",\"linecolor\":\"white\",\"ticks\":\"\",\"title\":{\"standoff\":15},\"zerolinecolor\":\"white\",\"zerolinewidth\":2}}},\"xaxis\":{\"anchor\":\"y\",\"domain\":[0.0,1.0],\"title\":{\"text\":\"Warehouse\"},\"categoryorder\":\"array\",\"categoryarray\":[\"SITE7\",\"SITE3\",\"SITE30\",\"SITE5\",\"SITE24\",\"SITE21\",\"SITE26\",\"SITE4\",\"SITE2\",\"SITE6\",\"SITE13\",\"SITE14\",\"SITE15\",\"SITE17\",\"SITE22\",\"SITE19\",\"SITE27\",\"SITE1\",\"SITE18\",\"SITE20\",\"SITE16\",\"SITE11\",\"SITE9\",\"SITE25\",\"SITE10\",\"SITE12\",\"SITE8\"]},\"yaxis\":{\"anchor\":\"x\",\"domain\":[0.0,1.0],\"title\":{\"text\":\"Count of assigned TT (Issues)\"}},\"legend\":{\"title\":{\"text\":\"Warehouse\"},\"tracegroupgap\":0},\"title\":{\"text\":\"Summary of current assigned trouble tickets (issues) at whole scope\",\"x\":0.5},\"barmode\":\"relative\"},                        {\"responsive\": true}                    ).then(function(){\n",
       "                            \n",
       "var gd = document.getElementById('e5c97b72-c8fa-41b9-924b-b7270350080b');\n",
       "var x = new MutationObserver(function (mutations, observer) {{\n",
       "        var display = window.getComputedStyle(gd).display;\n",
       "        if (!display || display === 'none') {{\n",
       "            console.log([gd, 'removed!']);\n",
       "            Plotly.purge(gd);\n",
       "            observer.disconnect();\n",
       "        }}\n",
       "}});\n",
       "\n",
       "// Listen for the removal of the full notebook cells\n",
       "var notebookContainer = gd.closest('#notebook-container');\n",
       "if (notebookContainer) {{\n",
       "    x.observe(notebookContainer, {childList: true});\n",
       "}}\n",
       "\n",
       "// Listen for the clearing of the current output cell\n",
       "var outputEl = gd.closest('.output');\n",
       "if (outputEl) {{\n",
       "    x.observe(outputEl, {childList: true});\n",
       "}}\n",
       "\n",
       "                        })                };                });            </script>        </div>"
      ]
     },
     "metadata": {},
     "output_type": "display_data"
    }
   ],
   "source": [
    "fig = px.bar(data_frame=assigned_sorted,\n",
    "             x='Warehouse',\n",
    "             y='ID',\n",
    "             labels={\n",
    "                 'ID': 'Count of assigned TT (Issues)'                 \n",
    "             },\n",
    "             color='Warehouse',\n",
    "             hover_name='Warehouse',             \n",
    "             title='Summary of current assigned trouble tickets (issues) at whole scope',\n",
    "             )\n",
    "fig.update_layout(title_x=0.5)\n",
    "fig.show()"
   ]
  },
  {
   "cell_type": "code",
   "execution_count": 53,
   "id": "b01f0f42-8f25-4390-9d4c-aa22c3ded48a",
   "metadata": {},
   "outputs": [
    {
     "data": {
      "text/plain": [
       "Warehouse    SITE1SITE10SITE11SITE12SITE13SITE14SITE15SITE1...\n",
       "ID                                                      2131.0\n",
       "dtype: object"
      ]
     },
     "execution_count": 53,
     "metadata": {},
     "output_type": "execute_result"
    }
   ],
   "source": [
    "# across_the_3PL_network\n",
    "\n",
    "across_the_3PL_network = assigned_warehouse['ID'] + submitted_warehouse['ID']\n",
    "across_the_3PL_network.reset_index().sum()"
   ]
  },
  {
   "cell_type": "code",
   "execution_count": 54,
   "id": "75423e45-1b62-4299-bf35-cf71b36ebfba",
   "metadata": {},
   "outputs": [
    {
     "data": {
      "text/html": [
       "<div>\n",
       "<style scoped>\n",
       "    .dataframe tbody tr th:only-of-type {\n",
       "        vertical-align: middle;\n",
       "    }\n",
       "\n",
       "    .dataframe tbody tr th {\n",
       "        vertical-align: top;\n",
       "    }\n",
       "\n",
       "    .dataframe thead th {\n",
       "        text-align: right;\n",
       "    }\n",
       "</style>\n",
       "<table border=\"1\" class=\"dataframe\">\n",
       "  <thead>\n",
       "    <tr style=\"text-align: right;\">\n",
       "      <th></th>\n",
       "      <th>Warehouse</th>\n",
       "      <th>ID</th>\n",
       "    </tr>\n",
       "  </thead>\n",
       "  <tbody>\n",
       "    <tr>\n",
       "      <th>26</th>\n",
       "      <td>SITE7</td>\n",
       "      <td>377.0</td>\n",
       "    </tr>\n",
       "    <tr>\n",
       "      <th>17</th>\n",
       "      <td>SITE25</td>\n",
       "      <td>189.0</td>\n",
       "    </tr>\n",
       "    <tr>\n",
       "      <th>24</th>\n",
       "      <td>SITE5</td>\n",
       "      <td>176.0</td>\n",
       "    </tr>\n",
       "    <tr>\n",
       "      <th>21</th>\n",
       "      <td>SITE3</td>\n",
       "      <td>166.0</td>\n",
       "    </tr>\n",
       "    <tr>\n",
       "      <th>22</th>\n",
       "      <td>SITE30</td>\n",
       "      <td>150.0</td>\n",
       "    </tr>\n",
       "  </tbody>\n",
       "</table>\n",
       "</div>"
      ],
      "text/plain": [
       "   Warehouse     ID\n",
       "26     SITE7  377.0\n",
       "17    SITE25  189.0\n",
       "24     SITE5  176.0\n",
       "21     SITE3  166.0\n",
       "22    SITE30  150.0"
      ]
     },
     "execution_count": 54,
     "metadata": {},
     "output_type": "execute_result"
    }
   ],
   "source": [
    "# TOP 5 OFFENDERS\n",
    "\n",
    "top_5_offenders = across_the_3PL_network.reset_index().sort_values('ID', ascending=False).head(5)\n",
    "top_5_offenders"
   ]
  },
  {
   "cell_type": "code",
   "execution_count": 55,
   "id": "28949e02-5d80-4fce-839d-89f17c2d01ea",
   "metadata": {},
   "outputs": [
    {
     "data": {
      "application/vnd.plotly.v1+json": {
       "config": {
        "plotlyServerURL": "https://plot.ly"
       },
       "data": [
        {
         "alignmentgroup": "True",
         "hovertemplate": "<b>%{hovertext}</b><br><br>Warehouse=%{y}<br>Count of assigned and submitted TT (Issues)=%{text}<extra></extra>",
         "hovertext": [
          "SITE7"
         ],
         "legendgroup": "SITE7",
         "marker": {
          "color": "#3366CC",
          "pattern": {
           "shape": ""
          }
         },
         "name": "SITE7",
         "offsetgroup": "SITE7",
         "orientation": "h",
         "showlegend": true,
         "text": [
          377
         ],
         "textposition": "auto",
         "type": "bar",
         "x": [
          377
         ],
         "xaxis": "x",
         "y": [
          "SITE7"
         ],
         "yaxis": "y"
        },
        {
         "alignmentgroup": "True",
         "hovertemplate": "<b>%{hovertext}</b><br><br>Warehouse=%{y}<br>Count of assigned and submitted TT (Issues)=%{text}<extra></extra>",
         "hovertext": [
          "SITE25"
         ],
         "legendgroup": "SITE25",
         "marker": {
          "color": "#3366CC",
          "pattern": {
           "shape": ""
          }
         },
         "name": "SITE25",
         "offsetgroup": "SITE25",
         "orientation": "h",
         "showlegend": true,
         "text": [
          189
         ],
         "textposition": "auto",
         "type": "bar",
         "x": [
          189
         ],
         "xaxis": "x",
         "y": [
          "SITE25"
         ],
         "yaxis": "y"
        },
        {
         "alignmentgroup": "True",
         "hovertemplate": "<b>%{hovertext}</b><br><br>Warehouse=%{y}<br>Count of assigned and submitted TT (Issues)=%{text}<extra></extra>",
         "hovertext": [
          "SITE5"
         ],
         "legendgroup": "SITE5",
         "marker": {
          "color": "#3366CC",
          "pattern": {
           "shape": ""
          }
         },
         "name": "SITE5",
         "offsetgroup": "SITE5",
         "orientation": "h",
         "showlegend": true,
         "text": [
          176
         ],
         "textposition": "auto",
         "type": "bar",
         "x": [
          176
         ],
         "xaxis": "x",
         "y": [
          "SITE5"
         ],
         "yaxis": "y"
        },
        {
         "alignmentgroup": "True",
         "hovertemplate": "<b>%{hovertext}</b><br><br>Warehouse=%{y}<br>Count of assigned and submitted TT (Issues)=%{text}<extra></extra>",
         "hovertext": [
          "SITE3"
         ],
         "legendgroup": "SITE3",
         "marker": {
          "color": "#3366CC",
          "pattern": {
           "shape": ""
          }
         },
         "name": "SITE3",
         "offsetgroup": "SITE3",
         "orientation": "h",
         "showlegend": true,
         "text": [
          166
         ],
         "textposition": "auto",
         "type": "bar",
         "x": [
          166
         ],
         "xaxis": "x",
         "y": [
          "SITE3"
         ],
         "yaxis": "y"
        },
        {
         "alignmentgroup": "True",
         "hovertemplate": "<b>%{hovertext}</b><br><br>Warehouse=%{y}<br>Count of assigned and submitted TT (Issues)=%{text}<extra></extra>",
         "hovertext": [
          "SITE30"
         ],
         "legendgroup": "SITE30",
         "marker": {
          "color": "#3366CC",
          "pattern": {
           "shape": ""
          }
         },
         "name": "SITE30",
         "offsetgroup": "SITE30",
         "orientation": "h",
         "showlegend": true,
         "text": [
          150
         ],
         "textposition": "auto",
         "type": "bar",
         "x": [
          150
         ],
         "xaxis": "x",
         "y": [
          "SITE30"
         ],
         "yaxis": "y"
        }
       ],
       "layout": {
        "autosize": true,
        "barmode": "relative",
        "legend": {
         "title": {
          "text": "Warehouse"
         },
         "tracegroupgap": 0
        },
        "template": {
         "data": {
          "bar": [
           {
            "error_x": {
             "color": "#2a3f5f"
            },
            "error_y": {
             "color": "#2a3f5f"
            },
            "marker": {
             "line": {
              "color": "#E5ECF6",
              "width": 0.5
             },
             "pattern": {
              "fillmode": "overlay",
              "size": 10,
              "solidity": 0.2
             }
            },
            "type": "bar"
           }
          ],
          "barpolar": [
           {
            "marker": {
             "line": {
              "color": "#E5ECF6",
              "width": 0.5
             },
             "pattern": {
              "fillmode": "overlay",
              "size": 10,
              "solidity": 0.2
             }
            },
            "type": "barpolar"
           }
          ],
          "carpet": [
           {
            "aaxis": {
             "endlinecolor": "#2a3f5f",
             "gridcolor": "white",
             "linecolor": "white",
             "minorgridcolor": "white",
             "startlinecolor": "#2a3f5f"
            },
            "baxis": {
             "endlinecolor": "#2a3f5f",
             "gridcolor": "white",
             "linecolor": "white",
             "minorgridcolor": "white",
             "startlinecolor": "#2a3f5f"
            },
            "type": "carpet"
           }
          ],
          "choropleth": [
           {
            "colorbar": {
             "outlinewidth": 0,
             "ticks": ""
            },
            "type": "choropleth"
           }
          ],
          "contour": [
           {
            "colorbar": {
             "outlinewidth": 0,
             "ticks": ""
            },
            "colorscale": [
             [
              0,
              "#0d0887"
             ],
             [
              0.1111111111111111,
              "#46039f"
             ],
             [
              0.2222222222222222,
              "#7201a8"
             ],
             [
              0.3333333333333333,
              "#9c179e"
             ],
             [
              0.4444444444444444,
              "#bd3786"
             ],
             [
              0.5555555555555556,
              "#d8576b"
             ],
             [
              0.6666666666666666,
              "#ed7953"
             ],
             [
              0.7777777777777778,
              "#fb9f3a"
             ],
             [
              0.8888888888888888,
              "#fdca26"
             ],
             [
              1,
              "#f0f921"
             ]
            ],
            "type": "contour"
           }
          ],
          "contourcarpet": [
           {
            "colorbar": {
             "outlinewidth": 0,
             "ticks": ""
            },
            "type": "contourcarpet"
           }
          ],
          "heatmap": [
           {
            "colorbar": {
             "outlinewidth": 0,
             "ticks": ""
            },
            "colorscale": [
             [
              0,
              "#0d0887"
             ],
             [
              0.1111111111111111,
              "#46039f"
             ],
             [
              0.2222222222222222,
              "#7201a8"
             ],
             [
              0.3333333333333333,
              "#9c179e"
             ],
             [
              0.4444444444444444,
              "#bd3786"
             ],
             [
              0.5555555555555556,
              "#d8576b"
             ],
             [
              0.6666666666666666,
              "#ed7953"
             ],
             [
              0.7777777777777778,
              "#fb9f3a"
             ],
             [
              0.8888888888888888,
              "#fdca26"
             ],
             [
              1,
              "#f0f921"
             ]
            ],
            "type": "heatmap"
           }
          ],
          "heatmapgl": [
           {
            "colorbar": {
             "outlinewidth": 0,
             "ticks": ""
            },
            "colorscale": [
             [
              0,
              "#0d0887"
             ],
             [
              0.1111111111111111,
              "#46039f"
             ],
             [
              0.2222222222222222,
              "#7201a8"
             ],
             [
              0.3333333333333333,
              "#9c179e"
             ],
             [
              0.4444444444444444,
              "#bd3786"
             ],
             [
              0.5555555555555556,
              "#d8576b"
             ],
             [
              0.6666666666666666,
              "#ed7953"
             ],
             [
              0.7777777777777778,
              "#fb9f3a"
             ],
             [
              0.8888888888888888,
              "#fdca26"
             ],
             [
              1,
              "#f0f921"
             ]
            ],
            "type": "heatmapgl"
           }
          ],
          "histogram": [
           {
            "marker": {
             "pattern": {
              "fillmode": "overlay",
              "size": 10,
              "solidity": 0.2
             }
            },
            "type": "histogram"
           }
          ],
          "histogram2d": [
           {
            "colorbar": {
             "outlinewidth": 0,
             "ticks": ""
            },
            "colorscale": [
             [
              0,
              "#0d0887"
             ],
             [
              0.1111111111111111,
              "#46039f"
             ],
             [
              0.2222222222222222,
              "#7201a8"
             ],
             [
              0.3333333333333333,
              "#9c179e"
             ],
             [
              0.4444444444444444,
              "#bd3786"
             ],
             [
              0.5555555555555556,
              "#d8576b"
             ],
             [
              0.6666666666666666,
              "#ed7953"
             ],
             [
              0.7777777777777778,
              "#fb9f3a"
             ],
             [
              0.8888888888888888,
              "#fdca26"
             ],
             [
              1,
              "#f0f921"
             ]
            ],
            "type": "histogram2d"
           }
          ],
          "histogram2dcontour": [
           {
            "colorbar": {
             "outlinewidth": 0,
             "ticks": ""
            },
            "colorscale": [
             [
              0,
              "#0d0887"
             ],
             [
              0.1111111111111111,
              "#46039f"
             ],
             [
              0.2222222222222222,
              "#7201a8"
             ],
             [
              0.3333333333333333,
              "#9c179e"
             ],
             [
              0.4444444444444444,
              "#bd3786"
             ],
             [
              0.5555555555555556,
              "#d8576b"
             ],
             [
              0.6666666666666666,
              "#ed7953"
             ],
             [
              0.7777777777777778,
              "#fb9f3a"
             ],
             [
              0.8888888888888888,
              "#fdca26"
             ],
             [
              1,
              "#f0f921"
             ]
            ],
            "type": "histogram2dcontour"
           }
          ],
          "mesh3d": [
           {
            "colorbar": {
             "outlinewidth": 0,
             "ticks": ""
            },
            "type": "mesh3d"
           }
          ],
          "parcoords": [
           {
            "line": {
             "colorbar": {
              "outlinewidth": 0,
              "ticks": ""
             }
            },
            "type": "parcoords"
           }
          ],
          "pie": [
           {
            "automargin": true,
            "type": "pie"
           }
          ],
          "scatter": [
           {
            "marker": {
             "colorbar": {
              "outlinewidth": 0,
              "ticks": ""
             }
            },
            "type": "scatter"
           }
          ],
          "scatter3d": [
           {
            "line": {
             "colorbar": {
              "outlinewidth": 0,
              "ticks": ""
             }
            },
            "marker": {
             "colorbar": {
              "outlinewidth": 0,
              "ticks": ""
             }
            },
            "type": "scatter3d"
           }
          ],
          "scattercarpet": [
           {
            "marker": {
             "colorbar": {
              "outlinewidth": 0,
              "ticks": ""
             }
            },
            "type": "scattercarpet"
           }
          ],
          "scattergeo": [
           {
            "marker": {
             "colorbar": {
              "outlinewidth": 0,
              "ticks": ""
             }
            },
            "type": "scattergeo"
           }
          ],
          "scattergl": [
           {
            "marker": {
             "colorbar": {
              "outlinewidth": 0,
              "ticks": ""
             }
            },
            "type": "scattergl"
           }
          ],
          "scattermapbox": [
           {
            "marker": {
             "colorbar": {
              "outlinewidth": 0,
              "ticks": ""
             }
            },
            "type": "scattermapbox"
           }
          ],
          "scatterpolar": [
           {
            "marker": {
             "colorbar": {
              "outlinewidth": 0,
              "ticks": ""
             }
            },
            "type": "scatterpolar"
           }
          ],
          "scatterpolargl": [
           {
            "marker": {
             "colorbar": {
              "outlinewidth": 0,
              "ticks": ""
             }
            },
            "type": "scatterpolargl"
           }
          ],
          "scatterternary": [
           {
            "marker": {
             "colorbar": {
              "outlinewidth": 0,
              "ticks": ""
             }
            },
            "type": "scatterternary"
           }
          ],
          "surface": [
           {
            "colorbar": {
             "outlinewidth": 0,
             "ticks": ""
            },
            "colorscale": [
             [
              0,
              "#0d0887"
             ],
             [
              0.1111111111111111,
              "#46039f"
             ],
             [
              0.2222222222222222,
              "#7201a8"
             ],
             [
              0.3333333333333333,
              "#9c179e"
             ],
             [
              0.4444444444444444,
              "#bd3786"
             ],
             [
              0.5555555555555556,
              "#d8576b"
             ],
             [
              0.6666666666666666,
              "#ed7953"
             ],
             [
              0.7777777777777778,
              "#fb9f3a"
             ],
             [
              0.8888888888888888,
              "#fdca26"
             ],
             [
              1,
              "#f0f921"
             ]
            ],
            "type": "surface"
           }
          ],
          "table": [
           {
            "cells": {
             "fill": {
              "color": "#EBF0F8"
             },
             "line": {
              "color": "white"
             }
            },
            "header": {
             "fill": {
              "color": "#C8D4E3"
             },
             "line": {
              "color": "white"
             }
            },
            "type": "table"
           }
          ]
         },
         "layout": {
          "annotationdefaults": {
           "arrowcolor": "#2a3f5f",
           "arrowhead": 0,
           "arrowwidth": 1
          },
          "autotypenumbers": "strict",
          "coloraxis": {
           "colorbar": {
            "outlinewidth": 0,
            "ticks": ""
           }
          },
          "colorscale": {
           "diverging": [
            [
             0,
             "#8e0152"
            ],
            [
             0.1,
             "#c51b7d"
            ],
            [
             0.2,
             "#de77ae"
            ],
            [
             0.3,
             "#f1b6da"
            ],
            [
             0.4,
             "#fde0ef"
            ],
            [
             0.5,
             "#f7f7f7"
            ],
            [
             0.6,
             "#e6f5d0"
            ],
            [
             0.7,
             "#b8e186"
            ],
            [
             0.8,
             "#7fbc41"
            ],
            [
             0.9,
             "#4d9221"
            ],
            [
             1,
             "#276419"
            ]
           ],
           "sequential": [
            [
             0,
             "#0d0887"
            ],
            [
             0.1111111111111111,
             "#46039f"
            ],
            [
             0.2222222222222222,
             "#7201a8"
            ],
            [
             0.3333333333333333,
             "#9c179e"
            ],
            [
             0.4444444444444444,
             "#bd3786"
            ],
            [
             0.5555555555555556,
             "#d8576b"
            ],
            [
             0.6666666666666666,
             "#ed7953"
            ],
            [
             0.7777777777777778,
             "#fb9f3a"
            ],
            [
             0.8888888888888888,
             "#fdca26"
            ],
            [
             1,
             "#f0f921"
            ]
           ],
           "sequentialminus": [
            [
             0,
             "#0d0887"
            ],
            [
             0.1111111111111111,
             "#46039f"
            ],
            [
             0.2222222222222222,
             "#7201a8"
            ],
            [
             0.3333333333333333,
             "#9c179e"
            ],
            [
             0.4444444444444444,
             "#bd3786"
            ],
            [
             0.5555555555555556,
             "#d8576b"
            ],
            [
             0.6666666666666666,
             "#ed7953"
            ],
            [
             0.7777777777777778,
             "#fb9f3a"
            ],
            [
             0.8888888888888888,
             "#fdca26"
            ],
            [
             1,
             "#f0f921"
            ]
           ]
          },
          "colorway": [
           "#636efa",
           "#EF553B",
           "#00cc96",
           "#ab63fa",
           "#FFA15A",
           "#19d3f3",
           "#FF6692",
           "#B6E880",
           "#FF97FF",
           "#FECB52"
          ],
          "font": {
           "color": "#2a3f5f"
          },
          "geo": {
           "bgcolor": "white",
           "lakecolor": "white",
           "landcolor": "#E5ECF6",
           "showlakes": true,
           "showland": true,
           "subunitcolor": "white"
          },
          "hoverlabel": {
           "align": "left"
          },
          "hovermode": "closest",
          "mapbox": {
           "style": "light"
          },
          "paper_bgcolor": "white",
          "plot_bgcolor": "#E5ECF6",
          "polar": {
           "angularaxis": {
            "gridcolor": "white",
            "linecolor": "white",
            "ticks": ""
           },
           "bgcolor": "#E5ECF6",
           "radialaxis": {
            "gridcolor": "white",
            "linecolor": "white",
            "ticks": ""
           }
          },
          "scene": {
           "xaxis": {
            "backgroundcolor": "#E5ECF6",
            "gridcolor": "white",
            "gridwidth": 2,
            "linecolor": "white",
            "showbackground": true,
            "ticks": "",
            "zerolinecolor": "white"
           },
           "yaxis": {
            "backgroundcolor": "#E5ECF6",
            "gridcolor": "white",
            "gridwidth": 2,
            "linecolor": "white",
            "showbackground": true,
            "ticks": "",
            "zerolinecolor": "white"
           },
           "zaxis": {
            "backgroundcolor": "#E5ECF6",
            "gridcolor": "white",
            "gridwidth": 2,
            "linecolor": "white",
            "showbackground": true,
            "ticks": "",
            "zerolinecolor": "white"
           }
          },
          "shapedefaults": {
           "line": {
            "color": "#2a3f5f"
           }
          },
          "ternary": {
           "aaxis": {
            "gridcolor": "white",
            "linecolor": "white",
            "ticks": ""
           },
           "baxis": {
            "gridcolor": "white",
            "linecolor": "white",
            "ticks": ""
           },
           "bgcolor": "#E5ECF6",
           "caxis": {
            "gridcolor": "white",
            "linecolor": "white",
            "ticks": ""
           }
          },
          "title": {
           "x": 0.05
          },
          "xaxis": {
           "automargin": true,
           "gridcolor": "white",
           "linecolor": "white",
           "ticks": "",
           "title": {
            "standoff": 15
           },
           "zerolinecolor": "white",
           "zerolinewidth": 2
          },
          "yaxis": {
           "automargin": true,
           "gridcolor": "white",
           "linecolor": "white",
           "ticks": "",
           "title": {
            "standoff": 15
           },
           "zerolinecolor": "white",
           "zerolinewidth": 2
          }
         }
        },
        "title": {
         "text": "Top 5 offenders",
         "x": 0.5
        },
        "xaxis": {
         "anchor": "y",
         "autorange": true,
         "domain": [
          0,
          1
         ],
         "range": [
          0,
          396.8421052631579
         ],
         "title": {
          "text": "Count of assigned and submitted TT (Issues)"
         },
         "type": "linear"
        },
        "yaxis": {
         "anchor": "x",
         "autorange": true,
         "categoryarray": [
          "SITE30",
          "SITE3",
          "SITE5",
          "SITE25",
          "SITE7"
         ],
         "categoryorder": "array",
         "domain": [
          0,
          1
         ],
         "range": [
          -0.5,
          4.5
         ],
         "title": {
          "text": "Warehouse"
         },
         "type": "category"
        }
       }
      },
      "image/png": "[encoded data removed]",
      "text/html": [
       "<div>                            <div id=\"2f9aa68b-472a-4832-bbdd-667193bde3d5\" class=\"plotly-graph-div\" style=\"height:525px; width:100%;\"></div>            <script type=\"text/javascript\">                require([\"plotly\"], function(Plotly) {                    window.PLOTLYENV=window.PLOTLYENV || {};                                    if (document.getElementById(\"2f9aa68b-472a-4832-bbdd-667193bde3d5\")) {                    Plotly.newPlot(                        \"2f9aa68b-472a-4832-bbdd-667193bde3d5\",                        [{\"alignmentgroup\":\"True\",\"hovertemplate\":\"<b>%{hovertext}</b><br><br>Warehouse=%{y}<br>Count of assigned and submitted TT (Issues)=%{text}<extra></extra>\",\"hovertext\":[\"SITE7\"],\"legendgroup\":\"SITE7\",\"marker\":{\"color\":\"#3366CC\",\"pattern\":{\"shape\":\"\"}},\"name\":\"SITE7\",\"offsetgroup\":\"SITE7\",\"orientation\":\"h\",\"showlegend\":true,\"text\":[377.0],\"textposition\":\"auto\",\"x\":[377.0],\"xaxis\":\"x\",\"y\":[\"SITE7\"],\"yaxis\":\"y\",\"type\":\"bar\"},{\"alignmentgroup\":\"True\",\"hovertemplate\":\"<b>%{hovertext}</b><br><br>Warehouse=%{y}<br>Count of assigned and submitted TT (Issues)=%{text}<extra></extra>\",\"hovertext\":[\"SITE25\"],\"legendgroup\":\"SITE25\",\"marker\":{\"color\":\"#3366CC\",\"pattern\":{\"shape\":\"\"}},\"name\":\"SITE25\",\"offsetgroup\":\"SITE25\",\"orientation\":\"h\",\"showlegend\":true,\"text\":[189.0],\"textposition\":\"auto\",\"x\":[189.0],\"xaxis\":\"x\",\"y\":[\"SITE25\"],\"yaxis\":\"y\",\"type\":\"bar\"},{\"alignmentgroup\":\"True\",\"hovertemplate\":\"<b>%{hovertext}</b><br><br>Warehouse=%{y}<br>Count of assigned and submitted TT (Issues)=%{text}<extra></extra>\",\"hovertext\":[\"SITE5\"],\"legendgroup\":\"SITE5\",\"marker\":{\"color\":\"#3366CC\",\"pattern\":{\"shape\":\"\"}},\"name\":\"SITE5\",\"offsetgroup\":\"SITE5\",\"orientation\":\"h\",\"showlegend\":true,\"text\":[176.0],\"textposition\":\"auto\",\"x\":[176.0],\"xaxis\":\"x\",\"y\":[\"SITE5\"],\"yaxis\":\"y\",\"type\":\"bar\"},{\"alignmentgroup\":\"True\",\"hovertemplate\":\"<b>%{hovertext}</b><br><br>Warehouse=%{y}<br>Count of assigned and submitted TT (Issues)=%{text}<extra></extra>\",\"hovertext\":[\"SITE3\"],\"legendgroup\":\"SITE3\",\"marker\":{\"color\":\"#3366CC\",\"pattern\":{\"shape\":\"\"}},\"name\":\"SITE3\",\"offsetgroup\":\"SITE3\",\"orientation\":\"h\",\"showlegend\":true,\"text\":[166.0],\"textposition\":\"auto\",\"x\":[166.0],\"xaxis\":\"x\",\"y\":[\"SITE3\"],\"yaxis\":\"y\",\"type\":\"bar\"},{\"alignmentgroup\":\"True\",\"hovertemplate\":\"<b>%{hovertext}</b><br><br>Warehouse=%{y}<br>Count of assigned and submitted TT (Issues)=%{text}<extra></extra>\",\"hovertext\":[\"SITE30\"],\"legendgroup\":\"SITE30\",\"marker\":{\"color\":\"#3366CC\",\"pattern\":{\"shape\":\"\"}},\"name\":\"SITE30\",\"offsetgroup\":\"SITE30\",\"orientation\":\"h\",\"showlegend\":true,\"text\":[150.0],\"textposition\":\"auto\",\"x\":[150.0],\"xaxis\":\"x\",\"y\":[\"SITE30\"],\"yaxis\":\"y\",\"type\":\"bar\"}],                        {\"template\":{\"data\":{\"bar\":[{\"error_x\":{\"color\":\"#2a3f5f\"},\"error_y\":{\"color\":\"#2a3f5f\"},\"marker\":{\"line\":{\"color\":\"#E5ECF6\",\"width\":0.5},\"pattern\":{\"fillmode\":\"overlay\",\"size\":10,\"solidity\":0.2}},\"type\":\"bar\"}],\"barpolar\":[{\"marker\":{\"line\":{\"color\":\"#E5ECF6\",\"width\":0.5},\"pattern\":{\"fillmode\":\"overlay\",\"size\":10,\"solidity\":0.2}},\"type\":\"barpolar\"}],\"carpet\":[{\"aaxis\":{\"endlinecolor\":\"#2a3f5f\",\"gridcolor\":\"white\",\"linecolor\":\"white\",\"minorgridcolor\":\"white\",\"startlinecolor\":\"#2a3f5f\"},\"baxis\":{\"endlinecolor\":\"#2a3f5f\",\"gridcolor\":\"white\",\"linecolor\":\"white\",\"minorgridcolor\":\"white\",\"startlinecolor\":\"#2a3f5f\"},\"type\":\"carpet\"}],\"choropleth\":[{\"colorbar\":{\"outlinewidth\":0,\"ticks\":\"\"},\"type\":\"choropleth\"}],\"contour\":[{\"colorbar\":{\"outlinewidth\":0,\"ticks\":\"\"},\"colorscale\":[[0.0,\"#0d0887\"],[0.1111111111111111,\"#46039f\"],[0.2222222222222222,\"#7201a8\"],[0.3333333333333333,\"#9c179e\"],[0.4444444444444444,\"#bd3786\"],[0.5555555555555556,\"#d8576b\"],[0.6666666666666666,\"#ed7953\"],[0.7777777777777778,\"#fb9f3a\"],[0.8888888888888888,\"#fdca26\"],[1.0,\"#f0f921\"]],\"type\":\"contour\"}],\"contourcarpet\":[{\"colorbar\":{\"outlinewidth\":0,\"ticks\":\"\"},\"type\":\"contourcarpet\"}],\"heatmap\":[{\"colorbar\":{\"outlinewidth\":0,\"ticks\":\"\"},\"colorscale\":[[0.0,\"#0d0887\"],[0.1111111111111111,\"#46039f\"],[0.2222222222222222,\"#7201a8\"],[0.3333333333333333,\"#9c179e\"],[0.4444444444444444,\"#bd3786\"],[0.5555555555555556,\"#d8576b\"],[0.6666666666666666,\"#ed7953\"],[0.7777777777777778,\"#fb9f3a\"],[0.8888888888888888,\"#fdca26\"],[1.0,\"#f0f921\"]],\"type\":\"heatmap\"}],\"heatmapgl\":[{\"colorbar\":{\"outlinewidth\":0,\"ticks\":\"\"},\"colorscale\":[[0.0,\"#0d0887\"],[0.1111111111111111,\"#46039f\"],[0.2222222222222222,\"#7201a8\"],[0.3333333333333333,\"#9c179e\"],[0.4444444444444444,\"#bd3786\"],[0.5555555555555556,\"#d8576b\"],[0.6666666666666666,\"#ed7953\"],[0.7777777777777778,\"#fb9f3a\"],[0.8888888888888888,\"#fdca26\"],[1.0,\"#f0f921\"]],\"type\":\"heatmapgl\"}],\"histogram\":[{\"marker\":{\"pattern\":{\"fillmode\":\"overlay\",\"size\":10,\"solidity\":0.2}},\"type\":\"histogram\"}],\"histogram2d\":[{\"colorbar\":{\"outlinewidth\":0,\"ticks\":\"\"},\"colorscale\":[[0.0,\"#0d0887\"],[0.1111111111111111,\"#46039f\"],[0.2222222222222222,\"#7201a8\"],[0.3333333333333333,\"#9c179e\"],[0.4444444444444444,\"#bd3786\"],[0.5555555555555556,\"#d8576b\"],[0.6666666666666666,\"#ed7953\"],[0.7777777777777778,\"#fb9f3a\"],[0.8888888888888888,\"#fdca26\"],[1.0,\"#f0f921\"]],\"type\":\"histogram2d\"}],\"histogram2dcontour\":[{\"colorbar\":{\"outlinewidth\":0,\"ticks\":\"\"},\"colorscale\":[[0.0,\"#0d0887\"],[0.1111111111111111,\"#46039f\"],[0.2222222222222222,\"#7201a8\"],[0.3333333333333333,\"#9c179e\"],[0.4444444444444444,\"#bd3786\"],[0.5555555555555556,\"#d8576b\"],[0.6666666666666666,\"#ed7953\"],[0.7777777777777778,\"#fb9f3a\"],[0.8888888888888888,\"#fdca26\"],[1.0,\"#f0f921\"]],\"type\":\"histogram2dcontour\"}],\"mesh3d\":[{\"colorbar\":{\"outlinewidth\":0,\"ticks\":\"\"},\"type\":\"mesh3d\"}],\"parcoords\":[{\"line\":{\"colorbar\":{\"outlinewidth\":0,\"ticks\":\"\"}},\"type\":\"parcoords\"}],\"pie\":[{\"automargin\":true,\"type\":\"pie\"}],\"scatter\":[{\"marker\":{\"colorbar\":{\"outlinewidth\":0,\"ticks\":\"\"}},\"type\":\"scatter\"}],\"scatter3d\":[{\"line\":{\"colorbar\":{\"outlinewidth\":0,\"ticks\":\"\"}},\"marker\":{\"colorbar\":{\"outlinewidth\":0,\"ticks\":\"\"}},\"type\":\"scatter3d\"}],\"scattercarpet\":[{\"marker\":{\"colorbar\":{\"outlinewidth\":0,\"ticks\":\"\"}},\"type\":\"scattercarpet\"}],\"scattergeo\":[{\"marker\":{\"colorbar\":{\"outlinewidth\":0,\"ticks\":\"\"}},\"type\":\"scattergeo\"}],\"scattergl\":[{\"marker\":{\"colorbar\":{\"outlinewidth\":0,\"ticks\":\"\"}},\"type\":\"scattergl\"}],\"scattermapbox\":[{\"marker\":{\"colorbar\":{\"outlinewidth\":0,\"ticks\":\"\"}},\"type\":\"scattermapbox\"}],\"scatterpolar\":[{\"marker\":{\"colorbar\":{\"outlinewidth\":0,\"ticks\":\"\"}},\"type\":\"scatterpolar\"}],\"scatterpolargl\":[{\"marker\":{\"colorbar\":{\"outlinewidth\":0,\"ticks\":\"\"}},\"type\":\"scatterpolargl\"}],\"scatterternary\":[{\"marker\":{\"colorbar\":{\"outlinewidth\":0,\"ticks\":\"\"}},\"type\":\"scatterternary\"}],\"surface\":[{\"colorbar\":{\"outlinewidth\":0,\"ticks\":\"\"},\"colorscale\":[[0.0,\"#0d0887\"],[0.1111111111111111,\"#46039f\"],[0.2222222222222222,\"#7201a8\"],[0.3333333333333333,\"#9c179e\"],[0.4444444444444444,\"#bd3786\"],[0.5555555555555556,\"#d8576b\"],[0.6666666666666666,\"#ed7953\"],[0.7777777777777778,\"#fb9f3a\"],[0.8888888888888888,\"#fdca26\"],[1.0,\"#f0f921\"]],\"type\":\"surface\"}],\"table\":[{\"cells\":{\"fill\":{\"color\":\"#EBF0F8\"},\"line\":{\"color\":\"white\"}},\"header\":{\"fill\":{\"color\":\"#C8D4E3\"},\"line\":{\"color\":\"white\"}},\"type\":\"table\"}]},\"layout\":{\"annotationdefaults\":{\"arrowcolor\":\"#2a3f5f\",\"arrowhead\":0,\"arrowwidth\":1},\"autotypenumbers\":\"strict\",\"coloraxis\":{\"colorbar\":{\"outlinewidth\":0,\"ticks\":\"\"}},\"colorscale\":{\"diverging\":[[0,\"#8e0152\"],[0.1,\"#c51b7d\"],[0.2,\"#de77ae\"],[0.3,\"#f1b6da\"],[0.4,\"#fde0ef\"],[0.5,\"#f7f7f7\"],[0.6,\"#e6f5d0\"],[0.7,\"#b8e186\"],[0.8,\"#7fbc41\"],[0.9,\"#4d9221\"],[1,\"#276419\"]],\"sequential\":[[0.0,\"#0d0887\"],[0.1111111111111111,\"#46039f\"],[0.2222222222222222,\"#7201a8\"],[0.3333333333333333,\"#9c179e\"],[0.4444444444444444,\"#bd3786\"],[0.5555555555555556,\"#d8576b\"],[0.6666666666666666,\"#ed7953\"],[0.7777777777777778,\"#fb9f3a\"],[0.8888888888888888,\"#fdca26\"],[1.0,\"#f0f921\"]],\"sequentialminus\":[[0.0,\"#0d0887\"],[0.1111111111111111,\"#46039f\"],[0.2222222222222222,\"#7201a8\"],[0.3333333333333333,\"#9c179e\"],[0.4444444444444444,\"#bd3786\"],[0.5555555555555556,\"#d8576b\"],[0.6666666666666666,\"#ed7953\"],[0.7777777777777778,\"#fb9f3a\"],[0.8888888888888888,\"#fdca26\"],[1.0,\"#f0f921\"]]},\"colorway\":[\"#636efa\",\"#EF553B\",\"#00cc96\",\"#ab63fa\",\"#FFA15A\",\"#19d3f3\",\"#FF6692\",\"#B6E880\",\"#FF97FF\",\"#FECB52\"],\"font\":{\"color\":\"#2a3f5f\"},\"geo\":{\"bgcolor\":\"white\",\"lakecolor\":\"white\",\"landcolor\":\"#E5ECF6\",\"showlakes\":true,\"showland\":true,\"subunitcolor\":\"white\"},\"hoverlabel\":{\"align\":\"left\"},\"hovermode\":\"closest\",\"mapbox\":{\"style\":\"light\"},\"paper_bgcolor\":\"white\",\"plot_bgcolor\":\"#E5ECF6\",\"polar\":{\"angularaxis\":{\"gridcolor\":\"white\",\"linecolor\":\"white\",\"ticks\":\"\"},\"bgcolor\":\"#E5ECF6\",\"radialaxis\":{\"gridcolor\":\"white\",\"linecolor\":\"white\",\"ticks\":\"\"}},\"scene\":{\"xaxis\":{\"backgroundcolor\":\"#E5ECF6\",\"gridcolor\":\"white\",\"gridwidth\":2,\"linecolor\":\"white\",\"showbackground\":true,\"ticks\":\"\",\"zerolinecolor\":\"white\"},\"yaxis\":{\"backgroundcolor\":\"#E5ECF6\",\"gridcolor\":\"white\",\"gridwidth\":2,\"linecolor\":\"white\",\"showbackground\":true,\"ticks\":\"\",\"zerolinecolor\":\"white\"},\"zaxis\":{\"backgroundcolor\":\"#E5ECF6\",\"gridcolor\":\"white\",\"gridwidth\":2,\"linecolor\":\"white\",\"showbackground\":true,\"ticks\":\"\",\"zerolinecolor\":\"white\"}},\"shapedefaults\":{\"line\":{\"color\":\"#2a3f5f\"}},\"ternary\":{\"aaxis\":{\"gridcolor\":\"white\",\"linecolor\":\"white\",\"ticks\":\"\"},\"baxis\":{\"gridcolor\":\"white\",\"linecolor\":\"white\",\"ticks\":\"\"},\"bgcolor\":\"#E5ECF6\",\"caxis\":{\"gridcolor\":\"white\",\"linecolor\":\"white\",\"ticks\":\"\"}},\"title\":{\"x\":0.05},\"xaxis\":{\"automargin\":true,\"gridcolor\":\"white\",\"linecolor\":\"white\",\"ticks\":\"\",\"title\":{\"standoff\":15},\"zerolinecolor\":\"white\",\"zerolinewidth\":2},\"yaxis\":{\"automargin\":true,\"gridcolor\":\"white\",\"linecolor\":\"white\",\"ticks\":\"\",\"title\":{\"standoff\":15},\"zerolinecolor\":\"white\",\"zerolinewidth\":2}}},\"xaxis\":{\"anchor\":\"y\",\"domain\":[0.0,1.0],\"title\":{\"text\":\"Count of assigned and submitted TT (Issues)\"}},\"yaxis\":{\"anchor\":\"x\",\"domain\":[0.0,1.0],\"title\":{\"text\":\"Warehouse\"},\"categoryorder\":\"array\",\"categoryarray\":[\"SITE30\",\"SITE3\",\"SITE5\",\"SITE25\",\"SITE7\"]},\"legend\":{\"title\":{\"text\":\"Warehouse\"},\"tracegroupgap\":0},\"title\":{\"text\":\"Top 5 offenders\",\"x\":0.5},\"barmode\":\"relative\"},                        {\"responsive\": true}                    ).then(function(){\n",
       "                            \n",
       "var gd = document.getElementById('2f9aa68b-472a-4832-bbdd-667193bde3d5');\n",
       "var x = new MutationObserver(function (mutations, observer) {{\n",
       "        var display = window.getComputedStyle(gd).display;\n",
       "        if (!display || display === 'none') {{\n",
       "            console.log([gd, 'removed!']);\n",
       "            Plotly.purge(gd);\n",
       "            observer.disconnect();\n",
       "        }}\n",
       "}});\n",
       "\n",
       "// Listen for the removal of the full notebook cells\n",
       "var notebookContainer = gd.closest('#notebook-container');\n",
       "if (notebookContainer) {{\n",
       "    x.observe(notebookContainer, {childList: true});\n",
       "}}\n",
       "\n",
       "// Listen for the clearing of the current output cell\n",
       "var outputEl = gd.closest('.output');\n",
       "if (outputEl) {{\n",
       "    x.observe(outputEl, {childList: true});\n",
       "}}\n",
       "\n",
       "                        })                };                });            </script>        </div>"
      ]
     },
     "metadata": {},
     "output_type": "display_data"
    }
   ],
   "source": [
    "fig = px.bar(data_frame=top_5_offenders,\n",
    "             x='ID',\n",
    "             y='Warehouse',\n",
    "             orientation='h',\n",
    "             text='ID',\n",
    "             labels={\n",
    "                 'ID': 'Count of assigned and submitted TT (Issues)'                 \n",
    "             },\n",
    "             color='Warehouse',\n",
    "             hover_name='Warehouse',             \n",
    "             title='Top 5 offenders',\n",
    "             )\n",
    "fig.update_layout(title_x=0.5)\n",
    "fig.update_traces(marker_color='#3366CC')\n",
    "fig.show()"
   ]
  },
  {
   "cell_type": "code",
   "execution_count": 56,
   "id": "013322ae-2298-4dfe-aaec-0341d7def08b",
   "metadata": {},
   "outputs": [
    {
     "data": {
      "text/plain": [
       "1218"
      ]
     },
     "execution_count": 56,
     "metadata": {},
     "output_type": "execute_result"
    }
   ],
   "source": [
    "# out of all open TT are assigned\n",
    "\n",
    "submitted_warehouse['ID'].sum()"
   ]
  },
  {
   "cell_type": "code",
   "execution_count": 57,
   "id": "f6036c9a-604b-432d-9a20-db89a83590a7",
   "metadata": {},
   "outputs": [
    {
     "data": {
      "text/plain": [
       "944"
      ]
     },
     "execution_count": 57,
     "metadata": {},
     "output_type": "execute_result"
    }
   ],
   "source": [
    "# out of all open TT are submitted\n",
    "\n",
    "assigned_warehouse['ID'].sum()"
   ]
  },
  {
   "cell_type": "code",
   "execution_count": 58,
   "id": "02b73ba8-777e-4bf0-b584-65d945b131d1",
   "metadata": {},
   "outputs": [],
   "source": [
    "today = pd.Timestamp.today()"
   ]
  },
  {
   "cell_type": "code",
   "execution_count": 59,
   "id": "6de2462c-ae69-4096-960b-f88494f73239",
   "metadata": {
    "tags": []
   },
   "outputs": [],
   "source": [
    "# the_oldest_submitted_tt\n",
    "\n",
    "# oldest_submitted_update = incoming[incoming_site_filter]['Update'].astype('datetime64[ns]').min()\n",
    "# the_oldest_submitted_tt = today - oldest_submitted_update\n",
    "# the_oldest_submitted_tt"
   ]
  },
  {
   "cell_type": "code",
   "execution_count": 60,
   "id": "39ce451d-846b-45dc-935f-fe7bda08d9cf",
   "metadata": {},
   "outputs": [
    {
     "data": {
      "text/html": [
       "<div>\n",
       "<style scoped>\n",
       "    .dataframe tbody tr th:only-of-type {\n",
       "        vertical-align: middle;\n",
       "    }\n",
       "\n",
       "    .dataframe tbody tr th {\n",
       "        vertical-align: top;\n",
       "    }\n",
       "\n",
       "    .dataframe thead th {\n",
       "        text-align: right;\n",
       "    }\n",
       "</style>\n",
       "<table border=\"1\" class=\"dataframe\">\n",
       "  <thead>\n",
       "    <tr style=\"text-align: right;\">\n",
       "      <th></th>\n",
       "      <th>Warehouse</th>\n",
       "      <th>Category</th>\n",
       "      <th>Update</th>\n",
       "      <th>ID</th>\n",
       "    </tr>\n",
       "  </thead>\n",
       "  <tbody>\n",
       "    <tr>\n",
       "      <th>656</th>\n",
       "      <td>SITE16</td>\n",
       "      <td>Category_IN_121</td>\n",
       "      <td>2021-09-02 14:38:30 +0200</td>\n",
       "      <td>1445086.0</td>\n",
       "    </tr>\n",
       "  </tbody>\n",
       "</table>\n",
       "</div>"
      ],
      "text/plain": [
       "    Warehouse         Category                     Update         ID\n",
       "656    SITE16  Category_IN_121  2021-09-02 14:38:30 +0200  1445086.0"
      ]
     },
     "execution_count": 60,
     "metadata": {},
     "output_type": "execute_result"
    }
   ],
   "source": [
    "# the_oldest_assigned_tt_detailed\n",
    "\n",
    "the_oldest_submitted_tt_detailed = incoming[incoming_site_filter][['Warehouse', 'Category', 'Update', 'ID']].sort_values('Update', ascending=True).head(1)\n",
    "the_oldest_submitted_tt_detailed"
   ]
  },
  {
   "cell_type": "code",
   "execution_count": 61,
   "id": "dbd51ba6-7daa-439b-a3d7-6ac4539d19b2",
   "metadata": {
    "tags": []
   },
   "outputs": [],
   "source": [
    "# the_oldest_assigned_tt\n",
    "\n",
    "# oldest_assigned_update = outgoing[outgoing_site_filter]['Update'].astype('datetime64[ns]').min()\n",
    "# the_oldest_assigned_tt = today - oldest_assigned_update\n",
    "# the_oldest_assigned_tt"
   ]
  },
  {
   "cell_type": "code",
   "execution_count": 62,
   "id": "6f512dfb-cd02-45f6-b573-7ad1b54f83f2",
   "metadata": {
    "tags": []
   },
   "outputs": [
    {
     "data": {
      "text/html": [
       "<div>\n",
       "<style scoped>\n",
       "    .dataframe tbody tr th:only-of-type {\n",
       "        vertical-align: middle;\n",
       "    }\n",
       "\n",
       "    .dataframe tbody tr th {\n",
       "        vertical-align: top;\n",
       "    }\n",
       "\n",
       "    .dataframe thead th {\n",
       "        text-align: right;\n",
       "    }\n",
       "</style>\n",
       "<table border=\"1\" class=\"dataframe\">\n",
       "  <thead>\n",
       "    <tr style=\"text-align: right;\">\n",
       "      <th></th>\n",
       "      <th>Warehouse</th>\n",
       "      <th>Category</th>\n",
       "      <th>Update</th>\n",
       "      <th>ID</th>\n",
       "    </tr>\n",
       "  </thead>\n",
       "  <tbody>\n",
       "    <tr>\n",
       "      <th>1025</th>\n",
       "      <td>SITE22</td>\n",
       "      <td>Category_14</td>\n",
       "      <td>2021-09-10 19:11:02 +0200</td>\n",
       "      <td>1424483</td>\n",
       "    </tr>\n",
       "  </tbody>\n",
       "</table>\n",
       "</div>"
      ],
      "text/plain": [
       "     Warehouse     Category                     Update       ID\n",
       "1025    SITE22  Category_14  2021-09-10 19:11:02 +0200  1424483"
      ]
     },
     "execution_count": 62,
     "metadata": {},
     "output_type": "execute_result"
    }
   ],
   "source": [
    "# the_oldest_assigned_tt_detailed\n",
    "\n",
    "the_oldest_assigned_tt_detailed = outgoing[outgoing_site_filter][['Warehouse', 'Category', 'Update', 'ID']].sort_values('Update', ascending=True).head(1)\n",
    "the_oldest_assigned_tt_detailed"
   ]
  },
  {
   "cell_type": "code",
   "execution_count": 63,
   "id": "bff9f85b-1b3d-406c-86db-6c9289ec7f9b",
   "metadata": {
    "tags": []
   },
   "outputs": [
    {
     "data": {
      "text/html": [
       "<div>\n",
       "<style scoped>\n",
       "    .dataframe tbody tr th:only-of-type {\n",
       "        vertical-align: middle;\n",
       "    }\n",
       "\n",
       "    .dataframe tbody tr th {\n",
       "        vertical-align: top;\n",
       "    }\n",
       "\n",
       "    .dataframe thead th {\n",
       "        text-align: right;\n",
       "    }\n",
       "</style>\n",
       "<table border=\"1\" class=\"dataframe\">\n",
       "  <thead>\n",
       "    <tr style=\"text-align: right;\">\n",
       "      <th></th>\n",
       "      <th>Warehouse</th>\n",
       "      <th>ID</th>\n",
       "    </tr>\n",
       "  </thead>\n",
       "  <tbody>\n",
       "    <tr>\n",
       "      <th>0</th>\n",
       "      <td>SITE7</td>\n",
       "      <td>193</td>\n",
       "    </tr>\n",
       "    <tr>\n",
       "      <th>1</th>\n",
       "      <td>SITE25</td>\n",
       "      <td>188</td>\n",
       "    </tr>\n",
       "    <tr>\n",
       "      <th>2</th>\n",
       "      <td>SITE16</td>\n",
       "      <td>87</td>\n",
       "    </tr>\n",
       "    <tr>\n",
       "      <th>3</th>\n",
       "      <td>SITE17</td>\n",
       "      <td>83</td>\n",
       "    </tr>\n",
       "    <tr>\n",
       "      <th>4</th>\n",
       "      <td>SITE2</td>\n",
       "      <td>82</td>\n",
       "    </tr>\n",
       "    <tr>\n",
       "      <th>5</th>\n",
       "      <td>SITE22</td>\n",
       "      <td>65</td>\n",
       "    </tr>\n",
       "    <tr>\n",
       "      <th>6</th>\n",
       "      <td>SITE5</td>\n",
       "      <td>63</td>\n",
       "    </tr>\n",
       "    <tr>\n",
       "      <th>7</th>\n",
       "      <td>SITE19</td>\n",
       "      <td>57</td>\n",
       "    </tr>\n",
       "    <tr>\n",
       "      <th>8</th>\n",
       "      <td>SITE6</td>\n",
       "      <td>54</td>\n",
       "    </tr>\n",
       "    <tr>\n",
       "      <th>9</th>\n",
       "      <td>SITE18</td>\n",
       "      <td>54</td>\n",
       "    </tr>\n",
       "    <tr>\n",
       "      <th>10</th>\n",
       "      <td>SITE21</td>\n",
       "      <td>48</td>\n",
       "    </tr>\n",
       "    <tr>\n",
       "      <th>11</th>\n",
       "      <td>SITE24</td>\n",
       "      <td>46</td>\n",
       "    </tr>\n",
       "    <tr>\n",
       "      <th>12</th>\n",
       "      <td>SITE11</td>\n",
       "      <td>32</td>\n",
       "    </tr>\n",
       "    <tr>\n",
       "      <th>13</th>\n",
       "      <td>SITE30</td>\n",
       "      <td>27</td>\n",
       "    </tr>\n",
       "    <tr>\n",
       "      <th>14</th>\n",
       "      <td>SITE1</td>\n",
       "      <td>25</td>\n",
       "    </tr>\n",
       "    <tr>\n",
       "      <th>15</th>\n",
       "      <td>SITE3</td>\n",
       "      <td>21</td>\n",
       "    </tr>\n",
       "    <tr>\n",
       "      <th>16</th>\n",
       "      <td>SITE23</td>\n",
       "      <td>17</td>\n",
       "    </tr>\n",
       "    <tr>\n",
       "      <th>17</th>\n",
       "      <td>SITE26</td>\n",
       "      <td>14</td>\n",
       "    </tr>\n",
       "    <tr>\n",
       "      <th>18</th>\n",
       "      <td>SITE20</td>\n",
       "      <td>14</td>\n",
       "    </tr>\n",
       "    <tr>\n",
       "      <th>19</th>\n",
       "      <td>SITE9</td>\n",
       "      <td>12</td>\n",
       "    </tr>\n",
       "    <tr>\n",
       "      <th>20</th>\n",
       "      <td>SITE10</td>\n",
       "      <td>9</td>\n",
       "    </tr>\n",
       "    <tr>\n",
       "      <th>21</th>\n",
       "      <td>SITE4</td>\n",
       "      <td>6</td>\n",
       "    </tr>\n",
       "    <tr>\n",
       "      <th>22</th>\n",
       "      <td>SITE12</td>\n",
       "      <td>6</td>\n",
       "    </tr>\n",
       "    <tr>\n",
       "      <th>23</th>\n",
       "      <td>SITE14</td>\n",
       "      <td>5</td>\n",
       "    </tr>\n",
       "    <tr>\n",
       "      <th>24</th>\n",
       "      <td>SITE13</td>\n",
       "      <td>5</td>\n",
       "    </tr>\n",
       "    <tr>\n",
       "      <th>25</th>\n",
       "      <td>SITE27</td>\n",
       "      <td>4</td>\n",
       "    </tr>\n",
       "    <tr>\n",
       "      <th>26</th>\n",
       "      <td>SITE29</td>\n",
       "      <td>1</td>\n",
       "    </tr>\n",
       "  </tbody>\n",
       "</table>\n",
       "</div>"
      ],
      "text/plain": [
       "   Warehouse   ID\n",
       "0      SITE7  193\n",
       "1     SITE25  188\n",
       "2     SITE16   87\n",
       "3     SITE17   83\n",
       "4      SITE2   82\n",
       "5     SITE22   65\n",
       "6      SITE5   63\n",
       "7     SITE19   57\n",
       "8      SITE6   54\n",
       "9     SITE18   54\n",
       "10    SITE21   48\n",
       "11    SITE24   46\n",
       "12    SITE11   32\n",
       "13    SITE30   27\n",
       "14     SITE1   25\n",
       "15     SITE3   21\n",
       "16    SITE23   17\n",
       "17    SITE26   14\n",
       "18    SITE20   14\n",
       "19     SITE9   12\n",
       "20    SITE10    9\n",
       "21     SITE4    6\n",
       "22    SITE12    6\n",
       "23    SITE14    5\n",
       "24    SITE13    5\n",
       "25    SITE27    4\n",
       "26    SITE29    1"
      ]
     },
     "execution_count": 63,
     "metadata": {},
     "output_type": "execute_result"
    }
   ],
   "source": [
    "# Top 5 Nodes for Submitted Trouble Tickets: (w sumie)\n",
    "\n",
    "submitted_warehouse['ID'].head(30).reset_index()"
   ]
  },
  {
   "cell_type": "code",
   "execution_count": 64,
   "id": "4174c30b-e79f-49a9-bd92-05bcf0bdfcd3",
   "metadata": {},
   "outputs": [
    {
     "data": {
      "text/html": [
       "<div>\n",
       "<style scoped>\n",
       "    .dataframe tbody tr th:only-of-type {\n",
       "        vertical-align: middle;\n",
       "    }\n",
       "\n",
       "    .dataframe tbody tr th {\n",
       "        vertical-align: top;\n",
       "    }\n",
       "\n",
       "    .dataframe thead th {\n",
       "        text-align: right;\n",
       "    }\n",
       "</style>\n",
       "<table border=\"1\" class=\"dataframe\">\n",
       "  <thead>\n",
       "    <tr style=\"text-align: right;\">\n",
       "      <th></th>\n",
       "      <th></th>\n",
       "      <th>ID</th>\n",
       "    </tr>\n",
       "    <tr>\n",
       "      <th>Warehouse</th>\n",
       "      <th>Category</th>\n",
       "      <th></th>\n",
       "    </tr>\n",
       "  </thead>\n",
       "  <tbody>\n",
       "    <tr>\n",
       "      <th>SITE7</th>\n",
       "      <th>Category_IN_166</th>\n",
       "      <td>85</td>\n",
       "    </tr>\n",
       "    <tr>\n",
       "      <th>SITE25</th>\n",
       "      <th>Category_IN_71</th>\n",
       "      <td>46</td>\n",
       "    </tr>\n",
       "    <tr>\n",
       "      <th>SITE16</th>\n",
       "      <th>Category_IN_166</th>\n",
       "      <td>44</td>\n",
       "    </tr>\n",
       "    <tr>\n",
       "      <th>SITE17</th>\n",
       "      <th>Category_IN_115</th>\n",
       "      <td>43</td>\n",
       "    </tr>\n",
       "    <tr>\n",
       "      <th>SITE7</th>\n",
       "      <th>Category_IN_114</th>\n",
       "      <td>38</td>\n",
       "    </tr>\n",
       "    <tr>\n",
       "      <th>SITE21</th>\n",
       "      <th>Category_IN_166</th>\n",
       "      <td>32</td>\n",
       "    </tr>\n",
       "    <tr>\n",
       "      <th rowspan=\"2\" valign=\"top\">SITE2</th>\n",
       "      <th>Category_IN_166</th>\n",
       "      <td>31</td>\n",
       "    </tr>\n",
       "    <tr>\n",
       "      <th>Category_IN_111</th>\n",
       "      <td>30</td>\n",
       "    </tr>\n",
       "    <tr>\n",
       "      <th>SITE30</th>\n",
       "      <th>Category_IN_166</th>\n",
       "      <td>25</td>\n",
       "    </tr>\n",
       "    <tr>\n",
       "      <th>SITE25</th>\n",
       "      <th>Category_IN_103</th>\n",
       "      <td>24</td>\n",
       "    </tr>\n",
       "  </tbody>\n",
       "</table>\n",
       "</div>"
      ],
      "text/plain": [
       "                           ID\n",
       "Warehouse Category           \n",
       "SITE7     Category_IN_166  85\n",
       "SITE25    Category_IN_71   46\n",
       "SITE16    Category_IN_166  44\n",
       "SITE17    Category_IN_115  43\n",
       "SITE7     Category_IN_114  38\n",
       "SITE21    Category_IN_166  32\n",
       "SITE2     Category_IN_166  31\n",
       "          Category_IN_111  30\n",
       "SITE30    Category_IN_166  25\n",
       "SITE25    Category_IN_103  24"
      ]
     },
     "execution_count": 64,
     "metadata": {},
     "output_type": "execute_result"
    }
   ],
   "source": [
    "# Top 5 Nodes for Submitted Trouble Tickets: (w podziale na kategorię)\n",
    "\n",
    "pivot = pd.pivot_table(\n",
    "    incoming[incoming_site_filter],\n",
    "    index = ['Warehouse', 'Category'],\n",
    "    values = 'ID',\n",
    "    aggfunc = 'count',\n",
    ")\n",
    "pivot.sort_values('ID', ascending=False).head(10)"
   ]
  },
  {
   "cell_type": "code",
   "execution_count": 65,
   "id": "a2d4a76b-13bd-401f-9b4f-90e5fcc07c50",
   "metadata": {},
   "outputs": [
    {
     "data": {
      "text/html": [
       "<div>\n",
       "<style scoped>\n",
       "    .dataframe tbody tr th:only-of-type {\n",
       "        vertical-align: middle;\n",
       "    }\n",
       "\n",
       "    .dataframe tbody tr th {\n",
       "        vertical-align: top;\n",
       "    }\n",
       "\n",
       "    .dataframe thead th {\n",
       "        text-align: right;\n",
       "    }\n",
       "</style>\n",
       "<table border=\"1\" class=\"dataframe\">\n",
       "  <thead>\n",
       "    <tr style=\"text-align: right;\">\n",
       "      <th></th>\n",
       "      <th>Warehouse</th>\n",
       "      <th>ID</th>\n",
       "    </tr>\n",
       "  </thead>\n",
       "  <tbody>\n",
       "    <tr>\n",
       "      <th>0</th>\n",
       "      <td>SITE7</td>\n",
       "      <td>184</td>\n",
       "    </tr>\n",
       "    <tr>\n",
       "      <th>1</th>\n",
       "      <td>SITE3</td>\n",
       "      <td>145</td>\n",
       "    </tr>\n",
       "    <tr>\n",
       "      <th>2</th>\n",
       "      <td>SITE30</td>\n",
       "      <td>123</td>\n",
       "    </tr>\n",
       "    <tr>\n",
       "      <th>3</th>\n",
       "      <td>SITE5</td>\n",
       "      <td>113</td>\n",
       "    </tr>\n",
       "    <tr>\n",
       "      <th>4</th>\n",
       "      <td>SITE24</td>\n",
       "      <td>87</td>\n",
       "    </tr>\n",
       "  </tbody>\n",
       "</table>\n",
       "</div>"
      ],
      "text/plain": [
       "  Warehouse   ID\n",
       "0     SITE7  184\n",
       "1     SITE3  145\n",
       "2    SITE30  123\n",
       "3     SITE5  113\n",
       "4    SITE24   87"
      ]
     },
     "execution_count": 65,
     "metadata": {},
     "output_type": "execute_result"
    }
   ],
   "source": [
    "# Top 5 Nodes for Assigned Trouble Tickets: (w sumie)\n",
    "\n",
    "assigned_warehouse['ID'].head(5).reset_index()"
   ]
  },
  {
   "cell_type": "code",
   "execution_count": 66,
   "id": "9c09f71a-7b2a-43ea-b95d-645cc43e947a",
   "metadata": {},
   "outputs": [
    {
     "data": {
      "text/html": [
       "<div>\n",
       "<style scoped>\n",
       "    .dataframe tbody tr th:only-of-type {\n",
       "        vertical-align: middle;\n",
       "    }\n",
       "\n",
       "    .dataframe tbody tr th {\n",
       "        vertical-align: top;\n",
       "    }\n",
       "\n",
       "    .dataframe thead th {\n",
       "        text-align: right;\n",
       "    }\n",
       "</style>\n",
       "<table border=\"1\" class=\"dataframe\">\n",
       "  <thead>\n",
       "    <tr style=\"text-align: right;\">\n",
       "      <th></th>\n",
       "      <th></th>\n",
       "      <th>ID</th>\n",
       "    </tr>\n",
       "    <tr>\n",
       "      <th>Warehouse</th>\n",
       "      <th>Category</th>\n",
       "      <th></th>\n",
       "    </tr>\n",
       "  </thead>\n",
       "  <tbody>\n",
       "    <tr>\n",
       "      <th>SITE7</th>\n",
       "      <th>Category_74</th>\n",
       "      <td>133</td>\n",
       "    </tr>\n",
       "    <tr>\n",
       "      <th>SITE30</th>\n",
       "      <th>Category_63</th>\n",
       "      <td>93</td>\n",
       "    </tr>\n",
       "    <tr>\n",
       "      <th>SITE5</th>\n",
       "      <th>Category_60</th>\n",
       "      <td>63</td>\n",
       "    </tr>\n",
       "    <tr>\n",
       "      <th>SITE3</th>\n",
       "      <th>Category_21</th>\n",
       "      <td>54</td>\n",
       "    </tr>\n",
       "    <tr>\n",
       "      <th>SITE24</th>\n",
       "      <th>Category_8</th>\n",
       "      <td>50</td>\n",
       "    </tr>\n",
       "    <tr>\n",
       "      <th>SITE26</th>\n",
       "      <th>Category_49</th>\n",
       "      <td>37</td>\n",
       "    </tr>\n",
       "  </tbody>\n",
       "</table>\n",
       "</div>"
      ],
      "text/plain": [
       "                        ID\n",
       "Warehouse Category        \n",
       "SITE7     Category_74  133\n",
       "SITE30    Category_63   93\n",
       "SITE5     Category_60   63\n",
       "SITE3     Category_21   54\n",
       "SITE24    Category_8    50\n",
       "SITE26    Category_49   37"
      ]
     },
     "execution_count": 66,
     "metadata": {},
     "output_type": "execute_result"
    }
   ],
   "source": [
    "# Top 5 Nodes for Assigned Trouble Tickets: (w podziale na kategorię)\n",
    "\n",
    "pivot = pd.pivot_table(\n",
    "    outgoing[outgoing_site_filter],\n",
    "    index = ['Warehouse', 'Category'],\n",
    "    values = 'ID',\n",
    "    aggfunc = 'count',\n",
    ")\n",
    "pivot.sort_values('ID', ascending=False).head(6)"
   ]
  },
  {
   "cell_type": "code",
   "execution_count": 67,
   "id": "b0a90af9-0f6e-4097-84ca-49fa862d05de",
   "metadata": {},
   "outputs": [
    {
     "data": {
      "text/html": [
       "<div>\n",
       "<style scoped>\n",
       "    .dataframe tbody tr th:only-of-type {\n",
       "        vertical-align: middle;\n",
       "    }\n",
       "\n",
       "    .dataframe tbody tr th {\n",
       "        vertical-align: top;\n",
       "    }\n",
       "\n",
       "    .dataframe thead th {\n",
       "        text-align: right;\n",
       "    }\n",
       "</style>\n",
       "<table border=\"1\" class=\"dataframe\">\n",
       "  <thead>\n",
       "    <tr style=\"text-align: right;\">\n",
       "      <th></th>\n",
       "      <th>ID</th>\n",
       "    </tr>\n",
       "    <tr>\n",
       "      <th>Category</th>\n",
       "      <th></th>\n",
       "    </tr>\n",
       "  </thead>\n",
       "  <tbody>\n",
       "    <tr>\n",
       "      <th>Category_IN_166</th>\n",
       "      <td>278</td>\n",
       "    </tr>\n",
       "    <tr>\n",
       "      <th>Category_IN_114</th>\n",
       "      <td>88</td>\n",
       "    </tr>\n",
       "    <tr>\n",
       "      <th>Category_IN_115</th>\n",
       "      <td>48</td>\n",
       "    </tr>\n",
       "    <tr>\n",
       "      <th>Category_IN_71</th>\n",
       "      <td>46</td>\n",
       "    </tr>\n",
       "    <tr>\n",
       "      <th>Category_IN_111</th>\n",
       "      <td>44</td>\n",
       "    </tr>\n",
       "  </tbody>\n",
       "</table>\n",
       "</div>"
      ],
      "text/plain": [
       "                  ID\n",
       "Category            \n",
       "Category_IN_166  278\n",
       "Category_IN_114   88\n",
       "Category_IN_115   48\n",
       "Category_IN_71    46\n",
       "Category_IN_111   44"
      ]
     },
     "execution_count": 67,
     "metadata": {},
     "output_type": "execute_result"
    }
   ],
   "source": [
    "# The INCOMING (Submitted) main process drivers\n",
    "\n",
    "incoming_category = incoming[incoming_site_filter].groupby('Category').count()\n",
    "incoming_category[['ID']].sort_values('ID', ascending=False).head(5)"
   ]
  },
  {
   "cell_type": "code",
   "execution_count": 68,
   "id": "c08a63b0-f140-43cd-a7c6-d97beaaea41f",
   "metadata": {},
   "outputs": [
    {
     "data": {
      "text/html": [
       "<div>\n",
       "<style scoped>\n",
       "    .dataframe tbody tr th:only-of-type {\n",
       "        vertical-align: middle;\n",
       "    }\n",
       "\n",
       "    .dataframe tbody tr th {\n",
       "        vertical-align: top;\n",
       "    }\n",
       "\n",
       "    .dataframe thead th {\n",
       "        text-align: right;\n",
       "    }\n",
       "</style>\n",
       "<table border=\"1\" class=\"dataframe\">\n",
       "  <thead>\n",
       "    <tr style=\"text-align: right;\">\n",
       "      <th></th>\n",
       "      <th>ID</th>\n",
       "    </tr>\n",
       "    <tr>\n",
       "      <th>Category</th>\n",
       "      <th></th>\n",
       "    </tr>\n",
       "  </thead>\n",
       "  <tbody>\n",
       "    <tr>\n",
       "      <th>Category_74</th>\n",
       "      <td>134</td>\n",
       "    </tr>\n",
       "    <tr>\n",
       "      <th>Category_8</th>\n",
       "      <td>105</td>\n",
       "    </tr>\n",
       "    <tr>\n",
       "      <th>Category_63</th>\n",
       "      <td>93</td>\n",
       "    </tr>\n",
       "    <tr>\n",
       "      <th>Category_60</th>\n",
       "      <td>63</td>\n",
       "    </tr>\n",
       "    <tr>\n",
       "      <th>Category_21</th>\n",
       "      <td>54</td>\n",
       "    </tr>\n",
       "  </tbody>\n",
       "</table>\n",
       "</div>"
      ],
      "text/plain": [
       "              ID\n",
       "Category        \n",
       "Category_74  134\n",
       "Category_8   105\n",
       "Category_63   93\n",
       "Category_60   63\n",
       "Category_21   54"
      ]
     },
     "execution_count": 68,
     "metadata": {},
     "output_type": "execute_result"
    }
   ],
   "source": [
    "# The OUTGOING (Assigned) main process drivers\n",
    "\n",
    "outgoing_category = outgoing[outgoing_site_filter].groupby('Category').count()\n",
    "outgoing_category[['ID']].sort_values('ID', ascending=False).head(5)"
   ]
  },
  {
   "cell_type": "code",
   "execution_count": 69,
   "id": "a24ba66f-bb15-45c4-b59d-5c5abf72fbe1",
   "metadata": {},
   "outputs": [
    {
     "data": {
      "text/html": [
       "<div>\n",
       "<style scoped>\n",
       "    .dataframe tbody tr th:only-of-type {\n",
       "        vertical-align: middle;\n",
       "    }\n",
       "\n",
       "    .dataframe tbody tr th {\n",
       "        vertical-align: top;\n",
       "    }\n",
       "\n",
       "    .dataframe thead th {\n",
       "        text-align: right;\n",
       "    }\n",
       "</style>\n",
       "<table border=\"1\" class=\"dataframe\">\n",
       "  <thead>\n",
       "    <tr style=\"text-align: right;\">\n",
       "      <th></th>\n",
       "      <th>ID</th>\n",
       "    </tr>\n",
       "    <tr>\n",
       "      <th>Category</th>\n",
       "      <th></th>\n",
       "    </tr>\n",
       "  </thead>\n",
       "  <tbody>\n",
       "    <tr>\n",
       "      <th>Category_IN_166</th>\n",
       "      <td>278</td>\n",
       "    </tr>\n",
       "    <tr>\n",
       "      <th>Category_74</th>\n",
       "      <td>134</td>\n",
       "    </tr>\n",
       "    <tr>\n",
       "      <th>Category_8</th>\n",
       "      <td>105</td>\n",
       "    </tr>\n",
       "    <tr>\n",
       "      <th>Category_63</th>\n",
       "      <td>93</td>\n",
       "    </tr>\n",
       "    <tr>\n",
       "      <th>Category_IN_114</th>\n",
       "      <td>88</td>\n",
       "    </tr>\n",
       "  </tbody>\n",
       "</table>\n",
       "</div>"
      ],
      "text/plain": [
       "                  ID\n",
       "Category            \n",
       "Category_IN_166  278\n",
       "Category_74      134\n",
       "Category_8       105\n",
       "Category_63       93\n",
       "Category_IN_114   88"
      ]
     },
     "execution_count": 69,
     "metadata": {},
     "output_type": "execute_result"
    }
   ],
   "source": [
    "# The main process drivers are as followed:\n",
    "main_procesess_drivers = whole_scope[whole_scope_filter].groupby('Category').count()\n",
    "main_procesess_drivers[['ID']].sort_values('ID', ascending=False).head(5)"
   ]
  },
  {
   "cell_type": "code",
   "execution_count": 70,
   "id": "51777e80-b779-411f-b8b7-879956b47280",
   "metadata": {
    "tags": []
   },
   "outputs": [
    {
     "data": {
      "text/html": [
       "<div>\n",
       "<style scoped>\n",
       "    .dataframe tbody tr th:only-of-type {\n",
       "        vertical-align: middle;\n",
       "    }\n",
       "\n",
       "    .dataframe tbody tr th {\n",
       "        vertical-align: top;\n",
       "    }\n",
       "\n",
       "    .dataframe thead th {\n",
       "        text-align: right;\n",
       "    }\n",
       "</style>\n",
       "<table border=\"1\" class=\"dataframe\">\n",
       "  <thead>\n",
       "    <tr style=\"text-align: right;\">\n",
       "      <th></th>\n",
       "      <th></th>\n",
       "      <th></th>\n",
       "      <th>ID</th>\n",
       "    </tr>\n",
       "    <tr>\n",
       "      <th>Manager</th>\n",
       "      <th>Country</th>\n",
       "      <th>Warehouse</th>\n",
       "      <th></th>\n",
       "    </tr>\n",
       "  </thead>\n",
       "  <tbody>\n",
       "    <tr>\n",
       "      <th rowspan=\"2\" valign=\"top\">Tomasz</th>\n",
       "      <th>DE</th>\n",
       "      <th>SITE29</th>\n",
       "      <td>1</td>\n",
       "    </tr>\n",
       "    <tr>\n",
       "      <th>PL</th>\n",
       "      <th>SITE30</th>\n",
       "      <td>27</td>\n",
       "    </tr>\n",
       "    <tr>\n",
       "      <th rowspan=\"12\" valign=\"top\">Katarzyna</th>\n",
       "      <th>DE</th>\n",
       "      <th>SITE16</th>\n",
       "      <td>87</td>\n",
       "    </tr>\n",
       "    <tr>\n",
       "      <th rowspan=\"2\" valign=\"top\">ES</th>\n",
       "      <th>SITE19</th>\n",
       "      <td>57</td>\n",
       "    </tr>\n",
       "    <tr>\n",
       "      <th>SITE20</th>\n",
       "      <td>14</td>\n",
       "    </tr>\n",
       "    <tr>\n",
       "      <th rowspan=\"7\" valign=\"top\">FR</th>\n",
       "      <th>SITE21</th>\n",
       "      <td>48</td>\n",
       "    </tr>\n",
       "    <tr>\n",
       "      <th>SITE22</th>\n",
       "      <td>65</td>\n",
       "    </tr>\n",
       "    <tr>\n",
       "      <th>SITE23</th>\n",
       "      <td>17</td>\n",
       "    </tr>\n",
       "    <tr>\n",
       "      <th>SITE24</th>\n",
       "      <td>46</td>\n",
       "    </tr>\n",
       "    <tr>\n",
       "      <th>SITE25</th>\n",
       "      <td>188</td>\n",
       "    </tr>\n",
       "    <tr>\n",
       "      <th>SITE26</th>\n",
       "      <td>14</td>\n",
       "    </tr>\n",
       "    <tr>\n",
       "      <th>SITE27</th>\n",
       "      <td>4</td>\n",
       "    </tr>\n",
       "    <tr>\n",
       "      <th>IT</th>\n",
       "      <th>SITE18</th>\n",
       "      <td>54</td>\n",
       "    </tr>\n",
       "    <tr>\n",
       "      <th>PL</th>\n",
       "      <th>SITE17</th>\n",
       "      <td>83</td>\n",
       "    </tr>\n",
       "    <tr>\n",
       "      <th rowspan=\"13\" valign=\"top\">Beata</th>\n",
       "      <th rowspan=\"4\" valign=\"top\">DE</th>\n",
       "      <th>SITE1</th>\n",
       "      <td>25</td>\n",
       "    </tr>\n",
       "    <tr>\n",
       "      <th>SITE2</th>\n",
       "      <td>82</td>\n",
       "    </tr>\n",
       "    <tr>\n",
       "      <th>SITE3</th>\n",
       "      <td>21</td>\n",
       "    </tr>\n",
       "    <tr>\n",
       "      <th>SITE4</th>\n",
       "      <td>6</td>\n",
       "    </tr>\n",
       "    <tr>\n",
       "      <th rowspan=\"3\" valign=\"top\">IT</th>\n",
       "      <th>SITE10</th>\n",
       "      <td>9</td>\n",
       "    </tr>\n",
       "    <tr>\n",
       "      <th>SITE11</th>\n",
       "      <td>32</td>\n",
       "    </tr>\n",
       "    <tr>\n",
       "      <th>SITE9</th>\n",
       "      <td>12</td>\n",
       "    </tr>\n",
       "    <tr>\n",
       "      <th rowspan=\"3\" valign=\"top\">PL</th>\n",
       "      <th>SITE5</th>\n",
       "      <td>63</td>\n",
       "    </tr>\n",
       "    <tr>\n",
       "      <th>SITE6</th>\n",
       "      <td>54</td>\n",
       "    </tr>\n",
       "    <tr>\n",
       "      <th>SITE7</th>\n",
       "      <td>193</td>\n",
       "    </tr>\n",
       "    <tr>\n",
       "      <th rowspan=\"3\" valign=\"top\">UK</th>\n",
       "      <th>SITE12</th>\n",
       "      <td>6</td>\n",
       "    </tr>\n",
       "    <tr>\n",
       "      <th>SITE13</th>\n",
       "      <td>5</td>\n",
       "    </tr>\n",
       "    <tr>\n",
       "      <th>SITE14</th>\n",
       "      <td>5</td>\n",
       "    </tr>\n",
       "  </tbody>\n",
       "</table>\n",
       "</div>"
      ],
      "text/plain": [
       "                              ID\n",
       "Manager   Country Warehouse     \n",
       "Tomasz    DE      SITE29       1\n",
       "          PL      SITE30      27\n",
       "Katarzyna DE      SITE16      87\n",
       "          ES      SITE19      57\n",
       "                  SITE20      14\n",
       "          FR      SITE21      48\n",
       "                  SITE22      65\n",
       "                  SITE23      17\n",
       "                  SITE24      46\n",
       "                  SITE25     188\n",
       "                  SITE26      14\n",
       "                  SITE27       4\n",
       "          IT      SITE18      54\n",
       "          PL      SITE17      83\n",
       "Beata     DE      SITE1       25\n",
       "                  SITE2       82\n",
       "                  SITE3       21\n",
       "                  SITE4        6\n",
       "          IT      SITE10       9\n",
       "                  SITE11      32\n",
       "                  SITE9       12\n",
       "          PL      SITE5       63\n",
       "                  SITE6       54\n",
       "                  SITE7      193\n",
       "          UK      SITE12       6\n",
       "                  SITE13       5\n",
       "                  SITE14       5"
      ]
     },
     "execution_count": 70,
     "metadata": {},
     "output_type": "execute_result"
    }
   ],
   "source": [
    "# Końcowa Tabela (Submitted)\n",
    "\n",
    "pivot = pd.pivot_table(\n",
    "    incoming[incoming_site_filter],\n",
    "    index = ['Manager', 'Country', 'Warehouse'],\n",
    "    values = 'ID',\n",
    "    aggfunc = 'count',\n",
    ")\n",
    "pivot.sort_values(['Manager', 'Country'], ascending=[False, True])"
   ]
  },
  {
   "cell_type": "code",
   "execution_count": 71,
   "id": "1d83b425-dd9e-4340-a21c-5c757bc4488e",
   "metadata": {},
   "outputs": [
    {
     "data": {
      "text/html": [
       "<div>\n",
       "<style scoped>\n",
       "    .dataframe tbody tr th:only-of-type {\n",
       "        vertical-align: middle;\n",
       "    }\n",
       "\n",
       "    .dataframe tbody tr th {\n",
       "        vertical-align: top;\n",
       "    }\n",
       "\n",
       "    .dataframe thead th {\n",
       "        text-align: right;\n",
       "    }\n",
       "</style>\n",
       "<table border=\"1\" class=\"dataframe\">\n",
       "  <thead>\n",
       "    <tr style=\"text-align: right;\">\n",
       "      <th></th>\n",
       "      <th></th>\n",
       "      <th></th>\n",
       "      <th>ID</th>\n",
       "    </tr>\n",
       "    <tr>\n",
       "      <th>Manager</th>\n",
       "      <th>Country</th>\n",
       "      <th>Warehouse</th>\n",
       "      <th></th>\n",
       "    </tr>\n",
       "  </thead>\n",
       "  <tbody>\n",
       "    <tr>\n",
       "      <th>Tomasz</th>\n",
       "      <th>PL</th>\n",
       "      <th>SITE30</th>\n",
       "      <td>123</td>\n",
       "    </tr>\n",
       "    <tr>\n",
       "      <th rowspan=\"11\" valign=\"top\">Katarzyna</th>\n",
       "      <th>PL</th>\n",
       "      <th>SITE17</th>\n",
       "      <td>11</td>\n",
       "    </tr>\n",
       "    <tr>\n",
       "      <th>IT</th>\n",
       "      <th>SITE18</th>\n",
       "      <td>4</td>\n",
       "    </tr>\n",
       "    <tr>\n",
       "      <th rowspan=\"6\" valign=\"top\">FR</th>\n",
       "      <th>SITE27</th>\n",
       "      <td>4</td>\n",
       "    </tr>\n",
       "    <tr>\n",
       "      <th>SITE26</th>\n",
       "      <td>37</td>\n",
       "    </tr>\n",
       "    <tr>\n",
       "      <th>SITE25</th>\n",
       "      <td>1</td>\n",
       "    </tr>\n",
       "    <tr>\n",
       "      <th>SITE24</th>\n",
       "      <td>87</td>\n",
       "    </tr>\n",
       "    <tr>\n",
       "      <th>SITE22</th>\n",
       "      <td>8</td>\n",
       "    </tr>\n",
       "    <tr>\n",
       "      <th>SITE21</th>\n",
       "      <td>65</td>\n",
       "    </tr>\n",
       "    <tr>\n",
       "      <th rowspan=\"2\" valign=\"top\">ES</th>\n",
       "      <th>SITE20</th>\n",
       "      <td>3</td>\n",
       "    </tr>\n",
       "    <tr>\n",
       "      <th>SITE19</th>\n",
       "      <td>7</td>\n",
       "    </tr>\n",
       "    <tr>\n",
       "      <th>DE</th>\n",
       "      <th>SITE16</th>\n",
       "      <td>3</td>\n",
       "    </tr>\n",
       "    <tr>\n",
       "      <th rowspan=\"15\" valign=\"top\">Beata</th>\n",
       "      <th>UK</th>\n",
       "      <th>SITE15</th>\n",
       "      <td>12</td>\n",
       "    </tr>\n",
       "    <tr>\n",
       "      <th rowspan=\"2\" valign=\"top\">DE</th>\n",
       "      <th>SITE1</th>\n",
       "      <td>4</td>\n",
       "    </tr>\n",
       "    <tr>\n",
       "      <th>SITE2</th>\n",
       "      <td>27</td>\n",
       "    </tr>\n",
       "    <tr>\n",
       "      <th rowspan=\"2\" valign=\"top\">UK</th>\n",
       "      <th>SITE13</th>\n",
       "      <td>20</td>\n",
       "    </tr>\n",
       "    <tr>\n",
       "      <th>SITE12</th>\n",
       "      <td>1</td>\n",
       "    </tr>\n",
       "    <tr>\n",
       "      <th rowspan=\"3\" valign=\"top\">PL</th>\n",
       "      <th>SITE7</th>\n",
       "      <td>184</td>\n",
       "    </tr>\n",
       "    <tr>\n",
       "      <th>SITE6</th>\n",
       "      <td>26</td>\n",
       "    </tr>\n",
       "    <tr>\n",
       "      <th>SITE5</th>\n",
       "      <td>113</td>\n",
       "    </tr>\n",
       "    <tr>\n",
       "      <th rowspan=\"4\" valign=\"top\">IT</th>\n",
       "      <th>SITE9</th>\n",
       "      <td>2</td>\n",
       "    </tr>\n",
       "    <tr>\n",
       "      <th>SITE8</th>\n",
       "      <td>1</td>\n",
       "    </tr>\n",
       "    <tr>\n",
       "      <th>SITE11</th>\n",
       "      <td>3</td>\n",
       "    </tr>\n",
       "    <tr>\n",
       "      <th>SITE10</th>\n",
       "      <td>1</td>\n",
       "    </tr>\n",
       "    <tr>\n",
       "      <th rowspan=\"2\" valign=\"top\">DE</th>\n",
       "      <th>SITE4</th>\n",
       "      <td>36</td>\n",
       "    </tr>\n",
       "    <tr>\n",
       "      <th>SITE3</th>\n",
       "      <td>145</td>\n",
       "    </tr>\n",
       "    <tr>\n",
       "      <th>UK</th>\n",
       "      <th>SITE14</th>\n",
       "      <td>16</td>\n",
       "    </tr>\n",
       "  </tbody>\n",
       "</table>\n",
       "</div>"
      ],
      "text/plain": [
       "                              ID\n",
       "Manager   Country Warehouse     \n",
       "Tomasz    PL      SITE30     123\n",
       "Katarzyna PL      SITE17      11\n",
       "          IT      SITE18       4\n",
       "          FR      SITE27       4\n",
       "                  SITE26      37\n",
       "                  SITE25       1\n",
       "                  SITE24      87\n",
       "                  SITE22       8\n",
       "                  SITE21      65\n",
       "          ES      SITE20       3\n",
       "                  SITE19       7\n",
       "          DE      SITE16       3\n",
       "Beata     UK      SITE15      12\n",
       "          DE      SITE1        4\n",
       "                  SITE2       27\n",
       "          UK      SITE13      20\n",
       "                  SITE12       1\n",
       "          PL      SITE7      184\n",
       "                  SITE6       26\n",
       "                  SITE5      113\n",
       "          IT      SITE9        2\n",
       "                  SITE8        1\n",
       "                  SITE11       3\n",
       "                  SITE10       1\n",
       "          DE      SITE4       36\n",
       "                  SITE3      145\n",
       "          UK      SITE14      16"
      ]
     },
     "execution_count": 71,
     "metadata": {},
     "output_type": "execute_result"
    }
   ],
   "source": [
    "# Końcowa Tabela (Assigned)\n",
    "\n",
    "\n",
    "pivot = pd.pivot_table(\n",
    "    outgoing[outgoing_site_filter],\n",
    "    index = ['Manager', 'Country', 'Warehouse'],\n",
    "    values = 'ID',\n",
    "    aggfunc = 'count',\n",
    ")\n",
    "pivot.sort_values('Manager', ascending=False)"
   ]
  },
  {
   "cell_type": "code",
   "execution_count": 72,
   "id": "3bb1f1db-a1fc-43e5-89aa-3492a63bdfd4",
   "metadata": {},
   "outputs": [
    {
     "name": "stdout",
     "output_type": "stream",
     "text": [
      "    Warehouse                     Create                     Update         ID\n",
      "525     SITE1  2022-11-04 12:03:31 +0100  2022-11-24 10:18:41 +0100  1943670.0\n",
      "    Warehouse                     Create                     Update         ID\n",
      "547     SITE2  2022-10-18 13:58:36 +0200  2022-11-22 08:45:01 +0100  1922688.0\n",
      "    Warehouse                     Create                     Update         ID\n",
      "654     SITE3  2021-09-16 10:30:15 +0200  2022-04-06 15:45:37 +0200  1459861.0\n",
      "    Warehouse                     Create                     Update         ID\n",
      "621     SITE4  2022-09-13 13:37:56 +0200  2022-09-13 13:51:49 +0200  1880325.0\n",
      "    Warehouse                     Create                     Update         ID\n",
      "653     SITE5  2022-04-11 07:29:14 +0200  2022-04-15 13:09:07 +0200  1698483.0\n",
      "    Warehouse                     Create                     Update         ID\n",
      "397     SITE6  2022-10-18 19:38:06 +0200  2022-11-30 01:08:09 +0100  1922962.0\n",
      "    Warehouse                     Create                     Update         ID\n",
      "584     SITE7  2022-09-21 14:36:14 +0200  2022-11-16 11:40:10 +0100  1889806.0\n",
      "Empty DataFrame\n",
      "Columns: [Warehouse, Create, Update, ID]\n",
      "Index: []\n",
      "     Warehouse                     Create                     Update  \\\n",
      "1230     SITE9  2022-11-18 09:21:33 +0100  2022-12-01 13:26:38 +0100   \n",
      "\n",
      "             ID  \n",
      "1230  1960236.0  \n",
      "     Warehouse                     Create                     Update  \\\n",
      "1231    SITE10  2022-11-17 17:31:22 +0100  2022-12-01 13:08:32 +0100   \n",
      "\n",
      "             ID  \n",
      "1231  1959446.0  \n",
      "     Warehouse                     Create                     Update  \\\n",
      "1318    SITE11  2022-08-24 18:50:46 +0200  2022-08-24 18:50:46 +0200   \n",
      "\n",
      "             ID  \n",
      "1318  1858305.0  \n",
      "     Warehouse                     Create                     Update  \\\n",
      "1428    SITE12  2022-08-04 12:50:10 +0200  2022-08-04 12:50:10 +0200   \n",
      "\n",
      "             ID  \n",
      "1428  1834966.0  \n",
      "     Warehouse                     Create                     Update  \\\n",
      "1391    SITE13  2022-10-03 09:45:18 +0200  2022-12-01 11:38:53 +0100   \n",
      "\n",
      "             ID  \n",
      "1391  1903832.0  \n",
      "     Warehouse                     Create                     Update  \\\n",
      "1434    SITE14  2022-05-05 22:35:53 +0200  2022-05-09 14:03:19 +0200   \n",
      "\n",
      "             ID  \n",
      "1434  1726418.0  \n",
      "Empty DataFrame\n",
      "Columns: [Warehouse, Create, Update, ID]\n",
      "Index: []\n",
      "    Warehouse                     Create                     Update         ID\n",
      "656    SITE16  2021-09-02 14:38:30 +0200  2021-09-02 14:38:30 +0200  1445086.0\n",
      "    Warehouse                     Create                     Update         ID\n",
      "538    SITE17  2022-10-19 09:52:43 +0200  2022-11-22 15:12:18 +0100  1923663.0\n",
      "     Warehouse                     Create                     Update  \\\n",
      "1283    SITE18  2022-10-06 12:28:15 +0200  2022-11-28 10:50:58 +0100   \n",
      "\n",
      "             ID  \n",
      "1283  1908361.0  \n",
      "    Warehouse                     Create                     Update         ID\n",
      "708    SITE19  2022-10-31 09:50:50 +0100  2022-11-30 15:37:49 +0100  1937888.0\n",
      "    Warehouse                     Create                     Update         ID\n",
      "760    SITE20  2022-11-04 18:00:15 +0100  2022-11-23 10:09:30 +0100  1943920.0\n",
      "     Warehouse                     Create                     Update  \\\n",
      "1192    SITE21  2022-10-01 09:41:45 +0200  2022-10-01 09:41:45 +0200   \n",
      "\n",
      "             ID  \n",
      "1192  1902102.0  \n",
      "     Warehouse                     Create                     Update  \\\n",
      "1179    SITE22  2022-06-20 17:02:25 +0200  2022-11-04 09:09:04 +0100   \n",
      "\n",
      "             ID  \n",
      "1179  1781033.0  \n",
      "     Warehouse                     Create                     Update  \\\n",
      "1148    SITE23  2020-07-03 11:13:58 +0200  2022-11-17 05:58:48 +0100   \n",
      "\n",
      "             ID  \n",
      "1148  1040563.0  \n",
      "     Warehouse                     Create                     Update  \\\n",
      "1202    SITE24  2022-06-24 12:03:46 +0200  2022-06-24 12:03:46 +0200   \n",
      "\n",
      "             ID  \n",
      "1202  1786749.0  \n",
      "     Warehouse                     Create                     Update  \\\n",
      "1207    SITE25  2021-11-03 15:12:03 +0100  2021-11-03 15:12:03 +0100   \n",
      "\n",
      "             ID  \n",
      "1207  1515763.0  \n",
      "     Warehouse                     Create                     Update  \\\n",
      "1048    SITE26  2022-10-26 10:04:12 +0200  2022-11-23 17:16:48 +0100   \n",
      "\n",
      "             ID  \n",
      "1048  1932257.0  \n",
      "    Warehouse                     Create                     Update         ID\n",
      "857    SITE27  2022-09-27 09:14:27 +0200  2022-12-01 04:05:31 +0100  1896344.0\n",
      "Empty DataFrame\n",
      "Columns: [Warehouse, Create, Update, ID]\n",
      "Index: []\n",
      "    Warehouse                     Create                     Update         ID\n",
      "172    SITE29  2022-12-01 09:57:50 +0100  2022-12-01 10:38:46 +0100  1977409.0\n",
      "    Warehouse                     Create                     Update         ID\n",
      "617    SITE30  2022-10-13 19:42:27 +0200  2022-10-13 19:42:27 +0200  1917307.0\n",
      "Empty DataFrame\n",
      "Columns: [Warehouse, Create, Update, ID]\n",
      "Index: []\n",
      "Empty DataFrame\n",
      "Columns: [Warehouse, Create, Update, ID]\n",
      "Index: []\n",
      "Empty DataFrame\n",
      "Columns: [Warehouse, Create, Update, ID]\n",
      "Index: []\n",
      "Empty DataFrame\n",
      "Columns: [Warehouse, Create, Update, ID]\n",
      "Index: []\n",
      "Empty DataFrame\n",
      "Columns: [Warehouse, Create, Update, ID]\n",
      "Index: []\n",
      "Empty DataFrame\n",
      "Columns: [Warehouse, Create, Update, ID]\n",
      "Index: []\n",
      "    Warehouse                     Create                     Update         ID\n",
      "397     SITE6  2022-10-18 19:38:06 +0200  2022-11-30 01:08:09 +0100  1922962.0\n"
     ]
    }
   ],
   "source": [
    "# OLDEST Submitted\n",
    "the_oldest_submitted_tt_loop = incoming[incoming_site_filter][['Warehouse', 'Create', 'Update', 'ID',]].sort_values(['Create', 'Update'], ascending=[True, False])\n",
    "\n",
    "for i in warehouse:\n",
    "        loop = the_oldest_submitted_tt_loop.query(f'Warehouse == \"{i}\"').head(1)\n",
    "        print(loop)"
   ]
  },
  {
   "cell_type": "code",
   "execution_count": 73,
   "id": "28f79c4b-56d1-43bb-9695-2f19067083b1",
   "metadata": {},
   "outputs": [
    {
     "name": "stdout",
     "output_type": "stream",
     "text": [
      "   Warehouse                     Create                     Update       ID\n",
      "16     SITE1  2022-12-01 12:25:59 +0100  2022-12-01 13:43:52 +0100  1977582\n",
      "    Warehouse                     Create                     Update       ID\n",
      "523     SITE2  2022-10-22 11:02:10 +0200  2022-10-27 22:02:01 +0200  1927749\n",
      "     Warehouse                     Create                     Update       ID\n",
      "1059     SITE3  2022-03-21 19:13:21 +0100  2022-03-21 19:34:25 +0100  1673504\n",
      "     Warehouse                     Create                     Update       ID\n",
      "1011     SITE4  2022-05-10 07:26:53 +0200  2022-05-10 16:14:28 +0200  1730691\n",
      "    Warehouse                     Create                     Update       ID\n",
      "314     SITE5  2022-06-13 16:08:40 +0200  2022-11-20 16:20:50 +0100  1771610\n",
      "    Warehouse                     Create                     Update       ID\n",
      "751     SITE6  2022-06-20 17:10:37 +0200  2022-06-30 16:58:17 +0200  1781040\n",
      "    Warehouse                     Create                     Update       ID\n",
      "575     SITE7  2022-06-09 16:48:44 +0200  2022-10-17 18:06:24 +0200  1766317\n",
      "     Warehouse                     Create                     Update       ID\n",
      "1043     SITE8  2022-12-01 18:06:33 +0100  2022-12-01 18:06:33 +0100  1977822\n",
      "     Warehouse                     Create                     Update       ID\n",
      "1044     SITE9  2022-11-28 15:31:04 +0100  2022-12-01 16:42:55 +0100  1973132\n",
      "     Warehouse                     Create                     Update       ID\n",
      "1048    SITE10  2022-11-30 18:09:33 +0100  2022-11-30 18:09:33 +0100  1976557\n",
      "     Warehouse                     Create                     Update       ID\n",
      "1051    SITE11  2022-10-09 21:11:41 +0200  2022-11-09 08:54:58 +0100  1911795\n",
      "     Warehouse                     Create                     Update       ID\n",
      "1126    SITE12  2022-11-09 08:14:55 +0100  2022-11-26 10:30:29 +0100  1948789\n",
      "     Warehouse                     Create                     Update       ID\n",
      "1108    SITE13  2022-09-12 08:10:35 +0200  2022-11-29 16:15:22 +0100  1878614\n",
      "     Warehouse                     Create                     Update       ID\n",
      "1134    SITE14  2022-10-02 17:12:26 +0200  2022-11-23 11:43:37 +0100  1903065\n",
      "     Warehouse                     Create                     Update       ID\n",
      "1123    SITE15  2022-09-24 07:32:06 +0200  2022-11-28 03:16:29 +0100  1892877\n",
      "   Warehouse                     Create                     Update       ID\n",
      "10    SITE16  2022-11-29 14:09:20 +0100  2022-12-01 15:10:19 +0100  1974797\n",
      "   Warehouse                     Create                     Update       ID\n",
      "20    SITE17  2022-11-14 07:28:27 +0100  2022-12-01 11:05:24 +0100  1953994\n",
      "     Warehouse                     Create                     Update       ID\n",
      "1050    SITE18  2022-11-17 09:52:03 +0100  2022-11-17 09:52:03 +0100  1958890\n",
      "    Warehouse                     Create                     Update       ID\n",
      "785    SITE19  2022-11-24 10:52:41 +0100  2022-11-30 15:35:53 +0100  1967829\n",
      "    Warehouse                     Create                     Update       ID\n",
      "782    SITE20  2022-12-01 08:11:07 +0100  2022-12-01 08:11:07 +0100  1977197\n",
      "    Warehouse                     Create                     Update       ID\n",
      "944    SITE21  2022-09-27 06:50:30 +0200  2022-09-29 23:10:54 +0200  1896107\n",
      "     Warehouse                     Create                     Update       ID\n",
      "1025    SITE22  2021-08-11 12:44:55 +0200  2021-09-10 19:11:02 +0200  1424483\n",
      "Empty DataFrame\n",
      "Columns: [Warehouse, Create, Update, ID]\n",
      "Index: []\n",
      "    Warehouse                     Create                     Update       ID\n",
      "990    SITE24  2022-04-18 11:26:57 +0200  2022-06-24 12:38:43 +0200  1707446\n",
      "    Warehouse                     Create                     Update       ID\n",
      "829    SITE25  2022-11-25 14:20:34 +0100  2022-11-25 14:20:34 +0100  1969699\n",
      "    Warehouse                     Create                     Update       ID\n",
      "834    SITE26  2022-10-10 14:55:11 +0200  2022-11-24 14:26:37 +0100  1912729\n",
      "    Warehouse                     Create                     Update       ID\n",
      "842    SITE27  2022-06-30 02:14:42 +0200  2022-11-24 09:25:41 +0100  1793743\n",
      "Empty DataFrame\n",
      "Columns: [Warehouse, Create, Update, ID]\n",
      "Index: []\n",
      "Empty DataFrame\n",
      "Columns: [Warehouse, Create, Update, ID]\n",
      "Index: []\n",
      "    Warehouse                     Create                     Update       ID\n",
      "597    SITE30  2021-12-15 16:16:36 +0100  2022-10-03 16:54:24 +0200  1567681\n",
      "Empty DataFrame\n",
      "Columns: [Warehouse, Create, Update, ID]\n",
      "Index: []\n",
      "Empty DataFrame\n",
      "Columns: [Warehouse, Create, Update, ID]\n",
      "Index: []\n",
      "Empty DataFrame\n",
      "Columns: [Warehouse, Create, Update, ID]\n",
      "Index: []\n",
      "Empty DataFrame\n",
      "Columns: [Warehouse, Create, Update, ID]\n",
      "Index: []\n",
      "Empty DataFrame\n",
      "Columns: [Warehouse, Create, Update, ID]\n",
      "Index: []\n",
      "Empty DataFrame\n",
      "Columns: [Warehouse, Create, Update, ID]\n",
      "Index: []\n",
      "    Warehouse                     Create                     Update       ID\n",
      "751     SITE6  2022-06-20 17:10:37 +0200  2022-06-30 16:58:17 +0200  1781040\n"
     ]
    }
   ],
   "source": [
    "# OLDEST Assigned\n",
    "\n",
    "\n",
    "the_oldest_assigned_tt_loop = outgoing[outgoing_site_filter][['Warehouse', 'Create', 'Update', 'ID',]].sort_values(['Create', 'Update'], ascending=[True, False])\n",
    "\n",
    "for i in warehouse:\n",
    "        loop2 = the_oldest_assigned_tt_loop.query(f'Warehouse == \"{i}\"').head(1)\n",
    "        print(loop2)"
   ]
  },
  {
   "cell_type": "code",
   "execution_count": 74,
   "id": "d91bad05-7dbe-46ae-9eac-76475a97c48a",
   "metadata": {},
   "outputs": [
    {
     "name": "stdout",
     "output_type": "stream",
     "text": [
      "    Warehouse                     Create                     Update         ID\n",
      "525     SITE1  2022-11-04 12:03:31 +0100  2022-11-24 10:18:41 +0100  1943670.0\n",
      "    Warehouse                     Create                     Update         ID\n",
      "547     SITE2  2022-10-18 13:58:36 +0200  2022-11-22 08:45:01 +0100  1922688.0\n",
      "    Warehouse                     Create                     Update         ID\n",
      "654     SITE3  2021-09-16 10:30:15 +0200  2022-04-06 15:45:37 +0200  1459861.0\n",
      "     Warehouse                     Create                     Update  \\\n",
      "1011     SITE4  2022-05-10 07:26:53 +0200  2022-05-10 16:14:28 +0200   \n",
      "\n",
      "             ID  \n",
      "1011  1730691.0  \n",
      "    Warehouse                     Create                     Update         ID\n",
      "653     SITE5  2022-04-11 07:29:14 +0200  2022-04-15 13:09:07 +0200  1698483.0\n",
      "    Warehouse                     Create                     Update         ID\n",
      "751     SITE6  2022-06-20 17:10:37 +0200  2022-06-30 16:58:17 +0200  1781040.0\n",
      "    Warehouse                     Create                     Update         ID\n",
      "575     SITE7  2022-06-09 16:48:44 +0200  2022-10-17 18:06:24 +0200  1766317.0\n",
      "     Warehouse                     Create                     Update  \\\n",
      "1043     SITE8  2022-12-01 18:06:33 +0100  2022-12-01 18:06:33 +0100   \n",
      "\n",
      "             ID  \n",
      "1043  1977822.0  \n",
      "     Warehouse                     Create                     Update  \\\n",
      "1230     SITE9  2022-11-18 09:21:33 +0100  2022-12-01 13:26:38 +0100   \n",
      "\n",
      "             ID  \n",
      "1230  1960236.0  \n",
      "     Warehouse                     Create                     Update  \\\n",
      "1231    SITE10  2022-11-17 17:31:22 +0100  2022-12-01 13:08:32 +0100   \n",
      "\n",
      "             ID  \n",
      "1231  1959446.0  \n",
      "     Warehouse                     Create                     Update  \\\n",
      "1318    SITE11  2022-08-24 18:50:46 +0200  2022-08-24 18:50:46 +0200   \n",
      "\n",
      "             ID  \n",
      "1318  1858305.0  \n",
      "     Warehouse                     Create                     Update  \\\n",
      "1428    SITE12  2022-08-04 12:50:10 +0200  2022-08-04 12:50:10 +0200   \n",
      "\n",
      "             ID  \n",
      "1428  1834966.0  \n",
      "     Warehouse                     Create                     Update  \\\n",
      "1108    SITE13  2022-09-12 08:10:35 +0200  2022-11-29 16:15:22 +0100   \n",
      "\n",
      "             ID  \n",
      "1108  1878614.0  \n",
      "     Warehouse                     Create                     Update  \\\n",
      "1434    SITE14  2022-05-05 22:35:53 +0200  2022-05-09 14:03:19 +0200   \n",
      "\n",
      "             ID  \n",
      "1434  1726418.0  \n",
      "     Warehouse                     Create                     Update  \\\n",
      "1123    SITE15  2022-09-24 07:32:06 +0200  2022-11-28 03:16:29 +0100   \n",
      "\n",
      "             ID  \n",
      "1123  1892877.0  \n",
      "    Warehouse                     Create                     Update         ID\n",
      "656    SITE16  2021-09-02 14:38:30 +0200  2021-09-02 14:38:30 +0200  1445086.0\n",
      "    Warehouse                     Create                     Update         ID\n",
      "538    SITE17  2022-10-19 09:52:43 +0200  2022-11-22 15:12:18 +0100  1923663.0\n",
      "     Warehouse                     Create                     Update  \\\n",
      "1283    SITE18  2022-10-06 12:28:15 +0200  2022-11-28 10:50:58 +0100   \n",
      "\n",
      "             ID  \n",
      "1283  1908361.0  \n",
      "    Warehouse                     Create                     Update         ID\n",
      "708    SITE19  2022-10-31 09:50:50 +0100  2022-11-30 15:37:49 +0100  1937888.0\n",
      "    Warehouse                     Create                     Update         ID\n",
      "760    SITE20  2022-11-04 18:00:15 +0100  2022-11-23 10:09:30 +0100  1943920.0\n",
      "    Warehouse                     Create                     Update         ID\n",
      "944    SITE21  2022-09-27 06:50:30 +0200  2022-09-29 23:10:54 +0200  1896107.0\n",
      "     Warehouse                     Create                     Update  \\\n",
      "1025    SITE22  2021-08-11 12:44:55 +0200  2021-09-10 19:11:02 +0200   \n",
      "\n",
      "             ID  \n",
      "1025  1424483.0  \n",
      "     Warehouse                     Create                     Update  \\\n",
      "1148    SITE23  2020-07-03 11:13:58 +0200  2022-11-17 05:58:48 +0100   \n",
      "\n",
      "             ID  \n",
      "1148  1040563.0  \n",
      "    Warehouse                     Create                     Update         ID\n",
      "990    SITE24  2022-04-18 11:26:57 +0200  2022-06-24 12:38:43 +0200  1707446.0\n",
      "     Warehouse                     Create                     Update  \\\n",
      "1207    SITE25  2021-11-03 15:12:03 +0100  2021-11-03 15:12:03 +0100   \n",
      "\n",
      "             ID  \n",
      "1207  1515763.0  \n",
      "    Warehouse                     Create                     Update         ID\n",
      "834    SITE26  2022-10-10 14:55:11 +0200  2022-11-24 14:26:37 +0100  1912729.0\n",
      "    Warehouse                     Create                     Update         ID\n",
      "842    SITE27  2022-06-30 02:14:42 +0200  2022-11-24 09:25:41 +0100  1793743.0\n",
      "Empty DataFrame\n",
      "Columns: [Warehouse, Create, Update, ID]\n",
      "Index: []\n",
      "    Warehouse                     Create                     Update         ID\n",
      "172    SITE29  2022-12-01 09:57:50 +0100  2022-12-01 10:38:46 +0100  1977409.0\n",
      "    Warehouse                     Create                     Update         ID\n",
      "597    SITE30  2021-12-15 16:16:36 +0100  2022-10-03 16:54:24 +0200  1567681.0\n",
      "Empty DataFrame\n",
      "Columns: [Warehouse, Create, Update, ID]\n",
      "Index: []\n",
      "Empty DataFrame\n",
      "Columns: [Warehouse, Create, Update, ID]\n",
      "Index: []\n",
      "Empty DataFrame\n",
      "Columns: [Warehouse, Create, Update, ID]\n",
      "Index: []\n",
      "Empty DataFrame\n",
      "Columns: [Warehouse, Create, Update, ID]\n",
      "Index: []\n",
      "Empty DataFrame\n",
      "Columns: [Warehouse, Create, Update, ID]\n",
      "Index: []\n",
      "Empty DataFrame\n",
      "Columns: [Warehouse, Create, Update, ID]\n",
      "Index: []\n",
      "    Warehouse                     Create                     Update         ID\n",
      "751     SITE6  2022-06-20 17:10:37 +0200  2022-06-30 16:58:17 +0200  1781040.0\n"
     ]
    }
   ],
   "source": [
    "# OLDEST WHOLE\n",
    "\n",
    "the_oldest_whole_tt_loop = whole_scope[whole_scope_filter][['Warehouse', 'Create', 'Update', 'ID',]].sort_values(['Create', 'Update'], ascending=[True, False])\n",
    "\n",
    "for i in warehouse:\n",
    "        loop = the_oldest_whole_tt_loop.query(f'Warehouse == \"{i}\"').head(1)\n",
    "        print(loop)"
   ]
  },
  {
   "cell_type": "code",
   "execution_count": null,
   "id": "71c1be20-76b4-4fcc-85b0-41f8e116558f",
   "metadata": {},
   "outputs": [],
   "source": []
  },
  {
   "cell_type": "code",
   "execution_count": null,
   "id": "729edecd-db4e-466e-8fea-210885db2bd0",
   "metadata": {},
   "outputs": [],
   "source": []
  }
 ],
 "metadata": {
  "kernelspec": {
   "display_name": "Python 3 (ipykernel)",
   "language": "python",
   "name": "python3"
  },
  "language_info": {
   "codemirror_mode": {
    "name": "ipython",
    "version": 3
   },
   "file_extension": ".py",
   "mimetype": "text/x-python",
   "name": "python",
   "nbconvert_exporter": "python",
   "pygments_lexer": "ipython3",
   "version": "3.9.12"
  }
 },
 "nbformat": 4,
 "nbformat_minor": 5
}
